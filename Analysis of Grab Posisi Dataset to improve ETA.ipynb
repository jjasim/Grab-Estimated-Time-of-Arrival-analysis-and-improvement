{
  "nbformat": 4,
  "nbformat_minor": 0,
  "metadata": {
    "colab": {
      "name": "Urban vs Rural Analysis for Jakarta.ipynb",
      "provenance": [],
      "collapsed_sections": [],
      "authorship_tag": "ABX9TyPpQhVSnaP8l6fOPbYY3d5K",
      "include_colab_link": true
    },
    "kernelspec": {
      "name": "python3",
      "display_name": "Python 3"
    },
    "language_info": {
      "name": "python"
    }
  },
  "cells": [
    {
      "cell_type": "markdown",
      "metadata": {
        "id": "view-in-github",
        "colab_type": "text"
      },
      "source": [
        "<a href=\"https://colab.research.google.com/github/jjasim/Grab-Estimated-Time-of-Arrival-analysis-and-improvement/blob/main/Analysis%20of%20Grab%20Posisi%20Dataset%20to%20improve%20ETA.ipynb\" target=\"_parent\"><img src=\"https://colab.research.google.com/assets/colab-badge.svg\" alt=\"Open In Colab\"/></a>"
      ]
    },
    {
      "cell_type": "markdown",
      "source": [
        "**Analysis of Grab-Posisi Dataset to gain insights about Estimated time of Arrival (ETA)**\n",
        "\n",
        "This notebook will primarily take a look at the differences in trends between rural and urban areas. The main motivation behind this is as Grab uses average values of speed and ETA to predict ETAs of vehicles in and around Jakarta. However, these values would be skewed by values from within the city.\n",
        "\n",
        "This would then result in inaccurate ETAs outside the city. This is inline with Grab's problem of a substantial minority complaining about inaacurate ETAs. Through my analysis, I suggest that the ETAs outside of the cities are underestimated. This underestimation is driven by differences in speeds and GPS accuracy within and outside Jakarta.\n",
        "\n",
        "\n",
        "As such, the notebook will have three successive sections.\n",
        "\n",
        "1) Data used and perimeter of Jakarta\n",
        "\n",
        "2) Speed of Vehicles within and outside of Jakarta\n",
        "\n",
        "3) GPS Accuracy within and outside Jakarta\n",
        "\n",
        "*Open this notebook in Colab by clicking the tab above to render map visualisations in this analysis*\n"
      ],
      "metadata": {
        "id": "6NBC4MdJ5W9T"
      }
    },
    {
      "cell_type": "markdown",
      "source": [
        "**1) Data used and perimeter of Jakarta**"
      ],
      "metadata": {
        "id": "iWMfR8rO7Ixc"
      }
    },
    {
      "cell_type": "code",
      "execution_count": null,
      "metadata": {
        "id": "lR7Sc4q82mYr"
      },
      "outputs": [],
      "source": [
        "!pip install pyarrow\n",
        "!pip install fastparquet\n",
        "!pip install dask\n",
        "!pip install 'fsspec>=0.3.3'\n",
        "!pip install geopandas\n",
        "!pip install folium\n",
        "\n",
        "import pandas as pd\n",
        "import glob\n",
        "import matplotlib.pyplot as plt\n",
        "from bs4 import BeautifulSoup\n",
        "import sys\n",
        "\n",
        "import dask\n",
        "import dask.dataframe as dd\n",
        "\n",
        "import fiona\n",
        "fiona.drvsupport.supported_drivers['kml'] = 'rw' \n",
        "fiona.drvsupport.supported_drivers['KML'] = 'rw' \n"
      ]
    },
    {
      "cell_type": "code",
      "source": [
        "from google.colab import drive\n",
        "drive.mount('/content/drive')"
      ],
      "metadata": {
        "id": "oTtWAbBKm4to",
        "colab": {
          "base_uri": "https://localhost:8080/"
        },
        "outputId": "6ca90c7c-fbd8-489d-e29c-4f3ed533302e"
      },
      "execution_count": null,
      "outputs": [
        {
          "output_type": "stream",
          "name": "stdout",
          "text": [
            "Drive already mounted at /content/drive; to attempt to forcibly remount, call drive.mount(\"/content/drive\", force_remount=True).\n"
          ]
        }
      ]
    },
    {
      "cell_type": "code",
      "source": [
        "jak_files = glob.glob(\"/content/drive/MyDrive/grab-posis-city=Jakarta/city=Jakarta/*.parquet\")\n",
        "jak_files"
      ],
      "metadata": {
        "id": "HVWnMXK6tncv",
        "colab": {
          "base_uri": "https://localhost:8080/"
        },
        "outputId": "e6cbfcf8-2a24-464d-cc6b-09a59854c42b"
      },
      "execution_count": null,
      "outputs": [
        {
          "output_type": "execute_result",
          "data": {
            "text/plain": [
              "['/content/drive/MyDrive/grab-posis-city=Jakarta/city=Jakarta/part0.parquet',\n",
              " '/content/drive/MyDrive/grab-posis-city=Jakarta/city=Jakarta/part-00004-8bbff892-97d2-4011-9961-703e38972569.c000.snappy.parquet',\n",
              " '/content/drive/MyDrive/grab-posis-city=Jakarta/city=Jakarta/part-00008-8bbff892-97d2-4011-9961-703e38972569.c000.snappy.parquet',\n",
              " '/content/drive/MyDrive/grab-posis-city=Jakarta/city=Jakarta/part-00007-8bbff892-97d2-4011-9961-703e38972569.c000.snappy.parquet',\n",
              " '/content/drive/MyDrive/grab-posis-city=Jakarta/city=Jakarta/part-00009-8bbff892-97d2-4011-9961-703e38972569.c000.snappy.parquet',\n",
              " '/content/drive/MyDrive/grab-posis-city=Jakarta/city=Jakarta/part-00005-8bbff892-97d2-4011-9961-703e38972569.c000.snappy.parquet',\n",
              " '/content/drive/MyDrive/grab-posis-city=Jakarta/city=Jakarta/part-00003-8bbff892-97d2-4011-9961-703e38972569.c000.snappy.parquet',\n",
              " '/content/drive/MyDrive/grab-posis-city=Jakarta/city=Jakarta/part-00006-8bbff892-97d2-4011-9961-703e38972569.c000.snappy.parquet',\n",
              " '/content/drive/MyDrive/grab-posis-city=Jakarta/city=Jakarta/part-00002-8bbff892-97d2-4011-9961-703e38972569.c000.snappy.parquet',\n",
              " '/content/drive/MyDrive/grab-posis-city=Jakarta/city=Jakarta/part-00001-8bbff892-97d2-4011-9961-703e38972569.c000.snappy.parquet']"
            ]
          },
          "metadata": {},
          "execution_count": 85
        }
      ]
    },
    {
      "cell_type": "code",
      "source": [
        "df = pd.read_parquet(jak_files[0])\n"
      ],
      "metadata": {
        "id": "MoO0tSVNkY6t"
      },
      "execution_count": null,
      "outputs": []
    },
    {
      "cell_type": "code",
      "source": [
        "# combine the parquets\n",
        "df_list = []\n",
        "\n",
        "for jak_par in jak_files:\n",
        "  df_list.append(dd.read_parquet(jak_par))\n",
        "\n",
        "df = dd.concat(df_list)\n",
        "\n",
        "df['trj_id'] = df['trj_id'].astype('category')\n",
        "df['driving_mode'] = df['driving_mode'].astype('category')\n",
        "df['osname'] = df['osname'].astype('category')\n",
        "df['pingtimestamp'] = df['pingtimestamp'].astype('int32')\n",
        "df['rawlat'] = df['rawlat'].astype('float32')\n",
        "df['rawlng'] = df['rawlng'].astype('float32')\n",
        "df['speed'] = df['speed'].astype('float32')\n",
        "df['bearing'] = df['bearing'].astype('int32')\n",
        "df['accuracy'] = df['accuracy'].astype('float32')"
      ],
      "metadata": {
        "id": "EVp11Wh_aHN6",
        "colab": {
          "base_uri": "https://localhost:8080/"
        },
        "outputId": "693af388-1ec8-400b-b5d3-3e5c4b33f7cc"
      },
      "execution_count": null,
      "outputs": [
        {
          "output_type": "stream",
          "name": "stderr",
          "text": [
            "/usr/local/lib/python3.7/dist-packages/pandas/core/arrays/categorical.py:2631: FutureWarning: The `inplace` parameter in pandas.Categorical.set_categories is deprecated and will be removed in a future version. Removing unused categories will always return a new Categorical object.\n",
            "  res = method(*args, **kwargs)\n"
          ]
        }
      ]
    },
    {
      "cell_type": "code",
      "source": [
        "df.compute().describe(include=\"all\")"
      ],
      "metadata": {
        "colab": {
          "base_uri": "https://localhost:8080/",
          "height": 394
        },
        "id": "ta6A76RjZoh8",
        "outputId": "c3d66eea-8326-4f31-a2f5-b421bc31f943"
      },
      "execution_count": null,
      "outputs": [
        {
          "output_type": "execute_result",
          "data": {
            "text/html": [
              "\n",
              "  <div id=\"df-5d32d35c-8b4b-421d-b62b-45e380a980c0\">\n",
              "    <div class=\"colab-df-container\">\n",
              "      <div>\n",
              "<style scoped>\n",
              "    .dataframe tbody tr th:only-of-type {\n",
              "        vertical-align: middle;\n",
              "    }\n",
              "\n",
              "    .dataframe tbody tr th {\n",
              "        vertical-align: top;\n",
              "    }\n",
              "\n",
              "    .dataframe thead th {\n",
              "        text-align: right;\n",
              "    }\n",
              "</style>\n",
              "<table border=\"1\" class=\"dataframe\">\n",
              "  <thead>\n",
              "    <tr style=\"text-align: right;\">\n",
              "      <th></th>\n",
              "      <th>trj_id</th>\n",
              "      <th>driving_mode</th>\n",
              "      <th>osname</th>\n",
              "      <th>pingtimestamp</th>\n",
              "      <th>rawlat</th>\n",
              "      <th>rawlng</th>\n",
              "      <th>speed</th>\n",
              "      <th>bearing</th>\n",
              "      <th>accuracy</th>\n",
              "    </tr>\n",
              "  </thead>\n",
              "  <tbody>\n",
              "    <tr>\n",
              "      <th>count</th>\n",
              "      <td>55988420</td>\n",
              "      <td>55988420</td>\n",
              "      <td>55988420</td>\n",
              "      <td>5.598842e+07</td>\n",
              "      <td>5.598842e+07</td>\n",
              "      <td>5.598842e+07</td>\n",
              "      <td>5.598842e+07</td>\n",
              "      <td>5.598842e+07</td>\n",
              "      <td>5.598842e+07</td>\n",
              "    </tr>\n",
              "    <tr>\n",
              "      <th>unique</th>\n",
              "      <td>55995</td>\n",
              "      <td>2</td>\n",
              "      <td>2</td>\n",
              "      <td>NaN</td>\n",
              "      <td>NaN</td>\n",
              "      <td>NaN</td>\n",
              "      <td>NaN</td>\n",
              "      <td>NaN</td>\n",
              "      <td>NaN</td>\n",
              "    </tr>\n",
              "    <tr>\n",
              "      <th>top</th>\n",
              "      <td>16886</td>\n",
              "      <td>car</td>\n",
              "      <td>android</td>\n",
              "      <td>NaN</td>\n",
              "      <td>NaN</td>\n",
              "      <td>NaN</td>\n",
              "      <td>NaN</td>\n",
              "      <td>NaN</td>\n",
              "      <td>NaN</td>\n",
              "    </tr>\n",
              "    <tr>\n",
              "      <th>freq</th>\n",
              "      <td>19268</td>\n",
              "      <td>30198297</td>\n",
              "      <td>38762775</td>\n",
              "      <td>NaN</td>\n",
              "      <td>NaN</td>\n",
              "      <td>NaN</td>\n",
              "      <td>NaN</td>\n",
              "      <td>NaN</td>\n",
              "      <td>NaN</td>\n",
              "    </tr>\n",
              "    <tr>\n",
              "      <th>mean</th>\n",
              "      <td>NaN</td>\n",
              "      <td>NaN</td>\n",
              "      <td>NaN</td>\n",
              "      <td>1.555361e+09</td>\n",
              "      <td>-2.397241e+00</td>\n",
              "      <td>3.835585e+01</td>\n",
              "      <td>5.544520e+00</td>\n",
              "      <td>1.713197e+02</td>\n",
              "      <td>4.840411e+00</td>\n",
              "    </tr>\n",
              "    <tr>\n",
              "      <th>std</th>\n",
              "      <td>NaN</td>\n",
              "      <td>NaN</td>\n",
              "      <td>NaN</td>\n",
              "      <td>3.634432e+05</td>\n",
              "      <td>2.599494e+00</td>\n",
              "      <td>4.954568e+01</td>\n",
              "      <td>5.047708e+00</td>\n",
              "      <td>1.086182e+02</td>\n",
              "      <td>2.044325e+01</td>\n",
              "    </tr>\n",
              "    <tr>\n",
              "      <th>min</th>\n",
              "      <td>NaN</td>\n",
              "      <td>NaN</td>\n",
              "      <td>NaN</td>\n",
              "      <td>1.554682e+09</td>\n",
              "      <td>-6.879017e+00</td>\n",
              "      <td>1.058844e+02</td>\n",
              "      <td>-1.000000e+00</td>\n",
              "      <td>0.000000e+00</td>\n",
              "      <td>1.000000e-02</td>\n",
              "    </tr>\n",
              "    <tr>\n",
              "      <th>25%</th>\n",
              "      <td>NaN</td>\n",
              "      <td>NaN</td>\n",
              "      <td>NaN</td>\n",
              "      <td>1.555044e+09</td>\n",
              "      <td>-6.296425e+00</td>\n",
              "      <td>1.067699e+02</td>\n",
              "      <td>4.012260e+00</td>\n",
              "      <td>8.300000e+01</td>\n",
              "      <td>3.900000e+00</td>\n",
              "    </tr>\n",
              "    <tr>\n",
              "      <th>50%</th>\n",
              "      <td>NaN</td>\n",
              "      <td>NaN</td>\n",
              "      <td>NaN</td>\n",
              "      <td>1.555412e+09</td>\n",
              "      <td>-6.235238e+00</td>\n",
              "      <td>1.068222e+02</td>\n",
              "      <td>7.300000e+00</td>\n",
              "      <td>1.740000e+02</td>\n",
              "      <td>5.000000e+00</td>\n",
              "    </tr>\n",
              "    <tr>\n",
              "      <th>75%</th>\n",
              "      <td>NaN</td>\n",
              "      <td>NaN</td>\n",
              "      <td>NaN</td>\n",
              "      <td>1.555674e+09</td>\n",
              "      <td>-6.186389e+00</td>\n",
              "      <td>1.068780e+02</td>\n",
              "      <td>1.049000e+01</td>\n",
              "      <td>2.680000e+02</td>\n",
              "      <td>8.405000e+00</td>\n",
              "    </tr>\n",
              "    <tr>\n",
              "      <th>max</th>\n",
              "      <td>NaN</td>\n",
              "      <td>NaN</td>\n",
              "      <td>NaN</td>\n",
              "      <td>1.555891e+09</td>\n",
              "      <td>-5.923740e+00</td>\n",
              "      <td>1.079311e+02</td>\n",
              "      <td>9.263610e+01</td>\n",
              "      <td>3.590000e+02</td>\n",
              "      <td>1.490000e+05</td>\n",
              "    </tr>\n",
              "  </tbody>\n",
              "</table>\n",
              "</div>\n",
              "      <button class=\"colab-df-convert\" onclick=\"convertToInteractive('df-5d32d35c-8b4b-421d-b62b-45e380a980c0')\"\n",
              "              title=\"Convert this dataframe to an interactive table.\"\n",
              "              style=\"display:none;\">\n",
              "        \n",
              "  <svg xmlns=\"http://www.w3.org/2000/svg\" height=\"24px\"viewBox=\"0 0 24 24\"\n",
              "       width=\"24px\">\n",
              "    <path d=\"M0 0h24v24H0V0z\" fill=\"none\"/>\n",
              "    <path d=\"M18.56 5.44l.94 2.06.94-2.06 2.06-.94-2.06-.94-.94-2.06-.94 2.06-2.06.94zm-11 1L8.5 8.5l.94-2.06 2.06-.94-2.06-.94L8.5 2.5l-.94 2.06-2.06.94zm10 10l.94 2.06.94-2.06 2.06-.94-2.06-.94-.94-2.06-.94 2.06-2.06.94z\"/><path d=\"M17.41 7.96l-1.37-1.37c-.4-.4-.92-.59-1.43-.59-.52 0-1.04.2-1.43.59L10.3 9.45l-7.72 7.72c-.78.78-.78 2.05 0 2.83L4 21.41c.39.39.9.59 1.41.59.51 0 1.02-.2 1.41-.59l7.78-7.78 2.81-2.81c.8-.78.8-2.07 0-2.86zM5.41 20L4 18.59l7.72-7.72 1.47 1.35L5.41 20z\"/>\n",
              "  </svg>\n",
              "      </button>\n",
              "      \n",
              "  <style>\n",
              "    .colab-df-container {\n",
              "      display:flex;\n",
              "      flex-wrap:wrap;\n",
              "      gap: 12px;\n",
              "    }\n",
              "\n",
              "    .colab-df-convert {\n",
              "      background-color: #E8F0FE;\n",
              "      border: none;\n",
              "      border-radius: 50%;\n",
              "      cursor: pointer;\n",
              "      display: none;\n",
              "      fill: #1967D2;\n",
              "      height: 32px;\n",
              "      padding: 0 0 0 0;\n",
              "      width: 32px;\n",
              "    }\n",
              "\n",
              "    .colab-df-convert:hover {\n",
              "      background-color: #E2EBFA;\n",
              "      box-shadow: 0px 1px 2px rgba(60, 64, 67, 0.3), 0px 1px 3px 1px rgba(60, 64, 67, 0.15);\n",
              "      fill: #174EA6;\n",
              "    }\n",
              "\n",
              "    [theme=dark] .colab-df-convert {\n",
              "      background-color: #3B4455;\n",
              "      fill: #D2E3FC;\n",
              "    }\n",
              "\n",
              "    [theme=dark] .colab-df-convert:hover {\n",
              "      background-color: #434B5C;\n",
              "      box-shadow: 0px 1px 3px 1px rgba(0, 0, 0, 0.15);\n",
              "      filter: drop-shadow(0px 1px 2px rgba(0, 0, 0, 0.3));\n",
              "      fill: #FFFFFF;\n",
              "    }\n",
              "  </style>\n",
              "\n",
              "      <script>\n",
              "        const buttonEl =\n",
              "          document.querySelector('#df-5d32d35c-8b4b-421d-b62b-45e380a980c0 button.colab-df-convert');\n",
              "        buttonEl.style.display =\n",
              "          google.colab.kernel.accessAllowed ? 'block' : 'none';\n",
              "\n",
              "        async function convertToInteractive(key) {\n",
              "          const element = document.querySelector('#df-5d32d35c-8b4b-421d-b62b-45e380a980c0');\n",
              "          const dataTable =\n",
              "            await google.colab.kernel.invokeFunction('convertToInteractive',\n",
              "                                                     [key], {});\n",
              "          if (!dataTable) return;\n",
              "\n",
              "          const docLinkHtml = 'Like what you see? Visit the ' +\n",
              "            '<a target=\"_blank\" href=https://colab.research.google.com/notebooks/data_table.ipynb>data table notebook</a>'\n",
              "            + ' to learn more about interactive tables.';\n",
              "          element.innerHTML = '';\n",
              "          dataTable['output_type'] = 'display_data';\n",
              "          await google.colab.output.renderOutput(dataTable, element);\n",
              "          const docLink = document.createElement('div');\n",
              "          docLink.innerHTML = docLinkHtml;\n",
              "          element.appendChild(docLink);\n",
              "        }\n",
              "      </script>\n",
              "    </div>\n",
              "  </div>\n",
              "  "
            ],
            "text/plain": [
              "          trj_id driving_mode  ...       bearing      accuracy\n",
              "count   55988420     55988420  ...  5.598842e+07  5.598842e+07\n",
              "unique     55995            2  ...           NaN           NaN\n",
              "top        16886          car  ...           NaN           NaN\n",
              "freq       19268     30198297  ...           NaN           NaN\n",
              "mean         NaN          NaN  ...  1.713197e+02  4.840411e+00\n",
              "std          NaN          NaN  ...  1.086182e+02  2.044325e+01\n",
              "min          NaN          NaN  ...  0.000000e+00  1.000000e-02\n",
              "25%          NaN          NaN  ...  8.300000e+01  3.900000e+00\n",
              "50%          NaN          NaN  ...  1.740000e+02  5.000000e+00\n",
              "75%          NaN          NaN  ...  2.680000e+02  8.405000e+00\n",
              "max          NaN          NaN  ...  3.590000e+02  1.490000e+05\n",
              "\n",
              "[11 rows x 9 columns]"
            ]
          },
          "metadata": {},
          "execution_count": 88
        }
      ]
    },
    {
      "cell_type": "code",
      "source": [
        "import dask.bag as db\n",
        "import folium\n",
        "import branca.colormap\n",
        "from collections import defaultdict\n",
        "\n",
        "map = folium.Map(location=[-6.214015, 106.843735],\n",
        "           zoom_start = 11.2)\n",
        "\n",
        "coordinates = [[-6.09611, 106.68944],\n",
        "               [-6.09133, 106.97097],\n",
        "               [-6.36438, 106.9847],\n",
        "               [-6.37052, 106.69562],\n",
        "               [-6.09611, 106.68944]]\n",
        "\n",
        "jakarta_line = folium.PolyLine(locations = coordinates, weight = 5)\n",
        "map.add_child(jakarta_line)\n",
        "\n",
        "map"
      ],
      "metadata": {
        "colab": {
          "base_uri": "https://localhost:8080/",
          "height": 904
        },
        "id": "dU7lFTkzRPao",
        "outputId": "a6837dc5-2e81-48ce-8b8a-510b5f7e70da"
      },
      "execution_count": null,
      "outputs": [
        {
          "output_type": "execute_result",
          "data": {
            "text/html": [
              "<div style=\"width:100%;\"><div style=\"position:relative;width:100%;height:0;padding-bottom:60%;\"><span style=\"color:#565656\">Make this Notebook Trusted to load map: File -> Trust Notebook</span><iframe src=\"about:blank\" style=\"position:absolute;width:100%;height:100%;left:0;top:0;border:none !important;\" data-html=%3C%21DOCTYPE%20html%3E%0A%3Chead%3E%20%20%20%20%0A%20%20%20%20%3Cmeta%20http-equiv%3D%22content-type%22%20content%3D%22text/html%3B%20charset%3DUTF-8%22%20/%3E%0A%20%20%20%20%3Cscript%3EL_PREFER_CANVAS%3Dfalse%3B%20L_NO_TOUCH%3Dfalse%3B%20L_DISABLE_3D%3Dfalse%3B%3C/script%3E%0A%20%20%20%20%3Cscript%20src%3D%22https%3A//cdn.jsdelivr.net/npm/leaflet%401.4.0/dist/leaflet.js%22%3E%3C/script%3E%0A%20%20%20%20%3Cscript%20src%3D%22https%3A//code.jquery.com/jquery-1.12.4.min.js%22%3E%3C/script%3E%0A%20%20%20%20%3Cscript%20src%3D%22https%3A//maxcdn.bootstrapcdn.com/bootstrap/3.2.0/js/bootstrap.min.js%22%3E%3C/script%3E%0A%20%20%20%20%3Cscript%20src%3D%22https%3A//cdnjs.cloudflare.com/ajax/libs/Leaflet.awesome-markers/2.0.2/leaflet.awesome-markers.js%22%3E%3C/script%3E%0A%20%20%20%20%3Clink%20rel%3D%22stylesheet%22%20href%3D%22https%3A//cdn.jsdelivr.net/npm/leaflet%401.4.0/dist/leaflet.css%22/%3E%0A%20%20%20%20%3Clink%20rel%3D%22stylesheet%22%20href%3D%22https%3A//maxcdn.bootstrapcdn.com/bootstrap/3.2.0/css/bootstrap.min.css%22/%3E%0A%20%20%20%20%3Clink%20rel%3D%22stylesheet%22%20href%3D%22https%3A//maxcdn.bootstrapcdn.com/bootstrap/3.2.0/css/bootstrap-theme.min.css%22/%3E%0A%20%20%20%20%3Clink%20rel%3D%22stylesheet%22%20href%3D%22https%3A//maxcdn.bootstrapcdn.com/font-awesome/4.6.3/css/font-awesome.min.css%22/%3E%0A%20%20%20%20%3Clink%20rel%3D%22stylesheet%22%20href%3D%22https%3A//cdnjs.cloudflare.com/ajax/libs/Leaflet.awesome-markers/2.0.2/leaflet.awesome-markers.css%22/%3E%0A%20%20%20%20%3Clink%20rel%3D%22stylesheet%22%20href%3D%22https%3A//rawcdn.githack.com/python-visualization/folium/master/folium/templates/leaflet.awesome.rotate.css%22/%3E%0A%20%20%20%20%3Cstyle%3Ehtml%2C%20body%20%7Bwidth%3A%20100%25%3Bheight%3A%20100%25%3Bmargin%3A%200%3Bpadding%3A%200%3B%7D%3C/style%3E%0A%20%20%20%20%3Cstyle%3E%23map%20%7Bposition%3Aabsolute%3Btop%3A0%3Bbottom%3A0%3Bright%3A0%3Bleft%3A0%3B%7D%3C/style%3E%0A%20%20%20%20%0A%20%20%20%20%3Cmeta%20name%3D%22viewport%22%20content%3D%22width%3Ddevice-width%2C%0A%20%20%20%20%20%20%20%20initial-scale%3D1.0%2C%20maximum-scale%3D1.0%2C%20user-scalable%3Dno%22%20/%3E%0A%20%20%20%20%3Cstyle%3E%23map_2cbb929467e34534bd25e2695965a427%20%7B%0A%20%20%20%20%20%20%20%20position%3A%20relative%3B%0A%20%20%20%20%20%20%20%20width%3A%20100.0%25%3B%0A%20%20%20%20%20%20%20%20height%3A%20100.0%25%3B%0A%20%20%20%20%20%20%20%20left%3A%200.0%25%3B%0A%20%20%20%20%20%20%20%20top%3A%200.0%25%3B%0A%20%20%20%20%20%20%20%20%7D%0A%20%20%20%20%3C/style%3E%0A%3C/head%3E%0A%3Cbody%3E%20%20%20%20%0A%20%20%20%20%0A%20%20%20%20%3Cdiv%20class%3D%22folium-map%22%20id%3D%22map_2cbb929467e34534bd25e2695965a427%22%20%3E%3C/div%3E%0A%3C/body%3E%0A%3Cscript%3E%20%20%20%20%0A%20%20%20%20%0A%20%20%20%20%0A%20%20%20%20%20%20%20%20var%20bounds%20%3D%20null%3B%0A%20%20%20%20%0A%0A%20%20%20%20var%20map_2cbb929467e34534bd25e2695965a427%20%3D%20L.map%28%0A%20%20%20%20%20%20%20%20%27map_2cbb929467e34534bd25e2695965a427%27%2C%20%7B%0A%20%20%20%20%20%20%20%20center%3A%20%5B-6.214015%2C%20106.843735%5D%2C%0A%20%20%20%20%20%20%20%20zoom%3A%2011.2%2C%0A%20%20%20%20%20%20%20%20maxBounds%3A%20bounds%2C%0A%20%20%20%20%20%20%20%20layers%3A%20%5B%5D%2C%0A%20%20%20%20%20%20%20%20worldCopyJump%3A%20false%2C%0A%20%20%20%20%20%20%20%20crs%3A%20L.CRS.EPSG3857%2C%0A%20%20%20%20%20%20%20%20zoomControl%3A%20true%2C%0A%20%20%20%20%20%20%20%20%7D%29%3B%0A%0A%0A%20%20%20%20%0A%20%20%20%20var%20tile_layer_e861e08dfc46417a8810a9b405bfb190%20%3D%20L.tileLayer%28%0A%20%20%20%20%20%20%20%20%27https%3A//%7Bs%7D.tile.openstreetmap.org/%7Bz%7D/%7Bx%7D/%7By%7D.png%27%2C%0A%20%20%20%20%20%20%20%20%7B%0A%20%20%20%20%20%20%20%20%22attribution%22%3A%20null%2C%0A%20%20%20%20%20%20%20%20%22detectRetina%22%3A%20false%2C%0A%20%20%20%20%20%20%20%20%22maxNativeZoom%22%3A%2018%2C%0A%20%20%20%20%20%20%20%20%22maxZoom%22%3A%2018%2C%0A%20%20%20%20%20%20%20%20%22minZoom%22%3A%200%2C%0A%20%20%20%20%20%20%20%20%22noWrap%22%3A%20false%2C%0A%20%20%20%20%20%20%20%20%22opacity%22%3A%201%2C%0A%20%20%20%20%20%20%20%20%22subdomains%22%3A%20%22abc%22%2C%0A%20%20%20%20%20%20%20%20%22tms%22%3A%20false%0A%7D%29.addTo%28map_2cbb929467e34534bd25e2695965a427%29%3B%0A%20%20%20%20%0A%20%20%20%20%20%20%20%20%20%20%20%20%20%20%20%20var%20poly_line_162a37cc9bd742e49f22ec5def9d79a2%20%3D%20L.polyline%28%0A%20%20%20%20%20%20%20%20%20%20%20%20%20%20%20%20%20%20%20%20%5B%5B-6.09611%2C%20106.68944%5D%2C%20%5B-6.09133%2C%20106.97097%5D%2C%20%5B-6.36438%2C%20106.9847%5D%2C%20%5B-6.37052%2C%20106.69562%5D%2C%20%5B-6.09611%2C%20106.68944%5D%5D%2C%0A%20%20%20%20%20%20%20%20%20%20%20%20%20%20%20%20%20%20%20%20%7B%0A%20%20%22bubblingMouseEvents%22%3A%20true%2C%0A%20%20%22color%22%3A%20%22%233388ff%22%2C%0A%20%20%22dashArray%22%3A%20null%2C%0A%20%20%22dashOffset%22%3A%20null%2C%0A%20%20%22fill%22%3A%20false%2C%0A%20%20%22fillColor%22%3A%20%22%233388ff%22%2C%0A%20%20%22fillOpacity%22%3A%200.2%2C%0A%20%20%22fillRule%22%3A%20%22evenodd%22%2C%0A%20%20%22lineCap%22%3A%20%22round%22%2C%0A%20%20%22lineJoin%22%3A%20%22round%22%2C%0A%20%20%22noClip%22%3A%20false%2C%0A%20%20%22opacity%22%3A%201.0%2C%0A%20%20%22smoothFactor%22%3A%201.0%2C%0A%20%20%22stroke%22%3A%20true%2C%0A%20%20%22weight%22%3A%205%0A%7D%0A%20%20%20%20%20%20%20%20%20%20%20%20%20%20%20%20%20%20%20%20%29%0A%20%20%20%20%20%20%20%20%20%20%20%20%20%20%20%20%20%20%20%20.addTo%28map_2cbb929467e34534bd25e2695965a427%29%3B%0A%20%20%20%20%20%20%20%20%20%20%20%20%0A%3C/script%3E onload=\"this.contentDocument.open();this.contentDocument.write(    decodeURIComponent(this.getAttribute('data-html')));this.contentDocument.close();\" allowfullscreen webkitallowfullscreen mozallowfullscreen></iframe></div></div>"
            ],
            "text/plain": [
              "<folium.folium.Map at 0x7faf23953a50>"
            ]
          },
          "metadata": {},
          "execution_count": 119
        }
      ]
    },
    {
      "cell_type": "markdown",
      "source": [
        "A square of 30km by 30km was overlayed on Jakarta city (centred on -6.20, 106.81), and denoted as the region enclosing Jakarta city.\n",
        "\n",
        "All datapoints outside this square are considered to be outside of Jakarta.\n",
        "\n",
        "Using this distinction, an analysis of the impact of urban regions (represented by Jakarta) and rural/sub-urban regions on speed and accuracy will be made. Subsequently, this will be used to identify any potential impacts on inaccurate predictions of ETA."
      ],
      "metadata": {
        "id": "OO6hJo-L_pEB"
      }
    },
    {
      "cell_type": "code",
      "source": [
        "incity = df[(-6.33981 < df.rawlat) & (df.rawlat < -6.09133) & (106.68944 < df.rawlng) & (df.rawlng < 106.97097)]\n",
        "outcity = df[~(-6.33981 < df.rawlat) & (df.rawlat < -6.09133) & (106.68944 < df.rawlng) & (df.rawlng < 106.97097)]\n",
        "\n",
        "total = df['speed'].compute().count()\n",
        "totalincity = incity['speed'].compute().count()\n",
        "totaloutcity = outcity['speed'].compute().count()\n",
        "\n",
        "print(f'Number of datapoints: {total}')\n",
        "print(f'Number of datapoints within city: {totalincity}')\n",
        "print(f'Number of datapoints outside city: {totaloutcity}')"
      ],
      "metadata": {
        "id": "QYnU24xq2mXM",
        "colab": {
          "base_uri": "https://localhost:8080/"
        },
        "outputId": "b6dddb5d-9b82-40d2-d0d3-18ab76928dc4"
      },
      "execution_count": null,
      "outputs": [
        {
          "output_type": "stream",
          "name": "stdout",
          "text": [
            "Number of datapoints: 55988420\n",
            "Number of datapoints within city: 36983349\n",
            "Number of datapoints outside city: 8224410\n"
          ]
        }
      ]
    },
    {
      "cell_type": "code",
      "source": [
        "incity.compute().describe(include=\"all\")"
      ],
      "metadata": {
        "colab": {
          "base_uri": "https://localhost:8080/",
          "height": 394
        },
        "id": "oJa4xBo5wXsn",
        "outputId": "52a05fa1-ebcb-4603-df92-06b8935918a4"
      },
      "execution_count": null,
      "outputs": [
        {
          "output_type": "execute_result",
          "data": {
            "text/html": [
              "\n",
              "  <div id=\"df-4e5b4ad4-0464-48e7-b041-cea90e0c3934\">\n",
              "    <div class=\"colab-df-container\">\n",
              "      <div>\n",
              "<style scoped>\n",
              "    .dataframe tbody tr th:only-of-type {\n",
              "        vertical-align: middle;\n",
              "    }\n",
              "\n",
              "    .dataframe tbody tr th {\n",
              "        vertical-align: top;\n",
              "    }\n",
              "\n",
              "    .dataframe thead th {\n",
              "        text-align: right;\n",
              "    }\n",
              "</style>\n",
              "<table border=\"1\" class=\"dataframe\">\n",
              "  <thead>\n",
              "    <tr style=\"text-align: right;\">\n",
              "      <th></th>\n",
              "      <th>trj_id</th>\n",
              "      <th>driving_mode</th>\n",
              "      <th>osname</th>\n",
              "      <th>pingtimestamp</th>\n",
              "      <th>rawlat</th>\n",
              "      <th>rawlng</th>\n",
              "      <th>speed</th>\n",
              "      <th>bearing</th>\n",
              "      <th>accuracy</th>\n",
              "    </tr>\n",
              "  </thead>\n",
              "  <tbody>\n",
              "    <tr>\n",
              "      <th>count</th>\n",
              "      <td>36983349</td>\n",
              "      <td>36983349</td>\n",
              "      <td>36983349</td>\n",
              "      <td>3.698335e+07</td>\n",
              "      <td>3.698335e+07</td>\n",
              "      <td>3.698335e+07</td>\n",
              "      <td>3.698335e+07</td>\n",
              "      <td>3.698335e+07</td>\n",
              "      <td>3.698335e+07</td>\n",
              "    </tr>\n",
              "    <tr>\n",
              "      <th>unique</th>\n",
              "      <td>41976</td>\n",
              "      <td>2</td>\n",
              "      <td>2</td>\n",
              "      <td>NaN</td>\n",
              "      <td>NaN</td>\n",
              "      <td>NaN</td>\n",
              "      <td>NaN</td>\n",
              "      <td>NaN</td>\n",
              "      <td>NaN</td>\n",
              "    </tr>\n",
              "    <tr>\n",
              "      <th>top</th>\n",
              "      <td>50492</td>\n",
              "      <td>car</td>\n",
              "      <td>android</td>\n",
              "      <td>NaN</td>\n",
              "      <td>NaN</td>\n",
              "      <td>NaN</td>\n",
              "      <td>NaN</td>\n",
              "      <td>NaN</td>\n",
              "      <td>NaN</td>\n",
              "    </tr>\n",
              "    <tr>\n",
              "      <th>freq</th>\n",
              "      <td>8859</td>\n",
              "      <td>20239021</td>\n",
              "      <td>24575284</td>\n",
              "      <td>NaN</td>\n",
              "      <td>NaN</td>\n",
              "      <td>NaN</td>\n",
              "      <td>NaN</td>\n",
              "      <td>NaN</td>\n",
              "      <td>NaN</td>\n",
              "    </tr>\n",
              "    <tr>\n",
              "      <th>mean</th>\n",
              "      <td>NaN</td>\n",
              "      <td>NaN</td>\n",
              "      <td>NaN</td>\n",
              "      <td>1.555333e+09</td>\n",
              "      <td>-3.629139e+00</td>\n",
              "      <td>5.806623e+01</td>\n",
              "      <td>7.431658e+00</td>\n",
              "      <td>1.735817e+02</td>\n",
              "      <td>5.600651e+00</td>\n",
              "    </tr>\n",
              "    <tr>\n",
              "      <th>std</th>\n",
              "      <td>NaN</td>\n",
              "      <td>NaN</td>\n",
              "      <td>NaN</td>\n",
              "      <td>3.652733e+05</td>\n",
              "      <td>1.905030e+00</td>\n",
              "      <td>4.310591e+01</td>\n",
              "      <td>5.227373e+00</td>\n",
              "      <td>1.088855e+02</td>\n",
              "      <td>2.496437e+01</td>\n",
              "    </tr>\n",
              "    <tr>\n",
              "      <th>min</th>\n",
              "      <td>NaN</td>\n",
              "      <td>NaN</td>\n",
              "      <td>NaN</td>\n",
              "      <td>1.554682e+09</td>\n",
              "      <td>-6.339809e+00</td>\n",
              "      <td>1.066894e+02</td>\n",
              "      <td>-1.000000e+00</td>\n",
              "      <td>0.000000e+00</td>\n",
              "      <td>1.000000e-02</td>\n",
              "    </tr>\n",
              "    <tr>\n",
              "      <th>25%</th>\n",
              "      <td>NaN</td>\n",
              "      <td>NaN</td>\n",
              "      <td>NaN</td>\n",
              "      <td>1.554991e+09</td>\n",
              "      <td>-6.257692e+00</td>\n",
              "      <td>1.067827e+02</td>\n",
              "      <td>4.030000e+00</td>\n",
              "      <td>8.500000e+01</td>\n",
              "      <td>3.900000e+00</td>\n",
              "    </tr>\n",
              "    <tr>\n",
              "      <th>50%</th>\n",
              "      <td>NaN</td>\n",
              "      <td>NaN</td>\n",
              "      <td>NaN</td>\n",
              "      <td>1.555381e+09</td>\n",
              "      <td>-6.215236e+00</td>\n",
              "      <td>1.068230e+02</td>\n",
              "      <td>7.585842e+00</td>\n",
              "      <td>1.750000e+02</td>\n",
              "      <td>5.000000e+00</td>\n",
              "    </tr>\n",
              "    <tr>\n",
              "      <th>75%</th>\n",
              "      <td>NaN</td>\n",
              "      <td>NaN</td>\n",
              "      <td>NaN</td>\n",
              "      <td>1.555662e+09</td>\n",
              "      <td>-6.172718e+00</td>\n",
              "      <td>1.068688e+02</td>\n",
              "      <td>1.096000e+01</td>\n",
              "      <td>2.690000e+02</td>\n",
              "      <td>9.000000e+00</td>\n",
              "    </tr>\n",
              "    <tr>\n",
              "      <th>max</th>\n",
              "      <td>NaN</td>\n",
              "      <td>NaN</td>\n",
              "      <td>NaN</td>\n",
              "      <td>1.555891e+09</td>\n",
              "      <td>-6.091331e+00</td>\n",
              "      <td>1.069710e+02</td>\n",
              "      <td>9.263610e+01</td>\n",
              "      <td>3.590000e+02</td>\n",
              "      <td>1.490000e+05</td>\n",
              "    </tr>\n",
              "  </tbody>\n",
              "</table>\n",
              "</div>\n",
              "      <button class=\"colab-df-convert\" onclick=\"convertToInteractive('df-4e5b4ad4-0464-48e7-b041-cea90e0c3934')\"\n",
              "              title=\"Convert this dataframe to an interactive table.\"\n",
              "              style=\"display:none;\">\n",
              "        \n",
              "  <svg xmlns=\"http://www.w3.org/2000/svg\" height=\"24px\"viewBox=\"0 0 24 24\"\n",
              "       width=\"24px\">\n",
              "    <path d=\"M0 0h24v24H0V0z\" fill=\"none\"/>\n",
              "    <path d=\"M18.56 5.44l.94 2.06.94-2.06 2.06-.94-2.06-.94-.94-2.06-.94 2.06-2.06.94zm-11 1L8.5 8.5l.94-2.06 2.06-.94-2.06-.94L8.5 2.5l-.94 2.06-2.06.94zm10 10l.94 2.06.94-2.06 2.06-.94-2.06-.94-.94-2.06-.94 2.06-2.06.94z\"/><path d=\"M17.41 7.96l-1.37-1.37c-.4-.4-.92-.59-1.43-.59-.52 0-1.04.2-1.43.59L10.3 9.45l-7.72 7.72c-.78.78-.78 2.05 0 2.83L4 21.41c.39.39.9.59 1.41.59.51 0 1.02-.2 1.41-.59l7.78-7.78 2.81-2.81c.8-.78.8-2.07 0-2.86zM5.41 20L4 18.59l7.72-7.72 1.47 1.35L5.41 20z\"/>\n",
              "  </svg>\n",
              "      </button>\n",
              "      \n",
              "  <style>\n",
              "    .colab-df-container {\n",
              "      display:flex;\n",
              "      flex-wrap:wrap;\n",
              "      gap: 12px;\n",
              "    }\n",
              "\n",
              "    .colab-df-convert {\n",
              "      background-color: #E8F0FE;\n",
              "      border: none;\n",
              "      border-radius: 50%;\n",
              "      cursor: pointer;\n",
              "      display: none;\n",
              "      fill: #1967D2;\n",
              "      height: 32px;\n",
              "      padding: 0 0 0 0;\n",
              "      width: 32px;\n",
              "    }\n",
              "\n",
              "    .colab-df-convert:hover {\n",
              "      background-color: #E2EBFA;\n",
              "      box-shadow: 0px 1px 2px rgba(60, 64, 67, 0.3), 0px 1px 3px 1px rgba(60, 64, 67, 0.15);\n",
              "      fill: #174EA6;\n",
              "    }\n",
              "\n",
              "    [theme=dark] .colab-df-convert {\n",
              "      background-color: #3B4455;\n",
              "      fill: #D2E3FC;\n",
              "    }\n",
              "\n",
              "    [theme=dark] .colab-df-convert:hover {\n",
              "      background-color: #434B5C;\n",
              "      box-shadow: 0px 1px 3px 1px rgba(0, 0, 0, 0.15);\n",
              "      filter: drop-shadow(0px 1px 2px rgba(0, 0, 0, 0.3));\n",
              "      fill: #FFFFFF;\n",
              "    }\n",
              "  </style>\n",
              "\n",
              "      <script>\n",
              "        const buttonEl =\n",
              "          document.querySelector('#df-4e5b4ad4-0464-48e7-b041-cea90e0c3934 button.colab-df-convert');\n",
              "        buttonEl.style.display =\n",
              "          google.colab.kernel.accessAllowed ? 'block' : 'none';\n",
              "\n",
              "        async function convertToInteractive(key) {\n",
              "          const element = document.querySelector('#df-4e5b4ad4-0464-48e7-b041-cea90e0c3934');\n",
              "          const dataTable =\n",
              "            await google.colab.kernel.invokeFunction('convertToInteractive',\n",
              "                                                     [key], {});\n",
              "          if (!dataTable) return;\n",
              "\n",
              "          const docLinkHtml = 'Like what you see? Visit the ' +\n",
              "            '<a target=\"_blank\" href=https://colab.research.google.com/notebooks/data_table.ipynb>data table notebook</a>'\n",
              "            + ' to learn more about interactive tables.';\n",
              "          element.innerHTML = '';\n",
              "          dataTable['output_type'] = 'display_data';\n",
              "          await google.colab.output.renderOutput(dataTable, element);\n",
              "          const docLink = document.createElement('div');\n",
              "          docLink.innerHTML = docLinkHtml;\n",
              "          element.appendChild(docLink);\n",
              "        }\n",
              "      </script>\n",
              "    </div>\n",
              "  </div>\n",
              "  "
            ],
            "text/plain": [
              "          trj_id driving_mode  ...       bearing      accuracy\n",
              "count   36983349     36983349  ...  3.698335e+07  3.698335e+07\n",
              "unique     41976            2  ...           NaN           NaN\n",
              "top        50492          car  ...           NaN           NaN\n",
              "freq        8859     20239021  ...           NaN           NaN\n",
              "mean         NaN          NaN  ...  1.735817e+02  5.600651e+00\n",
              "std          NaN          NaN  ...  1.088855e+02  2.496437e+01\n",
              "min          NaN          NaN  ...  0.000000e+00  1.000000e-02\n",
              "25%          NaN          NaN  ...  8.500000e+01  3.900000e+00\n",
              "50%          NaN          NaN  ...  1.750000e+02  5.000000e+00\n",
              "75%          NaN          NaN  ...  2.690000e+02  9.000000e+00\n",
              "max          NaN          NaN  ...  3.590000e+02  1.490000e+05\n",
              "\n",
              "[11 rows x 9 columns]"
            ]
          },
          "metadata": {},
          "execution_count": 90
        }
      ]
    },
    {
      "cell_type": "code",
      "source": [
        "outcity.compute().describe(include=\"all\")"
      ],
      "metadata": {
        "colab": {
          "base_uri": "https://localhost:8080/",
          "height": 394
        },
        "id": "sI28djPowahO",
        "outputId": "c6d5a3a7-0d2a-487c-ef73-bb2335ae57b9"
      },
      "execution_count": null,
      "outputs": [
        {
          "output_type": "execute_result",
          "data": {
            "text/html": [
              "\n",
              "  <div id=\"df-66d9b65a-9869-4232-916d-f0087b5bf4c5\">\n",
              "    <div class=\"colab-df-container\">\n",
              "      <div>\n",
              "<style scoped>\n",
              "    .dataframe tbody tr th:only-of-type {\n",
              "        vertical-align: middle;\n",
              "    }\n",
              "\n",
              "    .dataframe tbody tr th {\n",
              "        vertical-align: top;\n",
              "    }\n",
              "\n",
              "    .dataframe thead th {\n",
              "        text-align: right;\n",
              "    }\n",
              "</style>\n",
              "<table border=\"1\" class=\"dataframe\">\n",
              "  <thead>\n",
              "    <tr style=\"text-align: right;\">\n",
              "      <th></th>\n",
              "      <th>trj_id</th>\n",
              "      <th>driving_mode</th>\n",
              "      <th>osname</th>\n",
              "      <th>pingtimestamp</th>\n",
              "      <th>rawlat</th>\n",
              "      <th>rawlng</th>\n",
              "      <th>speed</th>\n",
              "      <th>bearing</th>\n",
              "      <th>accuracy</th>\n",
              "    </tr>\n",
              "  </thead>\n",
              "  <tbody>\n",
              "    <tr>\n",
              "      <th>count</th>\n",
              "      <td>8224410</td>\n",
              "      <td>8224410</td>\n",
              "      <td>8224410</td>\n",
              "      <td>8.224410e+06</td>\n",
              "      <td>8.224410e+06</td>\n",
              "      <td>8.224410e+06</td>\n",
              "      <td>8.224410e+06</td>\n",
              "      <td>8.224410e+06</td>\n",
              "      <td>8.224410e+06</td>\n",
              "    </tr>\n",
              "    <tr>\n",
              "      <th>unique</th>\n",
              "      <td>9287</td>\n",
              "      <td>2</td>\n",
              "      <td>2</td>\n",
              "      <td>NaN</td>\n",
              "      <td>NaN</td>\n",
              "      <td>NaN</td>\n",
              "      <td>NaN</td>\n",
              "      <td>NaN</td>\n",
              "      <td>NaN</td>\n",
              "    </tr>\n",
              "    <tr>\n",
              "      <th>top</th>\n",
              "      <td>24697</td>\n",
              "      <td>car</td>\n",
              "      <td>android</td>\n",
              "      <td>NaN</td>\n",
              "      <td>NaN</td>\n",
              "      <td>NaN</td>\n",
              "      <td>NaN</td>\n",
              "      <td>NaN</td>\n",
              "      <td>NaN</td>\n",
              "    </tr>\n",
              "    <tr>\n",
              "      <th>freq</th>\n",
              "      <td>10704</td>\n",
              "      <td>4135446</td>\n",
              "      <td>6140931</td>\n",
              "      <td>NaN</td>\n",
              "      <td>NaN</td>\n",
              "      <td>NaN</td>\n",
              "      <td>NaN</td>\n",
              "      <td>NaN</td>\n",
              "      <td>NaN</td>\n",
              "    </tr>\n",
              "    <tr>\n",
              "      <th>mean</th>\n",
              "      <td>NaN</td>\n",
              "      <td>NaN</td>\n",
              "      <td>NaN</td>\n",
              "      <td>1.555419e+09</td>\n",
              "      <td>-6.811715e+00</td>\n",
              "      <td>1.113254e+02</td>\n",
              "      <td>6.822676e+00</td>\n",
              "      <td>1.659388e+02</td>\n",
              "      <td>5.937508e+00</td>\n",
              "    </tr>\n",
              "    <tr>\n",
              "      <th>std</th>\n",
              "      <td>NaN</td>\n",
              "      <td>NaN</td>\n",
              "      <td>NaN</td>\n",
              "      <td>3.543881e+05</td>\n",
              "      <td>3.688885e-01</td>\n",
              "      <td>4.453818e+00</td>\n",
              "      <td>4.655833e+00</td>\n",
              "      <td>1.088413e+02</td>\n",
              "      <td>4.117828e+00</td>\n",
              "    </tr>\n",
              "    <tr>\n",
              "      <th>min</th>\n",
              "      <td>NaN</td>\n",
              "      <td>NaN</td>\n",
              "      <td>NaN</td>\n",
              "      <td>1.554682e+09</td>\n",
              "      <td>-6.879017e+00</td>\n",
              "      <td>1.066894e+02</td>\n",
              "      <td>-1.000000e+00</td>\n",
              "      <td>0.000000e+00</td>\n",
              "      <td>9.000000e-01</td>\n",
              "    </tr>\n",
              "    <tr>\n",
              "      <th>25%</th>\n",
              "      <td>NaN</td>\n",
              "      <td>NaN</td>\n",
              "      <td>NaN</td>\n",
              "      <td>1.555134e+09</td>\n",
              "      <td>-6.561426e+00</td>\n",
              "      <td>1.067904e+02</td>\n",
              "      <td>3.610000e+00</td>\n",
              "      <td>7.600000e+01</td>\n",
              "      <td>3.900000e+00</td>\n",
              "    </tr>\n",
              "    <tr>\n",
              "      <th>50%</th>\n",
              "      <td>NaN</td>\n",
              "      <td>NaN</td>\n",
              "      <td>NaN</td>\n",
              "      <td>1.555561e+09</td>\n",
              "      <td>-6.410473e+00</td>\n",
              "      <td>1.068189e+02</td>\n",
              "      <td>6.480000e+00</td>\n",
              "      <td>1.700000e+02</td>\n",
              "      <td>4.551000e+00</td>\n",
              "    </tr>\n",
              "    <tr>\n",
              "      <th>75%</th>\n",
              "      <td>NaN</td>\n",
              "      <td>NaN</td>\n",
              "      <td>NaN</td>\n",
              "      <td>1.555730e+09</td>\n",
              "      <td>-6.375468e+00</td>\n",
              "      <td>1.068592e+02</td>\n",
              "      <td>9.070353e+00</td>\n",
              "      <td>2.640000e+02</td>\n",
              "      <td>6.847000e+00</td>\n",
              "    </tr>\n",
              "    <tr>\n",
              "      <th>max</th>\n",
              "      <td>NaN</td>\n",
              "      <td>NaN</td>\n",
              "      <td>NaN</td>\n",
              "      <td>1.555891e+09</td>\n",
              "      <td>-6.339810e+00</td>\n",
              "      <td>1.069710e+02</td>\n",
              "      <td>3.970119e+01</td>\n",
              "      <td>3.590000e+02</td>\n",
              "      <td>2.000000e+03</td>\n",
              "    </tr>\n",
              "  </tbody>\n",
              "</table>\n",
              "</div>\n",
              "      <button class=\"colab-df-convert\" onclick=\"convertToInteractive('df-66d9b65a-9869-4232-916d-f0087b5bf4c5')\"\n",
              "              title=\"Convert this dataframe to an interactive table.\"\n",
              "              style=\"display:none;\">\n",
              "        \n",
              "  <svg xmlns=\"http://www.w3.org/2000/svg\" height=\"24px\"viewBox=\"0 0 24 24\"\n",
              "       width=\"24px\">\n",
              "    <path d=\"M0 0h24v24H0V0z\" fill=\"none\"/>\n",
              "    <path d=\"M18.56 5.44l.94 2.06.94-2.06 2.06-.94-2.06-.94-.94-2.06-.94 2.06-2.06.94zm-11 1L8.5 8.5l.94-2.06 2.06-.94-2.06-.94L8.5 2.5l-.94 2.06-2.06.94zm10 10l.94 2.06.94-2.06 2.06-.94-2.06-.94-.94-2.06-.94 2.06-2.06.94z\"/><path d=\"M17.41 7.96l-1.37-1.37c-.4-.4-.92-.59-1.43-.59-.52 0-1.04.2-1.43.59L10.3 9.45l-7.72 7.72c-.78.78-.78 2.05 0 2.83L4 21.41c.39.39.9.59 1.41.59.51 0 1.02-.2 1.41-.59l7.78-7.78 2.81-2.81c.8-.78.8-2.07 0-2.86zM5.41 20L4 18.59l7.72-7.72 1.47 1.35L5.41 20z\"/>\n",
              "  </svg>\n",
              "      </button>\n",
              "      \n",
              "  <style>\n",
              "    .colab-df-container {\n",
              "      display:flex;\n",
              "      flex-wrap:wrap;\n",
              "      gap: 12px;\n",
              "    }\n",
              "\n",
              "    .colab-df-convert {\n",
              "      background-color: #E8F0FE;\n",
              "      border: none;\n",
              "      border-radius: 50%;\n",
              "      cursor: pointer;\n",
              "      display: none;\n",
              "      fill: #1967D2;\n",
              "      height: 32px;\n",
              "      padding: 0 0 0 0;\n",
              "      width: 32px;\n",
              "    }\n",
              "\n",
              "    .colab-df-convert:hover {\n",
              "      background-color: #E2EBFA;\n",
              "      box-shadow: 0px 1px 2px rgba(60, 64, 67, 0.3), 0px 1px 3px 1px rgba(60, 64, 67, 0.15);\n",
              "      fill: #174EA6;\n",
              "    }\n",
              "\n",
              "    [theme=dark] .colab-df-convert {\n",
              "      background-color: #3B4455;\n",
              "      fill: #D2E3FC;\n",
              "    }\n",
              "\n",
              "    [theme=dark] .colab-df-convert:hover {\n",
              "      background-color: #434B5C;\n",
              "      box-shadow: 0px 1px 3px 1px rgba(0, 0, 0, 0.15);\n",
              "      filter: drop-shadow(0px 1px 2px rgba(0, 0, 0, 0.3));\n",
              "      fill: #FFFFFF;\n",
              "    }\n",
              "  </style>\n",
              "\n",
              "      <script>\n",
              "        const buttonEl =\n",
              "          document.querySelector('#df-66d9b65a-9869-4232-916d-f0087b5bf4c5 button.colab-df-convert');\n",
              "        buttonEl.style.display =\n",
              "          google.colab.kernel.accessAllowed ? 'block' : 'none';\n",
              "\n",
              "        async function convertToInteractive(key) {\n",
              "          const element = document.querySelector('#df-66d9b65a-9869-4232-916d-f0087b5bf4c5');\n",
              "          const dataTable =\n",
              "            await google.colab.kernel.invokeFunction('convertToInteractive',\n",
              "                                                     [key], {});\n",
              "          if (!dataTable) return;\n",
              "\n",
              "          const docLinkHtml = 'Like what you see? Visit the ' +\n",
              "            '<a target=\"_blank\" href=https://colab.research.google.com/notebooks/data_table.ipynb>data table notebook</a>'\n",
              "            + ' to learn more about interactive tables.';\n",
              "          element.innerHTML = '';\n",
              "          dataTable['output_type'] = 'display_data';\n",
              "          await google.colab.output.renderOutput(dataTable, element);\n",
              "          const docLink = document.createElement('div');\n",
              "          docLink.innerHTML = docLinkHtml;\n",
              "          element.appendChild(docLink);\n",
              "        }\n",
              "      </script>\n",
              "    </div>\n",
              "  </div>\n",
              "  "
            ],
            "text/plain": [
              "         trj_id driving_mode   osname  ...         speed       bearing      accuracy\n",
              "count   8224410      8224410  8224410  ...  8.224410e+06  8.224410e+06  8.224410e+06\n",
              "unique     9287            2        2  ...           NaN           NaN           NaN\n",
              "top       24697          car  android  ...           NaN           NaN           NaN\n",
              "freq      10704      4135446  6140931  ...           NaN           NaN           NaN\n",
              "mean        NaN          NaN      NaN  ...  6.822676e+00  1.659388e+02  5.937508e+00\n",
              "std         NaN          NaN      NaN  ...  4.655833e+00  1.088413e+02  4.117828e+00\n",
              "min         NaN          NaN      NaN  ... -1.000000e+00  0.000000e+00  9.000000e-01\n",
              "25%         NaN          NaN      NaN  ...  3.610000e+00  7.600000e+01  3.900000e+00\n",
              "50%         NaN          NaN      NaN  ...  6.480000e+00  1.700000e+02  4.551000e+00\n",
              "75%         NaN          NaN      NaN  ...  9.070353e+00  2.640000e+02  6.847000e+00\n",
              "max         NaN          NaN      NaN  ...  3.970119e+01  3.590000e+02  2.000000e+03\n",
              "\n",
              "[11 rows x 9 columns]"
            ]
          },
          "metadata": {},
          "execution_count": 91
        }
      ]
    },
    {
      "cell_type": "markdown",
      "source": [
        "**2) Speed of Vehicles within and outside of Jakarta**\n",
        "\n",
        "The data suggests that average speed is greater within Jakarta compared to outside of Jakarta by 0.61 m/s.\n",
        "\n",
        "This could possibly be attributed to better infrastructure such as paved roads and highways within the city, compared to the more rural regions outside."
      ],
      "metadata": {
        "id": "zyrbmGD0MLb6"
      }
    },
    {
      "cell_type": "code",
      "source": [
        "#Finding the average speed of vehicles within Jakarta\n",
        "avgspeedin = incity['speed'].compute().mean()\n",
        "#Finding the average speed of vehicles within Jakarta\n",
        "avgspeedout = outcity['speed'].compute().mean()\n",
        "\n",
        "print(f'Average speed within the city: {avgspeedin:.2f}')\n",
        "print(f'Average speed outside the city: {avgspeedout:.2f}')"
      ],
      "metadata": {
        "colab": {
          "base_uri": "https://localhost:8080/"
        },
        "id": "t0jvExGukv1V",
        "outputId": "87921df8-8096-4f48-972c-42c2132e7c27"
      },
      "execution_count": null,
      "outputs": [
        {
          "output_type": "stream",
          "name": "stdout",
          "text": [
            "Average speed within the city: 7.43\n",
            "Average speed outside the city: 6.82\n"
          ]
        }
      ]
    },
    {
      "cell_type": "markdown",
      "source": [
        "Now, to visualise the differences in distributions of speeds within and outside of Jakarta, \n",
        "histograms of speeds within these regions are provided below"
      ],
      "metadata": {
        "id": "j2s3Lje5NNNc"
      }
    },
    {
      "cell_type": "code",
      "source": [
        "bins = [2.5, 5, 7.5, 10, 12.5, 15, 17.5, 20, 22.5, 25, 27.5, 30, 32.5, 35, 37.5, 40]\n",
        "plt.ticklabel_format(style='plain')\n",
        "plt.hist(incity['speed'].compute(), rwidth = 0.75, bins = bins)\n",
        "plt.xlim(0, 40)\n",
        "\n",
        "plt.axvline(avgspeedin, color='k', linestyle='dashed', linewidth=1)\n",
        "min_ylim, max_ylim = plt.ylim()\n",
        "plt.title(\"Speeds of Vehicles within Jakarta\")\n",
        "plt.xlabel(\"Speed of Vehicle\")\n",
        "plt.ylabel(\"Number of Pings\")\n",
        "\n",
        "plt.text(avgspeedin*1.1, max_ylim*0.9, '     Mean: {:.2f}'.format(avgspeedin))\n",
        "\n",
        "plt.show()"
      ],
      "metadata": {
        "colab": {
          "base_uri": "https://localhost:8080/",
          "height": 295
        },
        "id": "jPoRqfReinfm",
        "outputId": "e61f6af1-e472-4c89-a8a8-16797833e2d0"
      },
      "execution_count": null,
      "outputs": [
        {
          "output_type": "display_data",
          "data": {
            "image/png": "[encoded data removed]",
            "text/plain": [
              "<Figure size 432x288 with 1 Axes>"
            ]
          },
          "metadata": {
            "needs_background": "light"
          }
        }
      ]
    },
    {
      "cell_type": "code",
      "source": [
        "bins = [2.5, 5, 7.5, 10, 12.5, 15, 17.5, 20, 22.5, 25, 27.5, 30, 32.5, 35, 37.5, 40]\n",
        "plt.ticklabel_format(style='plain')\n",
        "plt.hist(outcity['speed'].compute(), rwidth = 0.75, bins = bins)\n",
        "plt.xlim(0, 40)\n",
        "\n",
        "plt.axvline(avgspeedout, color='k', linestyle='dashed', linewidth=1)\n",
        "min_ylim, max_ylim = plt.ylim()\n",
        "plt.title(\"Speeds of Vehicles outside Jakarta\")\n",
        "plt.xlabel(\"Speed of Vehicle\")\n",
        "plt.ylabel(\"Number of Pings\")\n",
        "\n",
        "plt.text(avgspeedout*1.1, max_ylim*0.9, '     Mean: {:.2f}'.format(avgspeedout))\n",
        "\n",
        "plt.show()"
      ],
      "metadata": {
        "colab": {
          "base_uri": "https://localhost:8080/",
          "height": 295
        },
        "id": "s3a-G0MluGFi",
        "outputId": "ae1ad528-f296-47e3-f859-8d98a3f6ab85"
      },
      "execution_count": null,
      "outputs": [
        {
          "output_type": "display_data",
          "data": {
            "image/png": "[encoded data removed]",
            "text/plain": [
              "<Figure size 432x288 with 1 Axes>"
            ]
          },
          "metadata": {
            "needs_background": "light"
          }
        }
      ]
    },
    {
      "cell_type": "code",
      "source": [
        "!pip install researchpy --user"
      ],
      "metadata": {
        "id": "LVWTpkdp9tq-"
      },
      "execution_count": null,
      "outputs": []
    },
    {
      "cell_type": "markdown",
      "source": [
        "As the p-value is less than 0.99, we can reject the null hypothesis at a 99% confidence level. This implies that the difference in speeds within Jakarta and outside of Jakarta is significant at a 99% confidence level."
      ],
      "metadata": {
        "id": "05xgsBjBNqoy"
      }
    },
    {
      "cell_type": "code",
      "source": [
        "from researchpy import ttest\n",
        "ttest(group1 = incity[\"speed\"].compute(), group2 = outcity[\"speed\"].compute(), group1_name = \"Speeds within Jakarta\", group2_name = \"Speeds outside Jakarta\")\n"
      ],
      "metadata": {
        "colab": {
          "base_uri": "https://localhost:8080/"
        },
        "id": "jQTM4cAA-BCr",
        "outputId": "0ec257e9-cdf7-4c68-8fe0-4e76e6223958"
      },
      "execution_count": null,
      "outputs": [
        {
          "output_type": "execute_result",
          "data": {
            "text/plain": [
              "(                 Variable           N      Mean  ...        SE  95% Conf.  Interval\n",
              " 0   Speeds within Jakarta  36983349.0  7.431658  ...  0.000890   7.429914  7.433402\n",
              " 1  Speeds outside Jakarta   8224410.0  6.822676  ...  0.001632   6.819476  6.825875\n",
              " 2                combined  45207759.0  6.317586  ...  0.000789   6.316039  6.319133\n",
              " \n",
              " [3 rows x 7 columns],\n",
              "                                   Independent t-test       results\n",
              " 0  Difference (Speeds within Jakarta - Speeds out...  6.090000e-01\n",
              " 1                              Degrees of freedom =   4.520776e+07\n",
              " 2                                               t =   5.899742e+02\n",
              " 3                           Two side test p value =   0.000000e+00\n",
              " 4                          Difference < 0 p value =   1.000000e+00\n",
              " 5                          Difference > 0 p value =   0.000000e+00\n",
              " 6                                       Cohen's d =   1.188000e-01\n",
              " 7                                       Hedge's g =   1.188000e-01\n",
              " 8                                   Glass's delta =   1.165000e-01\n",
              " 9                                     Pearson's r =   8.740000e-02)"
            ]
          },
          "metadata": {},
          "execution_count": 96
        }
      ]
    },
    {
      "cell_type": "markdown",
      "source": [
        "**Possible Impact on ETA:**\n",
        "\n",
        "Given that the number of data points originating from within the city, the overall mean speed would be skewed towards the faster average speeds from within Jakarta. \n",
        "\n",
        "As a result, the ETA reported on the Grab app to customers might be underestimated based on this overall data, resulting in later ETAs for customers hailing a Grab ride outside of Jakarta.\n",
        "\n",
        "**Solution:**\n",
        "\n",
        "Provide more accurate ETA based on the location where the Grab ride is hailed at. For example, when Grab cars are hails outside Jakarta, the ETA must be based of the slower mean speed of cars travelling through this region.\n",
        "\n",
        "**Areas for further study:**\n",
        "\n",
        "By subdividing Jakarta into its various districts, one can attempt to look for any further discrepancies in average speed, allowing for a further refinement of ETA within Jakarta itself.\n",
        "\n",
        "This method can also be further applied to Singapore, by subdividing Singapore into various regions of high traffic (eg. CBD) and low traffic (eg. Lim Chu Kang) to refine ETAs within Singapore.\n",
        "____________________________________________________________________________"
      ],
      "metadata": {
        "id": "fyXyiVTwOZbY"
      }
    },
    {
      "cell_type": "markdown",
      "source": [
        "**3) GPS Accuracy within and outside Jakarta**\n",
        "\n",
        "The accuracy metric measures the margin for error in the accuracy of the GPS reading in metres. So a larger value would mean lower accuracy.\n",
        "\n",
        "Generally speaking, mean accuracy is better worse within the city compared to outside the city, as given by the higher margin for error in accuracy within the city.\n",
        "\n",
        "By looking at the heatmap below, we can tell that the accuracy is worse within cities compared to outside cities. The red regions are places with poorer accuracy while the blue regions are places with better accuracy.\n",
        "\n",
        "We can also visualise this by looking at the histograms below."
      ],
      "metadata": {
        "id": "0xjPvF8909RH"
      }
    },
    {
      "cell_type": "code",
      "source": [
        "import dask.bag as db\n",
        "import folium\n",
        "from folium.plugins import HeatMap\n",
        "import branca.colormap\n",
        "from collections import defaultdict\n",
        "\n",
        "npart = round(len(df)/1000)\n",
        "parted_df = df.repartition(npartitions=npart)\n",
        "\n",
        "lat = db.from_sequence(parted_df.partitions[4]['rawlat'], npartitions=5)\n",
        "lng = db.from_sequence(parted_df.partitions[4]['rawlng'], npartitions=5)\n",
        "weights = db.from_sequence(parted_df.partitions[4]['accuracy'], npartitions=5)\n",
        "\n",
        "avg_weights = float(weights.mean())\n",
        "norm_weights = [float(i)/avg_weights for i in weights]\n",
        "gradient={'0.99':'Red', '0.95':'Yellow','0.85':'Green', '0.60':'Blue','0.5': 'Navy'}\n",
        "\n",
        "map = folium.Map(location=[-6.214015, 106.843735],\n",
        "           zoom_start = 11.2)\n",
        "heatmaplayer = HeatMap(list(zip(lat, lng, norm_weights)), gradient = gradient)\n",
        "heatmaplayer.add_to(map)\n",
        "\n",
        "coordinates = [\n",
        "    [-6.08838, 106.72357],\n",
        "    [-6.09611, 106.68944],\n",
        "    [-6.16894, 106.68992],\n",
        "    [-6.19557, 106.72288],\n",
        "    [-6.22219, 106.72013], \n",
        "    [-6.23857, 106.7476],\n",
        "    [-6.31543, 106.77864],\n",
        "    [-6.31475, 106.80885],\n",
        "    [-6.36184, 106.79237],\n",
        "    [-6.33659, 106.85005],\n",
        "    [-6.37003, 106.89399],\n",
        "    [-6.35979, 106.91871],\n",
        "    [-6.29905, 106.91871],\n",
        "    [-6.26083, 106.90223],\n",
        "    [-6.25196, 106.94206],\n",
        "    [-6.211, 106.96266],\n",
        "    [-6.09133, 106.97097],\n",
        "    [-6.10021, 106.88301],\n",
        "    [-6.12206, 106.8116],\n",
        "    [-6.08838, 106.72357]]\n",
        "\n",
        "jakarta_line = folium.PolyLine(locations = coordinates, weight = 5, colour = 'black')\n",
        "map.add_child(jakarta_line)\n",
        "\n",
        "map"
      ],
      "metadata": {
        "colab": {
          "base_uri": "https://localhost:8080/",
          "height": 904
        },
        "id": "bXemPYQl4WIC",
        "outputId": "83c81040-6364-44e2-800a-c479d41c3b4d"
      },
      "execution_count": null,
      "outputs": [
        {
          "output_type": "execute_result",
          "data": {
            "text/html": [
              "<div style=\"width:100%;\"><div style=\"position:relative;width:100%;height:0;padding-bottom:60%;\"><span style=\"color:#565656\">Make this Notebook Trusted to load map: File -> Trust Notebook</span><iframe src=\"about:blank\" style=\"position:absolute;width:100%;height:100%;left:0;top:0;border:none !important;\" data-html=%3C%21DOCTYPE%20html%3E%0A%3Chead%3E%20%20%20%20%0A%20%20%20%20%3Cmeta%20http-equiv%3D%22content-type%22%20content%3D%22text/html%3B%20charset%3DUTF-8%22%20/%3E%0A%20%20%20%20%3Cscript%3EL_PREFER_CANVAS%3Dfalse%3B%20L_NO_TOUCH%3Dfalse%3B%20L_DISABLE_3D%3Dfalse%3B%3C/script%3E%0A%20%20%20%20%3Cscript%20src%3D%22https%3A//cdn.jsdelivr.net/npm/leaflet%401.4.0/dist/leaflet.js%22%3E%3C/script%3E%0A%20%20%20%20%3Cscript%20src%3D%22https%3A//code.jquery.com/jquery-1.12.4.min.js%22%3E%3C/script%3E%0A%20%20%20%20%3Cscript%20src%3D%22https%3A//maxcdn.bootstrapcdn.com/bootstrap/3.2.0/js/bootstrap.min.js%22%3E%3C/script%3E%0A%20%20%20%20%3Cscript%20src%3D%22https%3A//cdnjs.cloudflare.com/ajax/libs/Leaflet.awesome-markers/2.0.2/leaflet.awesome-markers.js%22%3E%3C/script%3E%0A%20%20%20%20%3Clink%20rel%3D%22stylesheet%22%20href%3D%22https%3A//cdn.jsdelivr.net/npm/leaflet%401.4.0/dist/leaflet.css%22/%3E%0A%20%20%20%20%3Clink%20rel%3D%22stylesheet%22%20href%3D%22https%3A//maxcdn.bootstrapcdn.com/bootstrap/3.2.0/css/bootstrap.min.css%22/%3E%0A%20%20%20%20%3Clink%20rel%3D%22stylesheet%22%20href%3D%22https%3A//maxcdn.bootstrapcdn.com/bootstrap/3.2.0/css/bootstrap-theme.min.css%22/%3E%0A%20%20%20%20%3Clink%20rel%3D%22stylesheet%22%20href%3D%22https%3A//maxcdn.bootstrapcdn.com/font-awesome/4.6.3/css/font-awesome.min.css%22/%3E%0A%20%20%20%20%3Clink%20rel%3D%22stylesheet%22%20href%3D%22https%3A//cdnjs.cloudflare.com/ajax/libs/Leaflet.awesome-markers/2.0.2/leaflet.awesome-markers.css%22/%3E%0A%20%20%20%20%3Clink%20rel%3D%22stylesheet%22%20href%3D%22https%3A//rawcdn.githack.com/python-visualization/folium/master/folium/templates/leaflet.awesome.rotate.css%22/%3E%0A%20%20%20%20%3Cstyle%3Ehtml%2C%20body%20%7Bwidth%3A%20100%25%3Bheight%3A%20100%25%3Bmargin%3A%200%3Bpadding%3A%200%3B%7D%3C/style%3E%0A%20%20%20%20%3Cstyle%3E%23map%20%7Bposition%3Aabsolute%3Btop%3A0%3Bbottom%3A0%3Bright%3A0%3Bleft%3A0%3B%7D%3C/style%3E%0A%20%20%20%20%0A%20%20%20%20%3Cmeta%20name%3D%22viewport%22%20content%3D%22width%3Ddevice-width%2C%0A%20%20%20%20%20%20%20%20initial-scale%3D1.0%2C%20maximum-scale%3D1.0%2C%20user-scalable%3Dno%22%20/%3E%0A%20%20%20%20%3Cstyle%3E%23map_bc568d7e38274d4e907d0a872d760d21%20%7B%0A%20%20%20%20%20%20%20%20position%3A%20relative%3B%0A%20%20%20%20%20%20%20%20width%3A%20100.0%25%3B%0A%20%20%20%20%20%20%20%20height%3A%20100.0%25%3B%0A%20%20%20%20%20%20%20%20left%3A%200.0%25%3B%0A%20%20%20%20%20%20%20%20top%3A%200.0%25%3B%0A%20%20%20%20%20%20%20%20%7D%0A%20%20%20%20%3C/style%3E%0A%20%20%20%20%3Cscript%20src%3D%22https%3A//leaflet.github.io/Leaflet.heat/dist/leaflet-heat.js%22%3E%3C/script%3E%0A%3C/head%3E%0A%3Cbody%3E%20%20%20%20%0A%20%20%20%20%0A%20%20%20%20%3Cdiv%20class%3D%22folium-map%22%20id%3D%22map_bc568d7e38274d4e907d0a872d760d21%22%20%3E%3C/div%3E%0A%3C/body%3E%0A%3Cscript%3E%20%20%20%20%0A%20%20%20%20%0A%20%20%20%20%0A%20%20%20%20%20%20%20%20var%20bounds%20%3D%20null%3B%0A%20%20%20%20%0A%0A%20%20%20%20var%20map_bc568d7e38274d4e907d0a872d760d21%20%3D%20L.map%28%0A%20%20%20%20%20%20%20%20%27map_bc568d7e38274d4e907d0a872d760d21%27%2C%20%7B%0A%20%20%20%20%20%20%20%20center%3A%20%5B-6.214015%2C%20106.843735%5D%2C%0A%20%20%20%20%20%20%20%20zoom%3A%2011.2%2C%0A%20%20%20%20%20%20%20%20maxBounds%3A%20bounds%2C%0A%20%20%20%20%20%20%20%20layers%3A%20%5B%5D%2C%0A%20%20%20%20%20%20%20%20worldCopyJump%3A%20false%2C%0A%20%20%20%20%20%20%20%20crs%3A%20L.CRS.EPSG3857%2C%0A%20%20%20%20%20%20%20%20zoomControl%3A%20true%2C%0A%20%20%20%20%20%20%20%20%7D%29%3B%0A%0A%0A%20%20%20%20%0A%20%20%20%20var%20tile_layer_b4d421588377483f8439cd2215700de2%20%3D%20L.tileLayer%28%0A%20%20%20%20%20%20%20%20%27https%3A//%7Bs%7D.tile.openstreetmap.org/%7Bz%7D/%7Bx%7D/%7By%7D.png%27%2C%0A%20%20%20%20%20%20%20%20%7B%0A%20%20%20%20%20%20%20%20%22attribution%22%3A%20null%2C%0A%20%20%20%20%20%20%20%20%22detectRetina%22%3A%20false%2C%0A%20%20%20%20%20%20%20%20%22maxNativeZoom%22%3A%2018%2C%0A%20%20%20%20%20%20%20%20%22maxZoom%22%3A%2018%2C%0A%20%20%20%20%20%20%20%20%22minZoom%22%3A%200%2C%0A%20%20%20%20%20%20%20%20%22noWrap%22%3A%20false%2C%0A%20%20%20%20%20%20%20%20%22opacity%22%3A%201%2C%0A%20%20%20%20%20%20%20%20%22subdomains%22%3A%20%22abc%22%2C%0A%20%20%20%20%20%20%20%20%22tms%22%3A%20false%0A%7D%29.addTo%28map_bc568d7e38274d4e907d0a872d760d21%29%3B%0A%20%20%20%20%0A%20%20%20%20%20%20%20%20%20%20%20%20var%20heat_map_6bb8bf5007034bcd9caa1638da8b483f%20%3D%20L.heatLayer%28%0A%20%20%20%20%20%20%20%20%20%20%20%20%20%20%20%20%5B%5B-6.253896713256836%2C%20106.79105377197266%2C%200.7539911714464974%5D%2C%20%5B-6.223310470581055%2C%20106.73213958740234%2C%200.5881131281095082%5D%2C%20%5B-6.1448540687561035%2C%20106.79374694824219%2C%200.5881131281095082%5D%2C%20%5B-6.164422988891602%2C%20106.74706268310547%2C%200.7539911714464974%5D%2C%20%5B-6.154561996459961%2C%20106.73556518554688%2C%200.47320486092557057%5D%2C%20%5B-6.1680908203125%2C%20106.83980560302734%2C%200.5285478284414831%5D%2C%20%5B-6.135875225067139%2C%20106.96749877929688%2C%200.7539911714464974%5D%2C%20%5B-6.278813362121582%2C%20106.78111267089844%2C%200.6031929371571979%5D%2C%20%5B-6.219787120819092%2C%20106.8117904663086%2C%201.5079823428929948%5D%2C%20%5B-6.118950843811035%2C%20106.8675537109375%2C%200.5881131281095082%5D%2C%20%5B-6.310909748077393%2C%20107.06372833251953%2C%200.5881131281095082%5D%2C%20%5B-6.292545318603516%2C%20106.79872131347656%2C%201.8095788114715936%5D%2C%20%5B-6.239814758300781%2C%20106.88451385498047%2C%204.523947028678984%5D%2C%20%5B-6.181583404541016%2C%20106.81487274169922%2C%200.7539911714464974%5D%2C%20%5B-6.325375080108643%2C%20107.00434875488281%2C%200.5881131281095082%5D%2C%20%5B-6.257543563842773%2C%20106.9406509399414%2C%200.48496713355462895%5D%2C%20%5B-6.221863746643066%2C%20106.69950866699219%2C%200.470490473725126%5D%2C%20%5B-6.268001556396484%2C%20106.97687530517578%2C%200.5881131281095082%5D%2C%20%5B-6.215294361114502%2C%20106.91864776611328%2C%201.5079823428929948%5D%2C%20%5B-6.32469367980957%2C%20106.73345184326172%2C%201.5079823428929948%5D%2C%20%5B-6.16296911239624%2C%20107.00837707519531%2C%200.7539911714464974%5D%2C%20%5B-6.120955467224121%2C%20106.91693878173828%2C%200.5881131281095082%5D%2C%20%5B-6.243349075317383%2C%20106.7151870727539%2C%200.6862827820833399%5D%2C%20%5B-6.214719772338867%2C%20106.6125259399414%2C%201.4324323665375969%5D%2C%20%5B-6.305203437805176%2C%20107.01042175292969%2C%200.6466228447395053%5D%2C%20%5B-6.192237854003906%2C%20106.86782836914062%2C%201.5079823428929948%5D%2C%20%5B-6.56519079208374%2C%20106.78314971923828%2C%201.5079823428929948%5D%2C%20%5B-6.123195648193359%2C%20106.80403900146484%2C%200.8597007658972746%5D%2C%20%5B-6.1713738441467285%2C%20106.72816467285156%2C%201.5079823428929948%5D%2C%20%5B-6.2848029136657715%2C%20107.0674057006836%2C%200.4561646731063712%5D%2C%20%5B-6.122467041015625%2C%20106.75144958496094%2C%201.3725655641666799%5D%2C%20%5B-6.2571611404418945%2C%20106.74464416503906%2C%200.5881131281095082%5D%2C%20%5B-6.157413005828857%2C%20106.70274353027344%2C%200.6031929371571979%5D%2C%20%5B-6.284467697143555%2C%20106.92479705810547%2C%200.7539911714464974%5D%2C%20%5B-6.592611789703369%2C%20106.79998779296875%2C%200.7539911714464974%5D%2C%20%5B-6.347024917602539%2C%20106.69255828857422%2C%200.5881131281095082%5D%2C%20%5B-6.201304912567139%2C%20106.81503295898438%2C%201.5079823428929948%5D%2C%20%5B-6.263336658477783%2C%20106.80838775634766%2C%200.7539911714464974%5D%2C%20%5B-6.1294355392456055%2C%20106.837158203125%2C%200.5881131281095082%5D%2C%20%5B-6.272802829742432%2C%20106.80980682373047%2C%200.47124448215406084%5D%2C%20%5B-6.313310623168945%2C%20106.86190795898438%2C%200.7788728743517357%5D%2C%20%5B-6.21787166595459%2C%20106.61123657226562%2C%202.2876092256736653%5D%2C%20%5B-6.222371578216553%2C%20106.67105865478516%2C%200.5881131281095082%5D%2C%20%5B-6.303194046020508%2C%20106.82658386230469%2C%201.8095788114715936%5D%2C%20%5B-6.230407238006592%2C%20106.8760986328125%2C%200.5881131281095082%5D%2C%20%5B-6.366078853607178%2C%20106.93666076660156%2C%201.4549013287576853%5D%2C%20%5B-6.244554042816162%2C%20106.7822036743164%2C%200.7539911714464974%5D%2C%20%5B-6.154232025146484%2C%20106.71630096435547%2C%200.4617441988587063%5D%2C%20%5B-6.197991371154785%2C%20106.98912048339844%2C%200.6031929371571979%5D%2C%20%5B-6.173827648162842%2C%20106.78768157958984%2C%200.7539911714464974%5D%2C%20%5B-6.249814510345459%2C%20106.96282958984375%2C%200.5053248937455603%5D%2C%20%5B-6.372837066650391%2C%20106.93494415283203%2C%201.4549013287576853%5D%2C%20%5B-6.269928455352783%2C%20106.77509307861328%2C%202.1111752800501926%5D%2C%20%5B-6.154797077178955%2C%20106.72798156738281%2C%201.5079823428929948%5D%2C%20%5B-6.203719615936279%2C%20106.80121612548828%2C%200.7089025316079751%5D%2C%20%5B-6.217246055603027%2C%20106.77782440185547%2C%200.7539911714464974%5D%2C%20%5B-6.159331321716309%2C%20106.79177856445312%2C%200.5881131281095082%5D%2C%20%5B-6.262209892272949%2C%20106.73751831054688%2C%200.9047894057357968%5D%2C%20%5B-6.303347110748291%2C%20106.99110412597656%2C%200.5881131281095082%5D%2C%20%5B-6.201214790344238%2C%20106.83873748779297%2C%200.5881131281095082%5D%2C%20%5B-6.124100685119629%2C%20106.95709991455078%2C%200.7539911714464974%5D%2C%20%5B-6.274185657501221%2C%20106.84635925292969%2C%200.5881131281095082%5D%2C%20%5B-6.3052825927734375%2C%20106.96115112304688%2C%200.48813388266871355%5D%2C%20%5B-6.162269115447998%2C%20106.84379577636719%2C%200.48918946570674177%5D%2C%20%5B-6.263587474822998%2C%20106.78813171386719%2C%200.7539911714464974%5D%2C%20%5B-6.224918365478516%2C%20106.94597625732422%2C%200.5881131281095082%5D%2C%20%5B-6.265605449676514%2C%20106.82379150390625%2C%200.5881131281095082%5D%2C%20%5B-6.2984938621521%2C%20106.76154327392578%2C%201.5079823428929948%5D%2C%20%5B-6.423445224761963%2C%20106.73014831542969%2C%200.9547035988508201%5D%2C%20%5B-6.249933242797852%2C%20106.9588394165039%2C%202.058848274343818%5D%2C%20%5B-6.5293049812316895%2C%20106.8021240234375%2C%201.3571841086036953%5D%2C%20%5B-6.292019844055176%2C%20106.79735565185547%2C%200.7539911714464974%5D%2C%20%5B-6.284326076507568%2C%20106.9091796875%2C%200.7539911714464974%5D%2C%20%5B-6.325229644775391%2C%20106.76695251464844%2C%201.0379442310815088%5D%2C%20%5B-6.096147060394287%2C%20106.1335220336914%2C%200.5881131281095082%5D%2C%20%5B-6.282838344573975%2C%20106.96946716308594%2C%200.5881131281095082%5D%2C%20%5B-6.270155906677246%2C%20106.73289489746094%2C%200.7539911714464974%5D%2C%20%5B-6.225247383117676%2C%20106.86138916015625%2C%200.6031929371571979%5D%2C%20%5B-6.26857328414917%2C%20106.65960693359375%2C%200.6031929371571979%5D%2C%20%5B-6.35107421875%2C%20106.87834167480469%2C%200.6862827820833399%5D%2C%20%5B-6.221785545349121%2C%20107.00052642822266%2C%200.7539911714464974%5D%2C%20%5B-6.369141101837158%2C%20106.74530029296875%2C%202.4127717486287916%5D%2C%20%5B-6.32322359085083%2C%20106.7840576171875%2C%200.7539911714464974%5D%2C%20%5B-6.257513046264648%2C%20106.7042236328125%2C%200.5133171961361459%5D%2C%20%5B-6.221709251403809%2C%20106.52922058105469%2C%200.5881131281095082%5D%2C%20%5B-6.1823015213012695%2C%20106.70063018798828%2C%200.9047894057357968%5D%2C%20%5B-6.249841213226318%2C%20106.79373168945312%2C%200.7539911714464974%5D%2C%20%5B-6.254460334777832%2C%20106.8638916015625%2C%200.4756176375638211%5D%2C%20%5B-6.191221714019775%2C%20106.74931335449219%2C%200.7539911714464974%5D%2C%20%5B-6.583566188812256%2C%20106.83692932128906%2C%200.6031929371571979%5D%2C%20%5B-6.24825382232666%2C%20106.93003845214844%2C%200.5881131281095082%5D%2C%20%5B-6.335784912109375%2C%20106.8289794921875%2C%201.5079823428929948%5D%2C%20%5B-6.109960079193115%2C%20106.8855209350586%2C%201.3571841086036953%5D%2C%20%5B-6.131507873535156%2C%20106.8716049194336%2C%201.5079823428929948%5D%2C%20%5B-6.2000603675842285%2C%20106.8531494140625%2C%200.5881131281095082%5D%2C%20%5B-6.274324893951416%2C%20106.78231811523438%2C%200.7539911714464974%5D%2C%20%5B-6.180097579956055%2C%20106.81781005859375%2C%201.9398685342185158%5D%2C%20%5B-6.307009220123291%2C%20106.9368667602539%2C%200.5332225584603366%5D%2C%20%5B-6.218020439147949%2C%20106.89981079101562%2C%200.5881131281095082%5D%2C%20%5B-6.134116172790527%2C%20106.68973541259766%2C%200.7539911714464974%5D%2C%20%5B-6.269790172576904%2C%20106.7837142944336%2C%200.5881131281095082%5D%2C%20%5B-6.270204067230225%2C%20106.9869155883789%2C%200.5881131281095082%5D%2C%20%5B-6.145442962646484%2C%20106.72858428955078%2C%201.5079823428929948%5D%2C%20%5B-6.301738262176514%2C%20107.06874084472656%2C%200.4523947028678984%5D%2C%20%5B-6.28156852722168%2C%20106.69378662109375%2C%200.48406233782114744%5D%2C%20%5B-6.206172466278076%2C%20106.62799072265625%2C%200.7539911714464974%5D%2C%20%5B-6.308095932006836%2C%20106.83850860595703%2C%201.658780577182294%5D%2C%20%5B-6.361788749694824%2C%20106.93405151367188%2C%201.0198484602242812%5D%2C%20%5B-6.184973239898682%2C%20106.78816986083984%2C%205.65794981956447%5D%2C%20%5B-6.2431488037109375%2C%20106.86128234863281%2C%200.5881131281095082%5D%2C%20%5B-6.554361343383789%2C%20106.77661895751953%2C%204.825543497257583%5D%2C%20%5B-6.254107475280762%2C%20106.82740020751953%2C%201.2136242401822481%5D%2C%20%5B-6.273569583892822%2C%20106.84651947021484%2C%200.5881131281095082%5D%2C%20%5B-6.422582626342773%2C%20106.73180389404297%2C%200.4523947028678984%5D%2C%20%5B-6.2906494140625%2C%20106.88809204101562%2C%200.4523947028678984%5D%2C%20%5B-6.2029314041137695%2C%20106.90412902832031%2C%200.4523947028678984%5D%2C%20%5B-6.268113136291504%2C%20106.82389068603516%2C%200.5881131281095082%5D%2C%20%5B-6.2491350173950195%2C%20106.84282684326172%2C%201.5079823428929948%5D%2C%20%5B-6.2193217277526855%2C%20106.77951049804688%2C%200.6466228447395053%5D%2C%20%5B-6.285577774047852%2C%20106.87104034423828%2C%200.4523947028678984%5D%2C%20%5B-6.152734756469727%2C%20106.85017395019531%2C%201.5079823428929948%5D%2C%20%5B-6.291776657104492%2C%20106.70545196533203%2C%200.6466228447395053%5D%2C%20%5B-6.346958160400391%2C%20106.68787384033203%2C%200.5881131281095082%5D%2C%20%5B-6.121543884277344%2C%20106.76876068115234%2C%200.9429413262217617%5D%2C%20%5B-6.2709503173828125%2C%20106.75736999511719%2C%200.9047894057357968%5D%2C%20%5B-6.21885347366333%2C%20106.67166900634766%2C%200.5881131281095082%5D%2C%20%5B-6.350586891174316%2C%20106.67291259765625%2C%200.7539911714464974%5D%2C%20%5B-6.250677585601807%2C%20106.95286560058594%2C%201.3920184926710288%5D%2C%20%5B-6.220508098602295%2C%20106.8128662109375%2C%200.9047894057357968%5D%2C%20%5B-6.287271976470947%2C%20106.77935028076172%2C%200.7539911714464974%5D%2C%20%5B-6.30096960067749%2C%20106.83098602294922%2C%201.2063858743143958%5D%2C%20%5B-6.193504333496094%2C%20106.89757537841797%2C%200.5881131281095082%5D%2C%20%5B-6.225255012512207%2C%20106.78933715820312%2C%200.7539911714464974%5D%2C%20%5B-6.137640476226807%2C%20106.91446685791016%2C%200.7539911714464974%5D%2C%20%5B-6.208651065826416%2C%20106.8594970703125%2C%201.5079823428929948%5D%2C%20%5B-6.157524585723877%2C%20106.84315490722656%2C%202.4127717486287916%5D%2C%20%5B-6.164432525634766%2C%20106.78892517089844%2C%201.0673499126541548%5D%2C%20%5B-6.30618953704834%2C%20106.892822265625%2C%200.5881131281095082%5D%2C%20%5B-6.2248101234436035%2C%20106.71018981933594%2C%200.5881131281095082%5D%2C%20%5B-6.257134914398193%2C%20106.9601821899414%2C%200.5881131281095082%5D%2C%20%5B-6.199952602386475%2C%20106.87332916259766%2C%202.058848274343818%5D%2C%20%5B-6.250547409057617%2C%20106.99183654785156%2C%200.4659665310108191%5D%2C%20%5B-6.196444511413574%2C%20106.84019470214844%2C%201.658780577182294%5D%2C%20%5B-6.148090362548828%2C%20106.86227416992188%2C%201.5079823428929948%5D%2C%20%5B-6.186748504638672%2C%20106.72476959228516%2C%200.4897926508780292%5D%2C%20%5B-6.267688274383545%2C%20106.9951400756836%2C%200.5881131281095082%5D%2C%20%5B-6.311082363128662%2C%20106.92344665527344%2C%200.7539911714464974%5D%2C%20%5B-6.2590651512146%2C%20106.63848114013672%2C%200.5881131281095082%5D%2C%20%5B-6.308148384094238%2C%20106.95494842529297%2C%200.5881131281095082%5D%2C%20%5B-6.231437683105469%2C%20106.96048736572266%2C%200.7539911714464974%5D%2C%20%5B-6.252767562866211%2C%20107.15319061279297%2C%200.4523947028678984%5D%2C%20%5B-6.282793045043945%2C%20106.79598236083984%2C%200.4523947028678984%5D%2C%20%5B-6.227802753448486%2C%20106.61565399169922%2C%202.058848274343818%5D%2C%20%5B-6.307766914367676%2C%20106.83918762207031%2C%200.5881131281095082%5D%2C%20%5B-6.19557523727417%2C%20106.87456512451172%2C%200.7539911714464974%5D%2C%20%5B-6.297338485717773%2C%20106.99276733398438%2C%200.5881131281095082%5D%2C%20%5B-6.233518123626709%2C%20106.99175262451172%2C%200.7539911714464974%5D%2C%20%5B-6.203510761260986%2C%20106.80279541015625%2C%201.8095788114715936%5D%2C%20%5B-6.20341157913208%2C%20106.90386199951172%2C%201.5079823428929948%5D%2C%20%5B-6.217626571655273%2C%20106.66661834716797%2C%204.526359913176537%5D%2C%20%5B-6.2530837059021%2C%20106.77140808105469%2C%200.7539911714464974%5D%2C%20%5B-6.378067970275879%2C%20106.83475494384766%2C%200.7539911714464974%5D%2C%20%5B-6.166426181793213%2C%20106.7958755493164%2C%200.5881131281095082%5D%2C%20%5B-6.136260032653809%2C%20106.73290252685547%2C%200.5881131281095082%5D%2C%20%5B-6.321247100830078%2C%20106.86520385742188%2C%200.8082785559243816%5D%2C%20%5B-6.226129055023193%2C%20106.94367980957031%2C%200.7539911714464974%5D%2C%20%5B-6.242668628692627%2C%20106.84317016601562%2C%200.5267382369745199%5D%2C%20%5B-6.235697269439697%2C%20106.52324676513672%2C%200.5881131281095082%5D%2C%20%5B-6.14219856262207%2C%20106.8066635131836%2C%201.4381627155475794%5D%2C%20%5B-6.265176296234131%2C%20106.66255187988281%2C%200.6031929371571979%5D%2C%20%5B-6.143107891082764%2C%20106.79302215576172%2C%200.5881131281095082%5D%2C%20%5B-6.2256927490234375%2C%20106.86705017089844%2C%200.4523947028678984%5D%2C%20%5B-6.192088603973389%2C%20106.80570220947266%2C%205.819605890280354%5D%2C%20%5B-6.347639083862305%2C%20106.72867584228516%2C%200.7539911714464974%5D%2C%20%5B-6.26433801651001%2C%20106.78350830078125%2C%200.7539911714464974%5D%2C%20%5B-6.239927768707275%2C%20106.80243682861328%2C%204.523947028678984%5D%2C%20%5B-6.252506256103516%2C%20106.95234680175781%2C%202.058848274343818%5D%2C%20%5B-6.313144207000732%2C%20107.07057189941406%2C%200.5881131281095082%5D%2C%20%5B-6.122524261474609%2C%20106.75374603271484%2C%200.9150436615069855%5D%2C%20%5B-6.225329399108887%2C%20106.83854675292969%2C%200.5246270708984636%5D%2C%20%5B-6.208802223205566%2C%20106.7969970703125%2C%200.9047894057357968%5D%2C%20%5B-6.204301834106445%2C%20106.80089569091797%2C%200.7539911714464974%5D%2C%20%5B-6.358144760131836%2C%20106.71888732910156%2C%201.2063858743143958%5D%2C%20%5B-6.392443656921387%2C%20106.84104919433594%2C%200.7539911714464974%5D%2C%20%5B-6.266506671905518%2C%20106.93722534179688%2C%200.7539911714464974%5D%2C%20%5B-6.274322986602783%2C%20107.02372741699219%2C%200.7539911714464974%5D%2C%20%5B-6.221535682678223%2C%20106.5403060913086%2C%200.5881131281095082%5D%2C%20%5B-6.171541213989258%2C%20106.87726593017578%2C%200.7539911714464974%5D%2C%20%5B-6.304192543029785%2C%20106.84796142578125%2C%200.7539911714464974%5D%2C%20%5B-6.247838973999023%2C%20106.91835021972656%2C%200.8082785559243816%5D%2C%20%5B-6.247399806976318%2C%20106.5308609008789%2C%200.5881131281095082%5D%2C%20%5B-6.257150650024414%2C%20106.81904602050781%2C%200.7539911714464974%5D%2C%20%5B-6.13189172744751%2C%20106.83113098144531%2C%200.5881131281095082%5D%2C%20%5B-6.226018905639648%2C%20106.86712646484375%2C%200.5404608883750881%5D%2C%20%5B-6.296309471130371%2C%20107.06802368164062%2C%200.8082785559243816%5D%2C%20%5B-6.24939489364624%2C%20106.94155883789062%2C%200.4523947028678984%5D%2C%20%5B-6.343390941619873%2C%20106.73164367675781%2C%200.7539911714464974%5D%2C%20%5B-6.203944206237793%2C%20106.97701263427734%2C%200.7539911714464974%5D%2C%20%5B-6.25266695022583%2C%20106.7563705444336%2C%200.5881131281095082%5D%2C%20%5B-6.237659454345703%2C%20106.82696533203125%2C%200.4523947028678984%5D%2C%20%5B-6.199261665344238%2C%20106.83477020263672%2C%200.5881131281095082%5D%2C%20%5B-6.2032575607299805%2C%20106.76947784423828%2C%201.5079823428929948%5D%2C%20%5B-6.2730231285095215%2C%20106.78279876708984%2C%200.5881131281095082%5D%2C%20%5B-6.514194965362549%2C%20106.79640197753906%2C%201.3571841086036953%5D%2C%20%5B-6.179598808288574%2C%20106.79570007324219%2C%202.909802945140177%5D%2C%20%5B-6.298389434814453%2C%20106.76143646240234%2C%200.5881131281095082%5D%2C%20%5B-6.234710693359375%2C%20106.82733154296875%2C%201.5079823428929948%5D%2C%20%5B-6.298723220825195%2C%20106.88329315185547%2C%200.5881131281095082%5D%2C%20%5B-6.217227458953857%2C%20106.66825103759766%2C%202.909802945140177%5D%2C%20%5B-6.29369592666626%2C%20106.85577392578125%2C%200.5881131281095082%5D%2C%20%5B-6.309088706970215%2C%20106.93641662597656%2C%200.4649109479727909%5D%2C%20%5B-6.184905529022217%2C%20106.76837158203125%2C%200.7539911714464974%5D%2C%20%5B-6.432300090789795%2C%20106.73358154296875%2C%204.825543497257583%5D%2C%20%5B-6.600195407867432%2C%20106.80496978759766%2C%200.7539911714464974%5D%2C%20%5B-6.249781131744385%2C%20106.84282684326172%2C%200.7539911714464974%5D%2C%20%5B-6.134373188018799%2C%20106.78532409667969%2C%200.6466228447395053%5D%2C%20%5B-6.211659908294678%2C%20106.94895935058594%2C%200.7539911714464974%5D%2C%20%5B-6.225013256072998%2C%20106.6031494140625%2C%200.4523947028678984%5D%2C%20%5B-6.308283805847168%2C%20106.71903991699219%2C%200.5881131281095082%5D%2C%20%5B-6.316909313201904%2C%20106.8639907836914%2C%200.9150436615069855%5D%2C%20%5B-6.151022911071777%2C%20106.78866577148438%2C%202.3773342153432715%5D%2C%20%5B-6.159369468688965%2C%20106.81916809082031%2C%200.4557122752396304%5D%2C%20%5B-6.249563694000244%2C%20106.7957763671875%2C%201.3571841086036953%5D%2C%20%5B-6.34699010848999%2C%20106.9134521484375%2C%200.7539911714464974%5D%2C%20%5B-6.353403091430664%2C%20106.74952697753906%2C%200.5881131281095082%5D%2C%20%5B-6.3860602378845215%2C%20106.83870697021484%2C%200.7539911714464974%5D%2C%20%5B-6.241816997528076%2C%20106.79285430908203%2C%200.5445324332226542%5D%2C%20%5B-6.265909194946289%2C%20107.03209686279297%2C%200.6466228447395053%5D%2C%20%5B-6.192798137664795%2C%20106.8487319946289%2C%200.5881131281095082%5D%2C%20%5B-6.2092814445495605%2C%20106.977783203125%2C%200.4523947028678984%5D%2C%20%5B-6.12817907333374%2C%20106.80603790283203%2C%200.5881131281095082%5D%2C%20%5B-6.246035575866699%2C%20106.87152099609375%2C%207.539911714464973%5D%2C%20%5B-6.2259440422058105%2C%20106.83240509033203%2C%201.5079823428929948%5D%2C%20%5B-6.2277021408081055%2C%20106.92430877685547%2C%200.9572671987467181%5D%2C%20%5B-6.2330145835876465%2C%20106.83153533935547%2C%200.5881131281095082%5D%2C%20%5B-6.32144021987915%2C%20106.9848861694336%2C%201.1159069481220565%5D%2C%20%5B-6.161313056945801%2C%20107.02210235595703%2C%200.6031929371571979%5D%2C%20%5B-6.272758483886719%2C%20106.86038970947266%2C%200.7539911714464974%5D%2C%20%5B-6.3137006759643555%2C%20107.06404113769531%2C%200.6466228447395053%5D%2C%20%5B-6.345595836639404%2C%20106.70707702636719%2C%200.4943166295454368%5D%2C%20%5B-6.34540319442749%2C%20106.67289733886719%2C%200.7539911714464974%5D%2C%20%5B-6.204819202423096%2C%20106.83139038085938%2C%200.7539911714464974%5D%2C%20%5B-6.237420558929443%2C%20106.9996566772461%2C%201.5079823428929948%5D%2C%20%5B-6.3906779289245605%2C%20106.94795227050781%2C%201.5079823428929948%5D%2C%20%5B-6.225883960723877%2C%20106.65441131591797%2C%201.9398685342185158%5D%2C%20%5B-6.261266231536865%2C%20106.9105453491211%2C%201.5079823428929948%5D%2C%20%5B-6.23604154586792%2C%20106.82559967041016%2C%201.5079823428929948%5D%2C%20%5B-6.279829025268555%2C%20106.9957504272461%2C%201.6165571118487632%5D%2C%20%5B-6.1897478103637695%2C%20106.96615600585938%2C%200.7539911714464974%5D%2C%20%5B-6.307021617889404%2C%20106.8944091796875%2C%200.7539911714464974%5D%2C%20%5B-6.392434597015381%2C%20106.84100341796875%2C%200.7539911714464974%5D%2C%20%5B-6.568760871887207%2C%20106.78582000732422%2C%201.5079823428929948%5D%2C%20%5B-6.231714248657227%2C%20106.82029724121094%2C%201.8095788114715936%5D%2C%20%5B-6.225214004516602%2C%20106.86712646484375%2C%200.6595914877111385%5D%2C%20%5B-6.318941593170166%2C%20106.68685150146484%2C%200.5881131281095082%5D%2C%20%5B-6.30425500869751%2C%20106.83197021484375%2C%201.8095788114715936%5D%2C%20%5B-6.064502716064453%2C%20106.12039184570312%2C%200.5881131281095082%5D%2C%20%5B-6.45120906829834%2C%20106.81869506835938%2C%200.6862827820833399%5D%2C%20%5B-6.190343379974365%2C%20106.7633056640625%2C%200.7539911714464974%5D%2C%20%5B-6.152760982513428%2C%20106.84999084472656%2C%200.5881131281095082%5D%2C%20%5B-6.193588733673096%2C%20106.891357421875%2C%200.4523947028678984%5D%2C%20%5B-6.266842365264893%2C%20107.20917510986328%2C%200.5881131281095082%5D%2C%20%5B-6.291355609893799%2C%20106.87167358398438%2C%200.49688019348823403%5D%2C%20%5B-6.178084850311279%2C%20106.63966369628906%2C%200.6333525552525772%5D%2C%20%5B-6.167679786682129%2C%20106.82913208007812%2C%200.5881131281095082%5D%2C%20%5B-6.259202480316162%2C%20106.74443817138672%2C%200.5437784247937193%5D%2C%20%5B-6.243775367736816%2C%20107.01380157470703%2C%201.5079823428929948%5D%2C%20%5B-6.334794044494629%2C%20106.89749145507812%2C%200.7539911714464974%5D%2C%20%5B-6.2119951248168945%2C%20106.8066635131836%2C%200.7539911714464974%5D%2C%20%5B-6.258039951324463%2C%20106.63044738769531%2C%200.5881131281095082%5D%2C%20%5B-6.161660671234131%2C%20106.82634735107422%2C%200.7539911714464974%5D%2C%20%5B-6.249935150146484%2C%20106.95967864990234%2C%202.058848274343818%5D%2C%20%5B-6.452188491821289%2C%20106.9063491821289%2C%200.7539911714464974%5D%2C%20%5B-6.213990688323975%2C%20106.80864715576172%2C%201.5079823428929948%5D%2C%20%5B-6.157651901245117%2C%20106.76734161376953%2C%200.7539911714464974%5D%2C%20%5B-6.4341230392456055%2C%20107.00279235839844%2C%200.7539911714464974%5D%2C%20%5B-6.163790702819824%2C%20107.00642395019531%2C%200.7539911714464974%5D%2C%20%5B-6.347095012664795%2C%20106.72753143310547%2C%200.7539911714464974%5D%2C%20%5B-6.217721462249756%2C%20106.93889617919922%2C%202.058848274343818%5D%2C%20%5B-6.200174331665039%2C%20106.72057342529297%2C%200.5881131281095082%5D%2C%20%5B-6.145191669464111%2C%20106.86212158203125%2C%200.7539911714464974%5D%2C%20%5B-6.287773132324219%2C%20106.87844848632812%2C%200.5881131281095082%5D%2C%20%5B-6.327308654785156%2C%20106.76649475097656%2C%201.2063858743143958%5D%2C%20%5B-6.175555229187012%2C%20106.64579010009766%2C%200.6936718633495372%5D%2C%20%5B-6.311025142669678%2C%20106.95257568359375%2C%200.4523947028678984%5D%2C%20%5B-6.196467399597168%2C%20106.71343994140625%2C%200.7539911714464974%5D%2C%20%5B-6.211021423339844%2C%20106.94930267333984%2C%201.5079823428929948%5D%2C%20%5B-6.224292278289795%2C%20106.91763305664062%2C%200.7539911714464974%5D%2C%20%5B-6.248375415802002%2C%20106.97452545166016%2C%201.4549013287576853%5D%2C%20%5B-6.113157272338867%2C%20106.91724395751953%2C%200.48677668906849125%5D%2C%20%5B-6.124695301055908%2C%20106.8812255859375%2C%201.3571841086036953%5D%2C%20%5B-6.192269325256348%2C%20106.8752670288086%2C%200.9150436615069855%5D%2C%20%5B-6.117367267608643%2C%20106.88346099853516%2C%201.0032606343187218%5D%2C%20%5B-6.27038049697876%2C%20106.82389068603516%2C%200.5881131281095082%5D%2C%20%5B-6.289787769317627%2C%20106.7967529296875%2C%201.5079823428929948%5D%2C%20%5B-6.179769992828369%2C%20106.78369140625%2C%201.5079823428929948%5D%2C%20%5B-6.306023597717285%2C%20106.80411529541016%2C%201.3001823369253664%5D%2C%20%5B-6.568809986114502%2C%20106.7858657836914%2C%200.5881131281095082%5D%2C%20%5B-6.230709075927734%2C%20107.02046203613281%2C%200.7539911714464974%5D%2C%20%5B-6.2881550788879395%2C%20106.84342956542969%2C%200.5881131281095082%5D%2C%20%5B-6.266000747680664%2C%20107.03226470947266%2C%200.6466228447395053%5D%2C%20%5B-6.2236409187316895%2C%20106.84972381591797%2C%201.5079823428929948%5D%2C%20%5B-6.230757713317871%2C%20106.78997039794922%2C%201.5079823428929948%5D%2C%20%5B-6.207721710205078%2C%20106.9062728881836%2C%200.5881131281095082%5D%2C%20%5B-6.250226974487305%2C%20106.99189758300781%2C%200.562175806213141%5D%2C%20%5B-6.422974586486816%2C%20106.7311019897461%2C%200.4523947028678984%5D%2C%20%5B-6.192169189453125%2C%20106.87469482421875%2C%200.6862827820833399%5D%2C%20%5B-6.453343391418457%2C%20106.92059326171875%2C%200.7539911714464974%5D%2C%20%5B-6.558250904083252%2C%20106.84547424316406%2C%200.7539911714464974%5D%2C%20%5B-6.335555076599121%2C%20106.92354583740234%2C%200.5881131281095082%5D%2C%20%5B-6.196289539337158%2C%20106.79741668701172%2C%201.5079823428929948%5D%2C%20%5B-6.261971950531006%2C%20106.88751220703125%2C%200.7539911714464974%5D%2C%20%5B-6.12773323059082%2C%20106.95743560791016%2C%200.7539911714464974%5D%2C%20%5B-6.29992151260376%2C%20106.9811019897461%2C%200.7539911714464974%5D%2C%20%5B-6.294442176818848%2C%20106.99825286865234%2C%200.6466228447395053%5D%2C%20%5B-6.403609275817871%2C%20106.86164093017578%2C%200.5881131281095082%5D%2C%20%5B-6.240973472595215%2C%20106.83428192138672%2C%200.5881131281095082%5D%2C%20%5B-6.267355442047119%2C%20107.22801208496094%2C%200.5881131281095082%5D%2C%20%5B-6.525047779083252%2C%20106.76341247558594%2C%204.825543497257583%5D%2C%20%5B-6.3149261474609375%2C%20107.00543212890625%2C%200.4523947028678984%5D%2C%20%5B-6.266666412353516%2C%20106.80426788330078%2C%200.7539911714464974%5D%2C%20%5B-6.26278018951416%2C%20106.86491394042969%2C%200.5881131281095082%5D%2C%20%5B-6.234858512878418%2C%20107.01678466796875%2C%200.7539911714464974%5D%2C%20%5B-6.30385160446167%2C%20107.02501678466797%2C%200.5881131281095082%5D%2C%20%5B-6.224960803985596%2C%20106.8050308227539%2C%200.9699342671092579%5D%2C%20%5B-6.195801258087158%2C%20106.62918090820312%2C%201.5079823428929948%5D%2C%20%5B-6.123910427093506%2C%20106.91065216064453%2C%201.3725655641666799%5D%2C%20%5B-6.5827836990356445%2C%20106.78793334960938%2C%201.5079823428929948%5D%2C%20%5B-6.341509819030762%2C%20106.97846221923828%2C%201.130986757169746%5D%2C%20%5B-6.204616069793701%2C%20106.71502685546875%2C%200.5318653648601143%5D%2C%20%5B-6.183171272277832%2C%20106.81246185302734%2C%200.5881131281095082%5D%2C%20%5B-6.1675238609313965%2C%20106.9162368774414%2C%202.261973514339492%5D%2C%20%5B-6.166775226593018%2C%20106.78826904296875%2C%200.8348189910858348%5D%2C%20%5B-6.302762985229492%2C%20106.6495590209961%2C%200.5881131281095082%5D%2C%20%5B-6.19575309753418%2C%20106.62464904785156%2C%200.5881131281095082%5D%2C%20%5B-6.272331237792969%2C%20106.86709594726562%2C%200.9758154034237871%5D%2C%20%5B-6.22566032409668%2C%20106.87500762939453%2C%200.5881131281095082%5D%2C%20%5B-6.252755165100098%2C%20106.59879302978516%2C%200.5881131281095082%5D%2C%20%5B-6.227708339691162%2C%20106.71723175048828%2C%200.5881131281095082%5D%2C%20%5B-6.20029878616333%2C%20106.81307220458984%2C%200.5881131281095082%5D%2C%20%5B-6.257718086242676%2C%20106.82077026367188%2C%200.7539911714464974%5D%2C%20%5B-6.189026355743408%2C%20106.59252166748047%2C%200.7539911714464974%5D%2C%20%5B-6.1735615730285645%2C%20106.8601303100586%2C%201.8095788114715936%5D%2C%20%5B-6.30345344543457%2C%20106.88523864746094%2C%200.5881131281095082%5D%2C%20%5B-6.31008768081665%2C%20106.77210235595703%2C%201.2063858743143958%5D%2C%20%5B-6.140830993652344%2C%20106.81450653076172%2C%201.5079823428929948%5D%2C%20%5B-6.250269889831543%2C%20106.75643920898438%2C%200.5881131281095082%5D%2C%20%5B-6.3053297996521%2C%20106.68025970458984%2C%200.5881131281095082%5D%2C%20%5B-6.274446964263916%2C%20106.77555084228516%2C%205.428736434414781%5D%2C%20%5B-6.137415409088135%2C%20106.91448974609375%2C%200.5881131281095082%5D%2C%20%5B-6.590458393096924%2C%20106.78974914550781%2C%200.7539911714464974%5D%2C%20%5B-6.272035121917725%2C%20106.75038146972656%2C%200.7539911714464974%5D%2C%20%5B-6.165121555328369%2C%20106.74560546875%2C%200.7539911714464974%5D%2C%20%5B-6.253683090209961%2C%20106.82728576660156%2C%201.658780577182294%5D%2C%20%5B-6.154682636260986%2C%20106.73974609375%2C%200.5881131281095082%5D%2C%20%5B-6.603329658508301%2C%20106.79793548583984%2C%200.7539911714464974%5D%2C%20%5B-6.12761116027832%2C%20106.8468017578125%2C%200.5881131281095082%5D%2C%20%5B-6.1957688331604%2C%20106.97373962402344%2C%201.5079823428929948%5D%2C%20%5B-6.246100902557373%2C%20106.78157043457031%2C%200.5691125255656984%5D%2C%20%5B-6.421202182769775%2C%20106.82878112792969%2C%200.7539911714464974%5D%2C%20%5B-6.235442161560059%2C%20106.52307891845703%2C%201.5079823428929948%5D%2C%20%5B-6.19665002822876%2C%20106.85790252685547%2C%200.7539911714464974%5D%2C%20%5B-6.209156036376953%2C%20106.9017105102539%2C%200.5881131281095082%5D%2C%20%5B-6.208549976348877%2C%20106.56644439697266%2C%201.5079823428929948%5D%2C%20%5B-6.131350994110107%2C%20106.7298583984375%2C%200.9150436615069855%5D%2C%20%5B-6.221443176269531%2C%20106.9706039428711%2C%202.4127717486287916%5D%2C%20%5B-6.148688316345215%2C%20106.70269775390625%2C%200.986672880319364%5D%2C%20%5B-6.320679664611816%2C%20106.923828125%2C%200.5881131281095082%5D%2C%20%5B-6.234291076660156%2C%20106.9713134765625%2C%200.9444493430796315%5D%2C%20%5B-6.241830825805664%2C%20106.70278930664062%2C%200.5828351769662665%5D%2C%20%5B-6.3889312744140625%2C%20106.81436920166016%2C%200.7539911714464974%5D%2C%20%5B-6.151698112487793%2C%20106.63602447509766%2C%200.7539911714464974%5D%2C%20%5B-6.58433198928833%2C%20106.8787841796875%2C%204.825543497257583%5D%2C%20%5B-6.373145580291748%2C%20106.93433380126953%2C%201.0736834108823239%5D%2C%20%5B-6.228426933288574%2C%20106.79053497314453%2C%204.523947028678984%5D%2C%20%5B-6.241921424865723%2C%20106.55595397949219%2C%200.6031929371571979%5D%2C%20%5B-6.2397780418396%2C%20107.15575408935547%2C%200.5881131281095082%5D%2C%20%5B-6.134940147399902%2C%20106.79261779785156%2C%201.5079823428929948%5D%2C%20%5B-6.155284881591797%2C%20106.74664306640625%2C%200.5881131281095082%5D%2C%20%5B-6.270847320556641%2C%20106.77518463134766%2C%202.4127717486287916%5D%2C%20%5B-6.196187973022461%2C%20106.82868957519531%2C%200.6031929371571979%5D%2C%20%5B-6.2918806076049805%2C%20106.81324005126953%2C%202.058848274343818%5D%2C%20%5B-6.249289035797119%2C%20106.9921646118164%2C%200.5881131281095082%5D%2C%20%5B-6.274123191833496%2C%20106.77495574951172%2C%200.4719984905829957%5D%2C%20%5B-6.268975257873535%2C%20106.98298645019531%2C%200.8082785559243816%5D%2C%20%5B-6.224229335784912%2C%20106.70306396484375%2C%200.4692841033825511%5D%2C%20%5B-6.318094253540039%2C%20106.92281341552734%2C%200.5881131281095082%5D%2C%20%5B-6.292453765869141%2C%20106.79056549072266%2C%201.5079823428929948%5D%2C%20%5B-6.583102226257324%2C%20106.79236602783203%2C%201.5079823428929948%5D%2C%20%5B-6.173469066619873%2C%20106.80567169189453%2C%200.7539911714464974%5D%2C%20%5B-6.30013370513916%2C%20106.7626953125%2C%200.9598307267364145%5D%2C%20%5B-6.259639263153076%2C%20106.86418914794922%2C%200.5881131281095082%5D%2C%20%5B-6.17031717300415%2C%20106.84024047851562%2C%200.7539911714464974%5D%2C%20%5B-6.175471782684326%2C%20106.80240631103516%2C%200.7539911714464974%5D%2C%20%5B-6.121711254119873%2C%20106.7723159790039%2C%200.7539911714464974%5D%2C%20%5B-6.274463176727295%2C%20106.77561950683594%2C%200.4523947028678984%5D%2C%20%5B-6.224593162536621%2C%20106.87703704833984%2C%200.7539911714464974%5D%2C%20%5B-6.26523494720459%2C%20106.7569580078125%2C%200.49130063178279815%5D%2C%20%5B-6.272127628326416%2C%20106.74933624267578%2C%200.7539911714464974%5D%2C%20%5B-6.112724781036377%2C%20106.8836898803711%2C%201.3571841086036953%5D%2C%20%5B-6.127679824829102%2C%20106.80677795410156%2C%204.523947028678984%5D%2C%20%5B-6.117267608642578%2C%20106.87415313720703%2C%200.5413656481554688%5D%2C%20%5B-6.218635559082031%2C%20106.9579849243164%2C%200.7539911714464974%5D%2C%20%5B-6.164077281951904%2C%20106.83802795410156%2C%200.5881131281095082%5D%2C%20%5B-6.139695644378662%2C%20106.8192367553711%2C%200.5881131281095082%5D%2C%20%5B-6.296812057495117%2C%20106.90310668945312%2C%200.7539911714464974%5D%2C%20%5B-6.273755073547363%2C%20106.8187484741211%2C%200.5881131281095082%5D%2C%20%5B-6.183113098144531%2C%20106.95960235595703%2C%201.5079823428929948%5D%2C%20%5B-6.372865200042725%2C%20106.74523162841797%2C%202.4127717486287916%5D%2C%20%5B-6.2470550537109375%2C%20106.64954376220703%2C%200.7539911714464974%5D%2C%20%5B-6.51021671295166%2C%20106.79441833496094%2C%200.9777757821952968%5D%2C%20%5B-6.259223461151123%2C%20106.82891845703125%2C%200.4799907929735813%5D%2C%20%5B-6.246556758880615%2C%20106.78143310546875%2C%200.7539911714464974%5D%2C%20%5B-6.219515800476074%2C%20106.85910034179688%2C%200.7539911714464974%5D%2C%20%5B-6.5002522468566895%2C%20106.86756896972656%2C%200.7539911714464974%5D%2C%20%5B-6.154777526855469%2C%20106.71546936035156%2C%200.4994437574310312%5D%2C%20%5B-6.250370025634766%2C%20106.62560272216797%2C%200.5881131281095082%5D%2C%20%5B-6.251852989196777%2C%20106.75634765625%2C%200.5881131281095082%5D%2C%20%5B-6.1486124992370605%2C%20106.70271301269531%2C%203.0352668988919933%5D%2C%20%5B-6.193091869354248%2C%20106.90576171875%2C%200.5881131281095082%5D%2C%20%5B-6.251304626464844%2C%20106.51599884033203%2C%201.5079823428929948%5D%2C%20%5B-6.458766460418701%2C%20106.89691925048828%2C%200.7539911714464974%5D%2C%20%5B-6.143880367279053%2C%20106.78303527832031%2C%201.5079823428929948%5D%2C%20%5B-6.4956817626953125%2C%20106.75215911865234%2C%204.825543497257583%5D%2C%20%5B-6.303500175476074%2C%20106.9373779296875%2C%200.5881131281095082%5D%2C%20%5B-6.2306413650512695%2C%20106.95799255371094%2C%200.7539911714464974%5D%2C%20%5B-6.243068695068359%2C%20106.52360534667969%2C%200.5433260269269786%5D%2C%20%5B-6.17844820022583%2C%20106.62406921386719%2C%200.5881131281095082%5D%2C%20%5B-6.164313316345215%2C%20106.78900909423828%2C%201.0221104136048842%5D%2C%20%5B-6.254513263702393%2C%20106.62425994873047%2C%201.5079823428929948%5D%2C%20%5B-6.230926036834717%2C%20106.95866394042969%2C%200.9047894057357968%5D%2C%20%5B-6.302542209625244%2C%20106.85499572753906%2C%200.5869067218138326%5D%2C%20%5B-6.225266933441162%2C%20106.87820434570312%2C%200.5881131281095082%5D%2C%20%5B-6.20654821395874%2C%20106.82889556884766%2C%200.6862827820833399%5D%2C%20%5B-6.22506046295166%2C%20106.83908081054688%2C%200.7539911714464974%5D%2C%20%5B-6.292189121246338%2C%20106.78949737548828%2C%201.9603770457608931%5D%2C%20%5B-6.223621845245361%2C%20106.98177337646484%2C%200.7539911714464974%5D%2C%20%5B-6.141976356506348%2C%20106.88886260986328%2C%201.5079823428929948%5D%2C%20%5B-6.1973724365234375%2C%20106.85633850097656%2C%201.5079823428929948%5D%2C%20%5B-6.236714839935303%2C%20106.79325103759766%2C%201.5079823428929948%5D%2C%20%5B-6.580723285675049%2C%20106.78775024414062%2C%200.5881131281095082%5D%2C%20%5B-6.1966962814331055%2C%20106.7975082397461%2C%201.5079823428929948%5D%2C%20%5B-6.267465591430664%2C%20107.22827911376953%2C%200.48496713355462895%5D%2C%20%5B-6.15559720993042%2C%20106.79320526123047%2C%200.5881131281095082%5D%2C%20%5B-6.182939529418945%2C%20106.93297576904297%2C%200.9518384243458289%5D%2C%20%5B-6.182834625244141%2C%20106.8847885131836%2C%200.5881131281095082%5D%2C%20%5B-6.259871482849121%2C%20106.70418548583984%2C%200.5881131281095082%5D%2C%20%5B-6.2027692794799805%2C%20106.90435028076172%2C%200.4548074795061489%5D%2C%20%5B-6.244833946228027%2C%20106.84185028076172%2C%201.5079823428929948%5D%2C%20%5B-6.174428939819336%2C%20106.85301971435547%2C%200.7539911714464974%5D%2C%20%5B-6.2076096534729%2C%20106.95382690429688%2C%200.6466228447395053%5D%2C%20%5B-6.182936191558838%2C%20106.72286987304688%2C%200.5881131281095082%5D%2C%20%5B-6.255598068237305%2C%20106.61119079589844%2C%200.5881131281095082%5D%2C%20%5B-6.310741424560547%2C%20106.92424774169922%2C%200.4879830953641669%5D%2C%20%5B-6.219015598297119%2C%20106.81233978271484%2C%202.563569982918091%5D%2C%20%5B-6.541178226470947%2C%20106.77194213867188%2C%204.825543497257583%5D%2C%20%5B-6.265151500701904%2C%20106.87569427490234%2C%200.7539911714464974%5D%2C%20%5B-6.263770580291748%2C%20106.8160171508789%2C%200.7539911714464974%5D%2C%20%5B-6.310286998748779%2C%20106.92436981201172%2C%200.45329949860137997%5D%2C%20%5B-6.524436950683594%2C%20106.76286315917969%2C%204.825543497257583%5D%2C%20%5B-6.252033233642578%2C%20106.80870819091797%2C%201.2063858743143958%5D%2C%20%5B-6.186252117156982%2C%20106.73036193847656%2C%201.5079823428929948%5D%2C%20%5B-6.179109573364258%2C%20106.79696655273438%2C%200.7539911714464974%5D%2C%20%5B-6.192589282989502%2C%20106.87757110595703%2C%200.6862827820833399%5D%2C%20%5B-6.190877914428711%2C%20106.87531280517578%2C%201.5079823428929948%5D%2C%20%5B-6.222244739532471%2C%20106.78446197509766%2C%200.5881131281095082%5D%2C%20%5B-6.162531852722168%2C%20106.67973327636719%2C%200.4523947028678984%5D%2C%20%5B-6.19582462310791%2C%20106.62957000732422%2C%201.5079823428929948%5D%2C%20%5B-6.224041938781738%2C%20106.91014099121094%2C%200.508491642859645%5D%2C%20%5B-6.225592136383057%2C%20106.87910461425781%2C%200.7539911714464974%5D%2C%20%5B-6.237060546875%2C%20106.62845611572266%2C%200.4523947028678984%5D%2C%20%5B-6.244809627532959%2C%20106.9928207397461%2C%200.5881131281095082%5D%2C%20%5B-6.274181365966797%2C%20107.02262878417969%2C%200.7539911714464974%5D%2C%20%5B-6.596391677856445%2C%20106.82122039794922%2C%200.7539911714464974%5D%2C%20%5B-6.215368747711182%2C%20106.87017059326172%2C%200.6031929371571979%5D%2C%20%5B-6.275038719177246%2C%20107.0255355834961%2C%200.7539911714464974%5D%2C%20%5B-6.23969030380249%2C%20106.81897735595703%2C%200.7539911714464974%5D%2C%20%5B-6.423359394073486%2C%20106.7303237915039%2C%200.8955907330026364%5D%2C%20%5B-6.2905449867248535%2C%20106.78113555908203%2C%201.9603770457608931%5D%2C%20%5B-6.16679573059082%2C%20107.02710723876953%2C%200.6031929371571979%5D%2C%20%5B-6.306372165679932%2C%20106.82331848144531%2C%201.2063858743143958%5D%2C%20%5B-6.163862705230713%2C%20106.65744018554688%2C%203.166762920075289%5D%2C%20%5B-6.232477188110352%2C%20106.96334075927734%2C%201.2063858743143958%5D%2C%20%5B-6.225333213806152%2C%20106.86056518554688%2C%200.7539911714464974%5D%2C%20%5B-6.216733455657959%2C%20106.76509094238281%2C%200.5881131281095082%5D%2C%20%5B-6.217611789703369%2C%20106.8999252319336%2C%200.5881131281095082%5D%2C%20%5B-6.200643062591553%2C%20106.82807922363281%2C%200.5881131281095082%5D%2C%20%5B-6.220605850219727%2C%20106.52978515625%2C%200.5881131281095082%5D%2C%20%5B-6.23209285736084%2C%20106.83103942871094%2C%200.7539911714464974%5D%2C%20%5B-6.262683391571045%2C%20106.99513244628906%2C%201.6165571118487632%5D%2C%20%5B-6.15815544128418%2C%20106.72776794433594%2C%201.5079823428929948%5D%2C%20%5B-6.258815288543701%2C%20107.00350189208984%2C%200.5881131281095082%5D%2C%20%5B-6.183250427246094%2C%20106.82288360595703%2C%200.7539911714464974%5D%2C%20%5B-6.194175720214844%2C%20106.8099136352539%2C%200.5881131281095082%5D%2C%20%5B-6.2925262451171875%2C%20106.87199401855469%2C%200.4523947028678984%5D%2C%20%5B-6.223508358001709%2C%20106.73016357421875%2C%200.5881131281095082%5D%2C%20%5B-6.266240119934082%2C%20106.93656921386719%2C%200.7539911714464974%5D%2C%20%5B-6.216404438018799%2C%20106.7734603881836%2C%200.5881131281095082%5D%2C%20%5B-6.426138401031494%2C%20106.90568542480469%2C%200.6114868141568768%5D%2C%20%5B-6.273114204406738%2C%20107.05146026611328%2C%200.4843639124302408%5D%2C%20%5B-6.1736741065979%2C%20106.8227310180664%2C%200.7539911714464974%5D%2C%20%5B-6.325676441192627%2C%20106.92410278320312%2C%200.5881131281095082%5D%2C%20%5B-6.29973840713501%2C%20107.0048828125%2C%200.5881131281095082%5D%2C%20%5B-6.427338600158691%2C%20106.90611267089844%2C%200.9047894057357968%5D%2C%20%5B-6.253459453582764%2C%20106.9670181274414%2C%200.4523947028678984%5D%2C%20%5B-6.3241496086120605%2C%20106.7383804321289%2C%200.7539911714464974%5D%2C%20%5B-6.169427394866943%2C%20106.6798324584961%2C%200.4523947028678984%5D%2C%20%5B-6.334253311157227%2C%20106.83519744873047%2C%201.5079823428929948%5D%2C%20%5B-6.203014373779297%2C%20106.82288360595703%2C%201.5079823428929948%5D%2C%20%5B-6.228252410888672%2C%20107.00151062011719%2C%200.5881131281095082%5D%2C%20%5B-6.1832098960876465%2C%20106.72984313964844%2C%201.5079823428929948%5D%2C%20%5B-6.303344249725342%2C%20106.84320068359375%2C%200.5881131281095082%5D%2C%20%5B-6.215981960296631%2C%20106.81853485107422%2C%200.6466228447395053%5D%2C%20%5B-6.275061130523682%2C%20106.77629089355469%2C%200.6031929371571979%5D%2C%20%5B-6.225205898284912%2C%20106.82994079589844%2C%200.7539911714464974%5D%2C%20%5B-6.170724391937256%2C%20106.81336975097656%2C%200.7539911714464974%5D%2C%20%5B-6.268997669219971%2C%20106.99486541748047%2C%200.8996622778502025%5D%2C%20%5B-6.365941524505615%2C%20106.67986297607422%2C%200.7539911714464974%5D%2C%20%5B-6.263713836669922%2C%20106.76966857910156%2C%200.5881131281095082%5D%2C%20%5B-6.129239082336426%2C%20106.90860748291016%2C%200.6862827820833399%5D%2C%20%5B-6.225353240966797%2C%20106.71118927001953%2C%200.4523947028678984%5D%2C%20%5B-6.183372974395752%2C%20106.92414093017578%2C%200.98049009748954%5D%2C%20%5B-6.249156475067139%2C%20106.86622619628906%2C%200.5881131281095082%5D%2C%20%5B-6.604335308074951%2C%20106.80753326416016%2C%201.658780577182294%5D%2C%20%5B-6.309123992919922%2C%20107.0648193359375%2C%200.5881131281095082%5D%2C%20%5B-6.292521953582764%2C%20106.79708862304688%2C%201.5079823428929948%5D%2C%20%5B-6.250124931335449%2C%20106.88017272949219%2C%200.5881131281095082%5D%2C%20%5B-6.2811360359191895%2C%20106.99862670898438%2C%200.6092248607762738%5D%2C%20%5B-6.213954925537109%2C%20106.86309051513672%2C%201.5079823428929948%5D%2C%20%5B-6.3113555908203125%2C%20106.83822631835938%2C%200.7539911714464974%5D%2C%20%5B-6.222713470458984%2C%20106.64433288574219%2C%200.7539911714464974%5D%2C%20%5B-6.306456565856934%2C%20106.85916137695312%2C%200.6862827820833399%5D%2C%20%5B-6.227102279663086%2C%20106.8814926147461%2C%200.595351422071159%5D%2C%20%5B-6.243578910827637%2C%20106.7158432006836%2C%200.6862827820833399%5D%2C%20%5B-6.171908855438232%2C%20106.8294906616211%2C%200.7539911714464974%5D%2C%20%5B-6.192783832550049%2C%20106.87364959716797%2C%202.058848274343818%5D%2C%20%5B-6.263033866882324%2C%20106.8653335571289%2C%200.5881131281095082%5D%2C%20%5B-6.200355529785156%2C%20106.83242797851562%2C%200.8970986779543046%5D%2C%20%5B-6.184317111968994%2C%20106.94237518310547%2C%200.873724991906936%5D%2C%20%5B-6.185709476470947%2C%20106.6155014038086%2C%200.5881131281095082%5D%2C%20%5B-6.216248035430908%2C%20106.81664276123047%2C%200.6466228447395053%5D%2C%20%5B-6.228933811187744%2C%20106.84744262695312%2C%200.9047894057357968%5D%2C%20%5B-6.509955883026123%2C%20106.79402160644531%2C%200.8960430949162764%5D%2C%20%5B-6.249073505401611%2C%20106.93644714355469%2C%200.5881131281095082%5D%2C%20%5B-6.391791820526123%2C%20106.8380355834961%2C%200.7539911714464974%5D%2C%20%5B-6.143970966339111%2C%20106.80683135986328%2C%202.058848274343818%5D%2C%20%5B-6.224756717681885%2C%20106.86593627929688%2C%200.5881131281095082%5D%2C%20%5B-6.27428674697876%2C%20107.02095031738281%2C%200.7539911714464974%5D%2C%20%5B-6.142510414123535%2C%20106.89054870605469%2C%201.5079823428929948%5D%2C%20%5B-6.1924591064453125%2C%20106.9769058227539%2C%200.5881131281095082%5D%2C%20%5B-6.219345569610596%2C%20106.7430648803711%2C%200.5881131281095082%5D%2C%20%5B-6.283451557159424%2C%20106.74654388427734%2C%201.5079823428929948%5D%2C%20%5B-6.16008186340332%2C%20106.6319580078125%2C%200.6333525552525772%5D%2C%20%5B-6.208420276641846%2C%20106.56651306152344%2C%201.5079823428929948%5D%2C%20%5B-6.266491413116455%2C%20106.77400207519531%2C%200.563985397680104%5D%2C%20%5B-6.242215633392334%2C%20106.75389099121094%2C%200.6031929371571979%5D%2C%20%5B-6.3001885414123535%2C%20106.98054504394531%2C%200.7539911714464974%5D%2C%20%5B-6.347369194030762%2C%20106.914306640625%2C%200.7539911714464974%5D%2C%20%5B-6.306029319763184%2C%20106.8040542602539%2C%201.8095788114715936%5D%2C%20%5B-6.121225357055664%2C%20106.80384063720703%2C%200.7539911714464974%5D%2C%20%5B-6.27781343460083%2C%20106.85501861572266%2C%200.5881131281095082%5D%2C%20%5B-6.293266773223877%2C%20106.82087707519531%2C%200.7539911714464974%5D%2C%20%5B-6.254106521606445%2C%20106.62252807617188%2C%200.5881131281095082%5D%2C%20%5B-6.325713157653809%2C%20106.69877624511719%2C%200.5881131281095082%5D%2C%20%5B-6.265542984008789%2C%20106.75780487060547%2C%200.4523947028678984%5D%2C%20%5B-6.133548259735107%2C%20106.73358917236328%2C%200.5881131281095082%5D%2C%20%5B-6.321495532989502%2C%20106.6825942993164%2C%200.5546359016892962%5D%2C%20%5B-6.34557580947876%2C%20106.75861358642578%2C%207.238315245886374%5D%2C%20%5B-6.254199981689453%2C%20106.96573638916016%2C%200.8082785559243816%5D%2C%20%5B-6.259657382965088%2C%20106.75817108154297%2C%200.5881131281095082%5D%2C%20%5B-6.311131477355957%2C%20106.90322875976562%2C%200.5881131281095082%5D%2C%20%5B-6.184055328369141%2C%20106.81443786621094%2C%200.5404608883750881%5D%2C%20%5B-6.334185600280762%2C%20106.74034118652344%2C%200.7539911714464974%5D%2C%20%5B-6.343164443969727%2C%20106.7033462524414%2C%200.5881131281095082%5D%2C%20%5B-6.2293901443481445%2C%20106.79650115966797%2C%200.5223650815647597%5D%2C%20%5B-6.202312469482422%2C%20106.8160171508789%2C%200.5881131281095082%5D%2C%20%5B-6.1665825843811035%2C%20106.79167175292969%2C%200.5881131281095082%5D%2C%20%5B-6.1823577880859375%2C%20106.81822967529297%2C%200.5881131281095082%5D%2C%20%5B-6.1350789070129395%2C%20106.83031463623047%2C%200.543476850184626%5D%2C%20%5B-6.296672821044922%2C%20106.7655258178711%2C%201.1769801927417498%5D%2C%20%5B-6.171321392059326%2C%20106.68276977539062%2C%200.7539911714464974%5D%2C%20%5B-6.27293586730957%2C%20106.76637268066406%2C%200.5638346103755574%5D%2C%20%5B-6.121484279632568%2C%20106.8628158569336%2C%200.49868974900209634%5D%2C%20%5B-6.22066068649292%2C%20106.56222534179688%2C%200.4523947028678984%5D%2C%20%5B-6.246891021728516%2C%20106.781494140625%2C%201.6165571118487632%5D%2C%20%5B-6.261981964111328%2C%20106.75460052490234%2C%200.9047894057357968%5D%2C%20%5B-6.225205898284912%2C%20106.86231231689453%2C%200.6031929371571979%5D%2C%20%5B-6.147706508636475%2C%20106.79421997070312%2C%200.5881131281095082%5D%2C%20%5B-6.224896430969238%2C%20106.94259643554688%2C%200.9047894057357968%5D%2C%20%5B-6.237860202789307%2C%20106.8284912109375%2C%200.9047894057357968%5D%2C%20%5B-6.19350004196167%2C%20106.90573120117188%2C%200.5881131281095082%5D%2C%20%5B-6.4233784675598145%2C%20107.00489044189453%2C%200.7539911714464974%5D%2C%20%5B-6.152976989746094%2C%20106.77106475830078%2C%200.6031929371571979%5D%2C%20%5B-6.237431526184082%2C%20106.82849884033203%2C%200.5881131281095082%5D%2C%20%5B-6.2854509353637695%2C%20106.91273498535156%2C%200.480141580278128%5D%2C%20%5B-6.232204914093018%2C%20106.70187377929688%2C%200.5881131281095082%5D%2C%20%5B-6.291947841644287%2C%20106.79362487792969%2C%200.7539911714464974%5D%2C%20%5B-6.289453029632568%2C%20106.90706634521484%2C%200.7539911714464974%5D%2C%20%5B-6.261183261871338%2C%20106.82759857177734%2C%200.5881131281095082%5D%2C%20%5B-6.160502910614014%2C%20106.68439483642578%2C%200.5881131281095082%5D%2C%20%5B-6.222237586975098%2C%20106.78448486328125%2C%201.2510220803330765%5D%2C%20%5B-6.126638889312744%2C%20106.79083251953125%2C%201.1315899782941343%5D%2C%20%5B-6.249582290649414%2C%20106.80896759033203%2C%201.5079823428929948%5D%2C%20%5B-6.566714763641357%2C%20106.7842025756836%2C%200.4938642316786961%5D%2C%20%5B-6.207653522491455%2C%20106.60709381103516%2C%201.1315899782941343%5D%2C%20%5B-6.272975921630859%2C%20106.74281311035156%2C%200.7539911714464974%5D%2C%20%5B-6.24324893951416%2C%20106.52366638183594%2C%200.5881131281095082%5D%2C%20%5B-6.5790910720825195%2C%20106.78790283203125%2C%201.3571841086036953%5D%2C%20%5B-6.17656946182251%2C%20106.9964599609375%2C%200.4830067547831192%5D%2C%20%5B-6.255703449249268%2C%20106.96226501464844%2C%201.1315899782941343%5D%2C%20%5B-6.25053071975708%2C%20106.75641632080078%2C%201.2063858743143958%5D%2C%20%5B-6.6020331382751465%2C%20106.8030014038086%2C%200.475316027001627%5D%2C%20%5B-6.210139274597168%2C%20106.90145874023438%2C%200.5881131281095082%5D%2C%20%5B-6.240137100219727%2C%20106.83049011230469%2C%200.7539911714464974%5D%2C%20%5B-6.309464931488037%2C%20106.92424774169922%2C%200.5881131281095082%5D%2C%20%5B-6.265931606292725%2C%20107.2143783569336%2C%200.5881131281095082%5D%2C%20%5B-6.163092136383057%2C%20106.67881774902344%2C%200.4710936948495142%5D%2C%20%5B-6.402303695678711%2C%20106.88592529296875%2C%200.5881131281095082%5D%2C%20%5B-6.248144626617432%2C%20106.97940826416016%2C%200.7539911714464974%5D%2C%20%5B-6.219728469848633%2C%20107.03068542480469%2C%201.3571841086036953%5D%2C%20%5B-6.216712951660156%2C%20106.7689437866211%2C%200.5881131281095082%5D%2C%20%5B-6.18154239654541%2C%20106.81670379638672%2C%204.688015696267615%5D%2C%20%5B-6.237196922302246%2C%20106.82758331298828%2C%200.6466228447395053%5D%2C%20%5B-6.234174728393555%2C%20106.79273986816406%2C%200.7539911714464974%5D%2C%20%5B-6.33697509765625%2C%20106.70005798339844%2C%200.47410965665905214%5D%2C%20%5B-6.356602668762207%2C%20106.93879699707031%2C%201.4549013287576853%5D%2C%20%5B-6.3060383796691895%2C%20106.93904113769531%2C%200.5172379536791654%5D%2C%20%5B-6.260250568389893%2C%20106.77161407470703%2C%200.7539911714464974%5D%2C%20%5B-6.155100345611572%2C%20106.74610137939453%2C%201.658780577182294%5D%2C%20%5B-6.274740695953369%2C%20106.91260528564453%2C%201.5079823428929948%5D%2C%20%5B-6.3106513023376465%2C%20106.90113067626953%2C%200.5881131281095082%5D%2C%20%5B-6.193191051483154%2C%20106.78321075439453%2C%200.7539911714464974%5D%2C%20%5B-6.143404483795166%2C%20106.7890853881836%2C%200.5881131281095082%5D%2C%20%5B-6.22625207901001%2C%20106.8671646118164%2C%200.5176903515459061%5D%2C%20%5B-6.185541152954102%2C%20106.82501220703125%2C%200.4733556482301173%5D%2C%20%5B-6.312711715698242%2C%20106.90418243408203%2C%200.5881131281095082%5D%2C%20%5B-6.219841480255127%2C%20106.60870361328125%2C%200.5881131281095082%5D%2C%20%5B-6.582862377166748%2C%20106.78968811035156%2C%201.5079823428929948%5D%2C%20%5B-6.2590436935424805%2C%20106.78925323486328%2C%200.7539911714464974%5D%2C%20%5B-6.149194240570068%2C%20106.83686828613281%2C%201.5079823428929948%5D%2C%20%5B-6.245116710662842%2C%20106.86821746826172%2C%200.5881131281095082%5D%2C%20%5B-6.442328453063965%2C%20106.73294067382812%2C%204.825543497257583%5D%2C%20%5B-6.309716701507568%2C%20106.93144989013672%2C%200.5881131281095082%5D%2C%20%5B-6.146227836608887%2C%20106.81615447998047%2C%201.0555876400250963%5D%2C%20%5B-6.188722610473633%2C%20106.75560760498047%2C%201.5079823428929948%5D%2C%20%5B-6.263498783111572%2C%20106.86368560791016%2C%200.5881131281095082%5D%2C%20%5B-6.127315998077393%2C%20106.84842681884766%2C%200.5881131281095082%5D%2C%20%5B-6.2481184005737305%2C%20106.97441864013672%2C%200.9687278248604816%5D%2C%20%5B-6.304404258728027%2C%20106.75640106201172%2C%201.5079823428929948%5D%2C%20%5B-6.248323440551758%2C%20106.7019271850586%2C%200.5881131281095082%5D%2C%20%5B-6.340692520141602%2C%20106.90357208251953%2C%200.7539911714464974%5D%2C%20%5B-6.285977840423584%2C%20106.91317749023438%2C%200.5587074465368623%5D%2C%20%5B-6.135310173034668%2C%20106.63302612304688%2C%200.5881131281095082%5D%2C%20%5B-6.1552815437316895%2C%20106.71427154541016%2C%201.5079823428929948%5D%2C%20%5B-6.182264804840088%2C%20106.90391540527344%2C%200.5881131281095082%5D%2C%20%5B-6.210717678070068%2C%20106.90148162841797%2C%200.49823735113535556%5D%2C%20%5B-6.147950172424316%2C%20106.71615600585938%2C%201.2063858743143958%5D%2C%20%5B-6.226837158203125%2C%20106.63451385498047%2C%200.9047894057357968%5D%2C%20%5B-6.152275562286377%2C%20106.6324234008789%2C%200.7539911714464974%5D%2C%20%5B-6.149469375610352%2C%20106.79441833496094%2C%201.5079823428929948%5D%2C%20%5B-6.228026866912842%2C%20106.71916961669922%2C%200.5881131281095082%5D%2C%20%5B-6.192142009735107%2C%20106.8707275390625%2C%202.058848274343818%5D%2C%20%5B-6.210681438446045%2C%20106.83026123046875%2C%200.6031929371571979%5D%2C%20%5B-6.127170085906982%2C%20106.84485626220703%2C%200.5881131281095082%5D%2C%20%5B-6.226115703582764%2C%20106.84745788574219%2C%200.5881131281095082%5D%2C%20%5B-6.284800052642822%2C%20106.96041107177734%2C%200.5881131281095082%5D%2C%20%5B-6.126990795135498%2C%20106.8501205444336%2C%200.5881131281095082%5D%2C%20%5B-6.30170202255249%2C%20107.0687026977539%2C%200.4523947028678984%5D%2C%20%5B-6.20136022567749%2C%20106.76922607421875%2C%200.7539911714464974%5D%2C%20%5B-6.268904209136963%2C%20107.2056884765625%2C%200.5881131281095082%5D%2C%20%5B-6.207517147064209%2C%20106.83792114257812%2C%200.7539911714464974%5D%2C%20%5B-6.298994541168213%2C%20106.778564453125%2C%201.5079823428929948%5D%2C%20%5B-6.304579257965088%2C%20107.0107421875%2C%200.5881131281095082%5D%2C%20%5B-6.248564720153809%2C%20106.5323715209961%2C%200.6031929371571979%5D%2C%20%5B-6.328081130981445%2C%20106.86451721191406%2C%200.6862827820833399%5D%2C%20%5B-6.356603145599365%2C%20106.7485580444336%2C%200.5881131281095082%5D%2C%20%5B-6.131902694702148%2C%20106.79242706298828%2C%201.7540850566511346%5D%2C%20%5B-6.600064277648926%2C%20106.81360626220703%2C%200.6031929371571979%5D%2C%20%5B-6.5650129318237305%2C%20106.84329223632812%2C%200.6031929371571979%5D%2C%20%5B-6.2215704917907715%2C%20106.5404052734375%2C%200.5881131281095082%5D%2C%20%5B-6.311747074127197%2C%20106.95362854003906%2C%200.5660965637561605%5D%2C%20%5B-6.422497749328613%2C%20106.73255157470703%2C%204.825543497257583%5D%2C%20%5B-6.580370903015137%2C%20106.76612091064453%2C%201.5079823428929948%5D%2C%20%5B-6.343993186950684%2C%20106.97843933105469%2C%201.130986757169746%5D%2C%20%5B-6.298974514007568%2C%20106.88325500488281%2C%200.8082785559243816%5D%2C%20%5B-6.288379669189453%2C%20106.84334564208984%2C%200.5881131281095082%5D%2C%20%5B-6.340392112731934%2C%20106.90280151367188%2C%200.7539911714464974%5D%2C%20%5B-6.236713409423828%2C%20106.79300689697266%2C%201.5079823428929948%5D%2C%20%5B-6.249814033508301%2C%20106.9627914428711%2C%200.47607003543056187%5D%2C%20%5B-6.197669982910156%2C%20106.97462463378906%2C%200.4523947028678984%5D%2C%20%5B-6.178974151611328%2C%20106.62284851074219%2C%200.5881131281095082%5D%2C%20%5B-6.2664570808410645%2C%20106.77447509765625%2C%200.5686601276989576%5D%2C%20%5B-6.587483882904053%2C%20106.77193450927734%2C%201.5079823428929948%5D%2C%20%5B-6.2077107429504395%2C%20106.6071548461914%2C%200.6466228447395053%5D%2C%20%5B-6.293330669403076%2C%20106.79521942138672%2C%200.7539911714464974%5D%2C%20%5B-6.19598388671875%2C%20106.85873413085938%2C%200.5881131281095082%5D%2C%20%5B-6.177097320556641%2C%20106.74458312988281%2C%200.5881131281095082%5D%2C%20%5B-6.4292168617248535%2C%20106.7217025756836%2C%201.4549013287576853%5D%2C%20%5B-6.311991214752197%2C%20106.91120147705078%2C%200.5881131281095082%5D%2C%20%5B-6.180461883544922%2C%20106.90628814697266%2C%200.5881131281095082%5D%2C%20%5B-6.198633193969727%2C%20106.87393951416016%2C%200.5881131281095082%5D%2C%20%5B-6.134822845458984%2C%20106.81430053710938%2C%201.2063858743143958%5D%2C%20%5B-6.2980804443359375%2C%20106.76130676269531%2C%201.5079823428929948%5D%2C%20%5B-6.223093509674072%2C%20106.70283508300781%2C%200.48180034848744363%5D%2C%20%5B-6.281309604644775%2C%20106.6865234375%2C%200.4523947028678984%5D%2C%20%5B-6.309125900268555%2C%20106.93367004394531%2C%200.4765224332973026%5D%2C%20%5B-6.195921421051025%2C%20106.8229751586914%2C%200.7539911714464974%5D%2C%20%5B-6.20675802230835%2C%20106.90237426757812%2C%201.5079823428929948%5D%2C%20%5B-6.1670308113098145%2C%20106.82402038574219%2C%200.48466552299243487%5D%2C%20%5B-6.578942775726318%2C%20106.79801177978516%2C%201.5079823428929948%5D%2C%20%5B-6.2422614097595215%2C%20106.78275299072266%2C%201.6165571118487632%5D%2C%20%5B-6.310904026031494%2C%20106.92447662353516%2C%200.5020073213738283%5D%2C%20%5B-6.263906002044678%2C%20106.79058074951172%2C%200.7539911714464974%5D%2C%20%5B-6.292263984680176%2C%20106.70610809326172%2C%200.8082785559243816%5D%2C%20%5B-6.18058967590332%2C%20106.84253692626953%2C%200.7539911714464974%5D%2C%20%5B-6.1834611892700195%2C%20106.69585418701172%2C%200.6484324362064683%5D%2C%20%5B-6.154688835144043%2C%20106.73847198486328%2C%200.5881131281095082%5D%2C%20%5B-6.271427631378174%2C%20107.04691314697266%2C%200.4523947028678984%5D%2C%20%5B-6.193627834320068%2C%20106.89620971679688%2C%200.5881131281095082%5D%2C%20%5B-6.216140270233154%2C%20106.67308807373047%2C%201.8095788114715936%5D%2C%20%5B-6.2130584716796875%2C%20106.81195068359375%2C%200.5514691525752116%5D%2C%20%5B-6.287899494171143%2C%20106.87076568603516%2C%200.5881131281095082%5D%2C%20%5B-6.3054938316345215%2C%20106.8623046875%2C%200.5881131281095082%5D%2C%20%5B-6.137458801269531%2C%20106.80655670166016%2C%202.2876092256736653%5D%2C%20%5B-6.2013092041015625%2C%20106.81558990478516%2C%200.5766524300895433%5D%2C%20%5B-6.193740367889404%2C%20106.5870132446289%2C%201.5079823428929948%5D%2C%20%5B-6.272814750671387%2C%20106.76785278320312%2C%201.658780577182294%5D%2C%20%5B-6.146473407745361%2C%20106.7746353149414%2C%201.5079823428929948%5D%2C%20%5B-6.2172932624816895%2C%20106.67150115966797%2C%200.5881131281095082%5D%2C%20%5B-6.164299964904785%2C%20106.63439178466797%2C%200.5881131281095082%5D%2C%20%5B-6.117146015167236%2C%20106.8700180053711%2C%200.4523947028678984%5D%2C%20%5B-6.1964335441589355%2C%20106.8401870727539%2C%200.5881131281095082%5D%2C%20%5B-6.209125995635986%2C%20106.81707000732422%2C%200.4523947028678984%5D%2C%20%5B-6.242641925811768%2C%20106.70317840576172%2C%200.9150436615069855%5D%2C%20%5B-6.2221879959106445%2C%20106.63447570800781%2C%200.7539911714464974%5D%2C%20%5B-6.189052581787109%2C%20106.80597686767578%2C%200.7539911714464974%5D%2C%20%5B-6.230238437652588%2C%20106.72333526611328%2C%200.6380273212245315%5D%2C%20%5B-6.201918125152588%2C%20106.81838989257812%2C%200.6466228447395053%5D%2C%20%5B-6.184321403503418%2C%20106.79710388183594%2C%200.7539911714464974%5D%2C%20%5B-6.23126745223999%2C%20107.01940155029297%2C%200.7539911714464974%5D%2C%20%5B-6.213519096374512%2C%20106.86214447021484%2C%200.9047894057357968%5D%2C%20%5B-6.126270294189453%2C%20106.87779235839844%2C%200.7539911714464974%5D%2C%20%5B-6.229615211486816%2C%20106.99009704589844%2C%200.7539911714464974%5D%2C%20%5B-6.268655776977539%2C%20106.91162872314453%2C%201.5079823428929948%5D%2C%20%5B-6.20623779296875%2C%20106.80254364013672%2C%200.7539911714464974%5D%2C%20%5B-6.336338043212891%2C%20106.8299789428711%2C%201.5079823428929948%5D%2C%20%5B-6.154196262359619%2C%20106.7164535522461%2C%200.4816495611828969%5D%2C%20%5B-6.289158344268799%2C%20106.84297943115234%2C%200.5881131281095082%5D%2C%20%5B-6.14523983001709%2C%20106.7340087890625%2C%200.4890386784021951%5D%2C%20%5B-6.309957981109619%2C%20107.0728988647461%2C%200.6466228447395053%5D%2C%20%5B-6.230187892913818%2C%20106.84719848632812%2C%200.9047894057357968%5D%2C%20%5B-6.197668552398682%2C%20106.58032989501953%2C%200.7539911714464974%5D%2C%20%5B-6.281495094299316%2C%20106.77251434326172%2C%200.7539911714464974%5D%2C%20%5B-6.170979022979736%2C%20106.6742935180664%2C%200.7539911714464974%5D%2C%20%5B-6.403495788574219%2C%20106.86163330078125%2C%200.5881131281095082%5D%2C%20%5B-6.217299461364746%2C%20106.93551635742188%2C%201.5079823428929948%5D%2C%20%5B-6.138476371765137%2C%20106.81460571289062%2C%200.4523947028678984%5D%2C%20%5B-6.191171169281006%2C%20106.75060272216797%2C%200.7539911714464974%5D%2C%20%5B-6.311925411224365%2C%20106.72245788574219%2C%200.8082785559243816%5D%2C%20%5B-6.2210307121276855%2C%20106.81050872802734%2C%200.6466228447395053%5D%2C%20%5B-6.361164569854736%2C%20106.7479019165039%2C%200.4958246104502058%5D%2C%20%5B-6.2253899574279785%2C%20106.86702728271484%2C%200.5406116756796348%5D%2C%20%5B-6.307493686676025%2C%20106.93717956542969%2C%200.4879830953641669%5D%2C%20%5B-6.229681968688965%2C%20106.8330307006836%2C%200.5881131281095082%5D%2C%20%5B-6.298628330230713%2C%20106.98458862304688%2C%201.1159069481220565%5D%2C%20%5B-6.306029319763184%2C%20106.80441284179688%2C%201.2063858743143958%5D%2C%20%5B-6.118408679962158%2C%20106.87249755859375%2C%200.48602271659265717%5D%2C%20%5B-6.259470462799072%2C%20106.78913879394531%2C%201.3571841086036953%5D%2C%20%5B-6.2311787605285645%2C%20106.80069732666016%2C%200.5881131281095082%5D%2C%20%5B-6.201608657836914%2C%20106.79965209960938%2C%200.4523947028678984%5D%2C%20%5B-6.253218173980713%2C%20106.59915161132812%2C%200.5881131281095082%5D%2C%20%5B-6.238972187042236%2C%20106.81793975830078%2C%200.7539911714464974%5D%2C%20%5B-6.282891750335693%2C%20106.82711791992188%2C%200.5881131281095082%5D%2C%20%5B-6.190226078033447%2C%20106.75995635986328%2C%200.7539911714464974%5D%2C%20%5B-6.213008403778076%2C%20106.80815887451172%2C%200.4523947028678984%5D%2C%20%5B-6.316915512084961%2C%20106.8159408569336%2C%200.862264293886971%5D%2C%20%5B-6.1923136711120605%2C%20106.61280822753906%2C%200.7539911714464974%5D%2C%20%5B-6.183159828186035%2C%20106.7926254272461%2C%203.0714584406064485%5D%2C%20%5B-6.196102142333984%2C%20106.97399139404297%2C%200.5184443240217402%5D%2C%20%5B-6.270741939544678%2C%20107.1949691772461%2C%200.5881131281095082%5D%2C%20%5B-6.208702564239502%2C%20106.97781372070312%2C%200.48813388266871355%5D%2C%20%5B-6.177901744842529%2C%20106.84203338623047%2C%201.5079823428929948%5D%2C%20%5B-6.183873176574707%2C%20106.68727111816406%2C%200.9047894057357968%5D%2C%20%5B-6.226803302764893%2C%20106.60401916503906%2C%200.7539911714464974%5D%2C%20%5B-6.346790790557861%2C%20106.76213836669922%2C%201.2063858743143958%5D%2C%20%5B-6.237785339355469%2C%20106.76654052734375%2C%200.6031929371571979%5D%2C%20%5B-6.26281213760376%2C%20106.97967529296875%2C%200.7539911714464974%5D%2C%20%5B-6.292516708374023%2C%20106.9573974609375%2C%200.5881131281095082%5D%2C%20%5B-6.3333940505981445%2C%20106.83524322509766%2C%200.7539911714464974%5D%2C%20%5B-6.263866901397705%2C%20106.86920928955078%2C%200.7539911714464974%5D%2C%20%5B-6.256435871124268%2C%20106.61093139648438%2C%201.8095788114715936%5D%2C%20%5B-6.140826225280762%2C%20106.78758239746094%2C%200.7539911714464974%5D%2C%20%5B-6.1643757820129395%2C%20106.97147369384766%2C%200.7539911714464974%5D%2C%20%5B-6.560801982879639%2C%20106.78951263427734%2C%204.825543497257583%5D%2C%20%5B-6.360950946807861%2C%20106.6771011352539%2C%200.7539911714464974%5D%2C%20%5B-6.354678153991699%2C%20106.81414031982422%2C%200.5881131281095082%5D%2C%20%5B-6.197477340698242%2C%20106.97447967529297%2C%200.7539911714464974%5D%2C%20%5B-6.263298988342285%2C%20106.86466217041016%2C%200.46445855010605014%5D%2C%20%5B-6.603582382202148%2C%20106.80618286132812%2C%202.1111752800501926%5D%2C%20%5B-6.169227123260498%2C%20106.85213470458984%2C%200.6031929371571979%5D%2C%20%5B-6.326052188873291%2C%20106.7405776977539%2C%200.7539911714464974%5D%2C%20%5B-6.301476001739502%2C%20106.75698852539062%2C%200.9697834798047112%5D%2C%20%5B-6.193608283996582%2C%20106.89138793945312%2C%200.4523947028678984%5D%2C%20%5B-6.189552307128906%2C%20106.83737182617188%2C%200.6031929371571979%5D%2C%20%5B-6.232536792755127%2C%20106.82266235351562%2C%200.5881131281095082%5D%2C%20%5B-6.184138774871826%2C%20106.94136047363281%2C%200.4523947028678984%5D%2C%20%5B-6.170482635498047%2C%20106.9747543334961%2C%200.7539911714464974%5D%2C%20%5B-6.2336530685424805%2C%20106.84449005126953%2C%201.2063858743143958%5D%2C%20%5B-6.218568801879883%2C%20106.56549072265625%2C%200.4843639124302408%5D%2C%20%5B-6.300201892852783%2C%20106.97747039794922%2C%200.7539911714464974%5D%2C%20%5B-6.220844268798828%2C%20106.5296630859375%2C%200.5881131281095082%5D%2C%20%5B-6.273953914642334%2C%20106.77481079101562%2C%200.835422212210223%5D%2C%20%5B-6.418639183044434%2C%20106.7334213256836%2C%200.5881131281095082%5D%2C%20%5B-6.210418701171875%2C%20106.62879943847656%2C%200.7539911714464974%5D%2C%20%5B-6.320188999176025%2C%20106.68199920654297%2C%200.7539911714464974%5D%2C%20%5B-6.220745086669922%2C%20106.6621322631836%2C%202.1015243173095937%5D%2C%20%5B-6.137773036956787%2C%20106.8708724975586%2C%201.5079823428929948%5D%2C%20%5B-6.270357608795166%2C%20106.81538391113281%2C%200.7539911714464974%5D%2C%20%5B-6.2730536460876465%2C%20106.85719299316406%2C%200.5881131281095082%5D%2C%20%5B-6.228168487548828%2C%20106.91796875%2C%201.243632999066879%5D%2C%20%5B-6.19044303894043%2C%20106.6246109008789%2C%200.7539911714464974%5D%2C%20%5B-6.20263147354126%2C%20106.7977523803711%2C%201.1315899782941343%5D%2C%20%5B-6.308030605316162%2C%20106.93658447265625%2C%200.4523947028678984%5D%2C%20%5B-6.226856231689453%2C%20106.81266784667969%2C%201.5079823428929948%5D%2C%20%5B-6.507569789886475%2C%20106.75751495361328%2C%204.825543497257583%5D%2C%20%5B-6.148980140686035%2C%20106.88898468017578%2C%201.5079823428929948%5D%2C%20%5B-6.353463172912598%2C%20107.34561157226562%2C%201.6165571118487632%5D%2C%20%5B-6.408542156219482%2C%20106.85440063476562%2C%200.7539911714464974%5D%2C%20%5B-6.509908199310303%2C%20106.7936019897461%2C%200.9011702228018708%5D%2C%20%5B-6.1960906982421875%2C%20106.80493927001953%2C%200.5881131281095082%5D%2C%20%5B-6.243363380432129%2C%20106.7462158203125%2C%200.5881131281095082%5D%2C%20%5B-6.152920246124268%2C%20106.72261047363281%2C%201.5079823428929948%5D%2C%20%5B-6.336981773376465%2C%20106.81310272216797%2C%201.9603770457608931%5D%2C%20%5B-6.201081275939941%2C%20106.81404113769531%2C%200.5881131281095082%5D%2C%20%5B-6.290820121765137%2C%20106.88695526123047%2C%201.1044462501020913%5D%2C%20%5B-6.294033050537109%2C%20106.64889526367188%2C%200.7539911714464974%5D%2C%20%5B-6.272373199462891%2C%20106.75128936767578%2C%200.49823735113535556%5D%2C%20%5B-6.286242961883545%2C%20106.82653045654297%2C%200.6766316755303379%5D%2C%20%5B-6.224156856536865%2C%20106.82633972167969%2C%204.523947028678984%5D%2C%20%5B-6.255615234375%2C%20106.9729995727539%2C%200.7539911714464974%5D%2C%20%5B-6.189637184143066%2C%20106.78944396972656%2C%200.7539911714464974%5D%2C%20%5B-6.3734893798828125%2C%20107.38199615478516%2C%202.101524173497191%5D%2C%20%5B-6.219533443450928%2C%20106.65679168701172%2C%200.7539911714464974%5D%2C%20%5B-6.185253620147705%2C%20106.67655944824219%2C%200.720212370417192%5D%2C%20%5B-6.501269817352295%2C%20106.78417205810547%2C%200.5881131281095082%5D%2C%20%5B-6.335198879241943%2C%20106.83499145507812%2C%201.5079823428929948%5D%2C%20%5B-6.19568395614624%2C%20106.9748306274414%2C%200.5327701605935958%5D%2C%20%5B-6.379446983337402%2C%20106.84564971923828%2C%200.7539911714464974%5D%2C%20%5B-6.590529441833496%2C%20106.78627014160156%2C%200.4647601606682442%5D%2C%20%5B-6.2066826820373535%2C%20106.83842468261719%2C%200.7539911714464974%5D%2C%20%5B-6.301703453063965%2C%20106.83699035644531%2C%200.6862827820833399%5D%2C%20%5B-6.168496608734131%2C%20106.89732360839844%2C%200.5881131281095082%5D%2C%20%5B-6.204065799713135%2C%20106.97714233398438%2C%200.4523947028678984%5D%2C%20%5B-6.292321681976318%2C%20106.90544128417969%2C%200.7539911714464974%5D%2C%20%5B-6.110202789306641%2C%20106.8841552734375%2C%201.5079823428929948%5D%2C%20%5B-6.2399187088012695%2C%20106.83263397216797%2C%200.4523947028678984%5D%2C%20%5B-6.260017395019531%2C%20106.97828674316406%2C%200.4845147356878882%5D%2C%20%5B-6.21868896484375%2C%20106.95601654052734%2C%200.7539911714464974%5D%2C%20%5B-6.390213966369629%2C%20106.8227310180664%2C%200.7539911714464974%5D%2C%20%5B-6.256441116333008%2C%20106.95116424560547%2C%202.058848274343818%5D%2C%20%5B-6.293479919433594%2C%20106.82075500488281%2C%200.5881131281095082%5D%2C%20%5B-6.422339916229248%2C%20106.73235321044922%2C%200.4523947028678984%5D%2C%20%5B-6.286790370941162%2C%20106.87075805664062%2C%200.5881131281095082%5D%2C%20%5B-6.200167179107666%2C%20106.83154296875%2C%200.5881131281095082%5D%2C%20%5B-6.177940368652344%2C%20106.6384048461914%2C%203.7699558572324867%5D%2C%20%5B-6.179191589355469%2C%20106.84152221679688%2C%202.4127717486287916%5D%2C%20%5B-6.197413444519043%2C%20106.82525634765625%2C%200.4523947028678984%5D%2C%20%5B-6.485804080963135%2C%20106.81707763671875%2C%201.5079823428929948%5D%2C%20%5B-6.235595703125%2C%20107.15608978271484%2C%200.5881131281095082%5D%2C%20%5B-6.2347259521484375%2C%20106.823974609375%2C%201.5079823428929948%5D%2C%20%5B-6.180713653564453%2C%20106.82222747802734%2C%205.496294324098198%5D%2C%20%5B-6.183619976043701%2C%20106.88615417480469%2C%200.5881131281095082%5D%2C%20%5B-6.256168365478516%2C%20106.78163146972656%2C%200.7539911714464974%5D%2C%20%5B-6.206173896789551%2C%20106.60507202148438%2C%201.4549013287576853%5D%2C%20%5B-6.228764533996582%2C%20106.91532135009766%2C%201.2063858743143958%5D%2C%20%5B-6.224923610687256%2C%20106.82798767089844%2C%201.1315899782941343%5D%2C%20%5B-6.2255473136901855%2C%20106.86701965332031%2C%200.45676785827765864%5D%2C%20%5B-6.217692852020264%2C%20106.74713897705078%2C%200.9047894057357968%5D%2C%20%5B-6.313803195953369%2C%20106.86241149902344%2C%200.6862827820833399%5D%2C%20%5B-6.271433353424072%2C%20107.04692077636719%2C%200.4523947028678984%5D%2C%20%5B-6.270524978637695%2C%20106.73015594482422%2C%200.7539911714464974%5D%2C%20%5B-6.3065996170043945%2C%20106.8220443725586%2C%201.8095788114715936%5D%2C%20%5B-6.191883087158203%2C%20106.80589294433594%2C%204.688015696267615%5D%2C%20%5B-6.219114780426025%2C%20106.94918060302734%2C%202.058848274343818%5D%2C%20%5B-6.349847793579102%2C%20106.87681579589844%2C%200.6010817710811415%5D%2C%20%5B-6.157768726348877%2C%20106.792236328125%2C%200.4643077628015035%5D%2C%20%5B-6.126363754272461%2C%20106.95686340332031%2C%200.7539911714464974%5D%2C%20%5B-6.238197326660156%2C%20106.82953643798828%2C%200.6466228447395053%5D%2C%20%5B-6.389848709106445%2C%20106.94761657714844%2C%201.5079823428929948%5D%2C%20%5B-6.200948715209961%2C%20106.73594665527344%2C%201.5079823428929948%5D%2C%20%5B-6.184640407562256%2C%20106.73008728027344%2C%204.825543497257583%5D%2C%20%5B-6.175997734069824%2C%20106.84162139892578%2C%201.5079823428929948%5D%2C%20%5B-6.261786937713623%2C%20106.97246551513672%2C%200.5253810433742977%5D%2C%20%5B-6.1177167892456055%2C%20106.89342498779297%2C%200.7539911714464974%5D%2C%20%5B-6.422811031341553%2C%20106.73141479492188%2C%200.4523947028678984%5D%2C%20%5B-6.204048156738281%2C%20106.97713470458984%2C%200.4523947028678984%5D%2C%20%5B-6.208864212036133%2C%20106.84697723388672%2C%200.8082785559243816%5D%2C%20%5B-6.262758255004883%2C%20106.77511596679688%2C%200.5881131281095082%5D%2C%20%5B-6.225644111633301%2C%20106.94929504394531%2C%200.9047894057357968%5D%2C%20%5B-6.354031085968018%2C%20107.34579467773438%2C%201.778212751127438%5D%2C%20%5B-6.106205463409424%2C%20106.92677307128906%2C%200.5881131281095082%5D%2C%20%5B-6.1825361251831055%2C%20106.83416748046875%2C%200.7539911714464974%5D%2C%20%5B-6.215447902679443%2C%20106.97567749023438%2C%200.7539911714464974%5D%2C%20%5B-6.2608561515808105%2C%20106.75837707519531%2C%201.2063858743143958%5D%2C%20%5B-6.1950273513793945%2C%20106.61495971679688%2C%200.4523947028678984%5D%2C%20%5B-6.157647609710693%2C%20106.86685943603516%2C%201.5079823428929948%5D%2C%20%5B-6.298516273498535%2C%20106.97223663330078%2C%200.7539911714464974%5D%2C%20%5B-6.604121685028076%2C%20106.79692077636719%2C%200.5881131281095082%5D%2C%20%5B-6.1977033615112305%2C%20106.7756576538086%2C%201.5079823428929948%5D%2C%20%5B-6.176607131958008%2C%20106.79370880126953%2C%200.5881131281095082%5D%2C%20%5B-6.231714248657227%2C%20106.80073547363281%2C%201.8095788114715936%5D%2C%20%5B-6.311373710632324%2C%20106.90601348876953%2C%201.5079823428929948%5D%2C%20%5B-6.171158790588379%2C%20106.68041229248047%2C%200.7539911714464974%5D%2C%20%5B-6.156962871551514%2C%20106.84758758544922%2C%200.9047894057357968%5D%2C%20%5B-6.26432466506958%2C%20106.78328704833984%2C%201.1148513650840282%5D%2C%20%5B-6.276597499847412%2C%20106.99221801757812%2C%200.5881131281095082%5D%2C%20%5B-6.273473262786865%2C%20106.78265380859375%2C%200.5881131281095082%5D%2C%20%5B-6.258326530456543%2C%20107.1617431640625%2C%200.5881131281095082%5D%2C%20%5B-6.30734920501709%2C%20106.97120666503906%2C%200.7539911714464974%5D%2C%20%5B-6.221128463745117%2C%20106.783203125%2C%200.6466228447395053%5D%2C%20%5B-6.1859965324401855%2C%20106.75468444824219%2C%201.5079823428929948%5D%2C%20%5B-6.200051307678223%2C%20106.99744415283203%2C%200.5881131281095082%5D%2C%20%5B-6.474147796630859%2C%20106.87826538085938%2C%200.7539911714464974%5D%2C%20%5B-6.223116874694824%2C%20106.80738067626953%2C%201.5079823428929948%5D%2C%20%5B-6.2213664054870605%2C%20106.78301239013672%2C%201.778212751127438%5D%2C%20%5B-6.306868076324463%2C%20106.71878814697266%2C%201.5079823428929948%5D%2C%20%5B-6.590297698974609%2C%20106.77422332763672%2C%201.5079823428929948%5D%2C%20%5B-6.274191856384277%2C%20107.0232925415039%2C%200.7539911714464974%5D%2C%20%5B-6.212547779083252%2C%20106.94132995605469%2C%201.5079823428929948%5D%2C%20%5B-6.202960968017578%2C%20106.84564971923828%2C%200.8082785559243816%5D%2C%20%5B-6.141806602478027%2C%20106.81476593017578%2C%201.0555876400250963%5D%2C%20%5B-6.175998210906982%2C%20106.7480239868164%2C%200.4863242912017505%5D%2C%20%5B-6.212437629699707%2C%20106.68722534179688%2C%200.7539911714464974%5D%2C%20%5B-6.233511924743652%2C%20106.82186889648438%2C%201.5079823428929948%5D%2C%20%5B-6.2052788734436035%2C%20106.76953887939453%2C%201.5079823428929948%5D%2C%20%5B-6.257510185241699%2C%20106.8433837890625%2C%201.0184913025771596%5D%2C%20%5B-6.30294132232666%2C%20107.00993347167969%2C%200.5881131281095082%5D%2C%20%5B-6.226376533508301%2C%20106.95873260498047%2C%200.4523947028678984%5D%2C%20%5B-6.174370288848877%2C%20106.85628509521484%2C%200.7539911714464974%5D%2C%20%5B-6.218898773193359%2C%20106.56586456298828%2C%200.4523947028678984%5D%2C%20%5B-6.163013935089111%2C%20106.78986358642578%2C%201.2063858743143958%5D%2C%20%5B-6.189165115356445%2C%20106.9645767211914%2C%200.7539911714464974%5D%2C%20%5B-6.234329700469971%2C%20106.81303405761719%2C%200.7539911714464974%5D%2C%20%5B-6.42676305770874%2C%20106.95875549316406%2C%200.7539911714464974%5D%2C%20%5B-6.184678077697754%2C%20106.72429656982422%2C%200.5881131281095082%5D%2C%20%5B-6.214919567108154%2C%20106.83602142333984%2C%201.5079823428929948%5D%2C%20%5B-6.257735729217529%2C%20106.78960418701172%2C%200.7539911714464974%5D%2C%20%5B-6.346383571624756%2C%20106.67304229736328%2C%200.7539911714464974%5D%2C%20%5B-6.210793495178223%2C%20106.60784149169922%2C%202.2876092256736653%5D%2C%20%5B-6.3646979331970215%2C%20106.95828247070312%2C%201.5079823428929948%5D%2C%20%5B-6.186731815338135%2C%20106.77921295166016%2C%200.7539911714464974%5D%2C%20%5B-6.3049492835998535%2C%20106.82444763183594%2C%200.9047894057357968%5D%2C%20%5B-6.190468788146973%2C%20106.75787353515625%2C%207.274507075225636%5D%2C%20%5B-6.234790802001953%2C%20106.7854232788086%2C%201.2063858743143958%5D%2C%20%5B-6.160553932189941%2C%20106.819091796875%2C%200.7539911714464974%5D%2C%20%5B-6.315958023071289%2C%20106.76919555664062%2C%201.8095788114715936%5D%2C%20%5B-6.256307125091553%2C%20106.96119689941406%2C%200.8082785559243816%5D%2C%20%5B-6.190396785736084%2C%20106.75788879394531%2C%200.7539911714464974%5D%2C%20%5B-6.215237140655518%2C%20106.81751251220703%2C%200.4523947028678984%5D%2C%20%5B-6.319498062133789%2C%20107.02389526367188%2C%200.5881131281095082%5D%2C%20%5B-6.175604820251465%2C%20106.67842102050781%2C%200.5881131281095082%5D%2C%20%5B-6.157809257507324%2C%20106.81883239746094%2C%200.7539911714464974%5D%2C%20%5B-6.24653434753418%2C%20107.01091003417969%2C%201.5079823428929948%5D%2C%20%5B-6.201426029205322%2C%20106.84054565429688%2C%201.4549013287576853%5D%2C%20%5B-6.32920503616333%2C%20106.68514251708984%2C%200.5881131281095082%5D%2C%20%5B-6.259489059448242%2C%20106.74173736572266%2C%201.2063858743143958%5D%2C%20%5B-6.161242961883545%2C%20106.8251953125%2C%200.7539911714464974%5D%2C%20%5B-6.197014808654785%2C%20106.62225341796875%2C%200.5881131281095082%5D%2C%20%5B-6.205742359161377%2C%20106.9776611328125%2C%200.4729032503633765%5D%2C%20%5B-6.1538615226745605%2C%20106.73577117919922%2C%200.5326193732890492%5D%2C%20%5B-6.299005031585693%2C%20106.83280181884766%2C%200.6862827820833399%5D%2C%20%5B-6.2924323081970215%2C%20106.8131332397461%2C%201.5079823428929948%5D%2C%20%5B-6.257806301116943%2C%20106.66914367675781%2C%201.8095788114715936%5D%2C%20%5B-6.139510631561279%2C%20106.88085174560547%2C%201.5079823428929948%5D%2C%20%5B-6.268619060516357%2C%20106.86640930175781%2C%200.5881131281095082%5D%2C%20%5B-6.265309810638428%2C%20106.83456420898438%2C%200.7539911714464974%5D%2C%20%5B-6.294034481048584%2C%20106.9984359741211%2C%200.6466228447395053%5D%2C%20%5B-6.161192893981934%2C%20106.78813171386719%2C%200.5881131281095082%5D%2C%20%5B-6.336026668548584%2C%20106.8680648803711%2C%200.8082785559243816%5D%2C%20%5B-6.238388538360596%2C%20106.77901458740234%2C%201.5079823428929948%5D%2C%20%5B-6.16847562789917%2C%20106.8711166381836%2C%200.7539911714464974%5D%2C%20%5B-6.2170281410217285%2C%20106.61874389648438%2C%200.5881131281095082%5D%2C%20%5B-6.2635579109191895%2C%20106.77522277832031%2C%200.5663981743183546%5D%2C%20%5B-6.217239856719971%2C%20106.9000015258789%2C%200.5881131281095082%5D%2C%20%5B-6.268802642822266%2C%20106.73651885986328%2C%200.7539911714464974%5D%2C%20%5B-6.225948810577393%2C%20106.78898620605469%2C%200.7539911714464974%5D%2C%20%5B-6.259945392608643%2C%20106.86409759521484%2C%200.5881131281095082%5D%2C%20%5B-6.5044450759887695%2C%20106.78147888183594%2C%200.5881131281095082%5D%2C%20%5B-6.175068378448486%2C%20106.64828491210938%2C%200.7539911714464974%5D%2C%20%5B-6.207082748413086%2C%20106.84077453613281%2C%200.7539911714464974%5D%2C%20%5B-6.265763282775879%2C%20106.79769134521484%2C%201.5079823428929948%5D%2C%20%5B-6.190313339233398%2C%20106.76400756835938%2C%201.5079823428929948%5D%2C%20%5B-6.4527082443237305%2C%20106.9056625366211%2C%200.7539911714464974%5D%2C%20%5B-6.141770362854004%2C%20106.80742645263672%2C%202.058848274343818%5D%2C%20%5B-6.212508201599121%2C%20106.90087890625%2C%201.5079823428929948%5D%2C%20%5B-6.2209320068359375%2C%20106.97516632080078%2C%200.7539911714464974%5D%2C%20%5B-6.214071273803711%2C%20106.93952178955078%2C%200.7539911714464974%5D%2C%20%5B-6.171451568603516%2C%20107.02682495117188%2C%200.5935418665572967%5D%2C%20%5B-6.243208408355713%2C%20106.85427856445312%2C%204.523947028678984%5D%2C%20%5B-6.246812343597412%2C%20106.84288024902344%2C%200.7539911714464974%5D%2C%20%5B-6.185384750366211%2C%20106.97697448730469%2C%200.5881131281095082%5D%2C%20%5B-6.121471881866455%2C%20106.7724380493164%2C%202.058848274343818%5D%2C%20%5B-6.347912311553955%2C%20106.6732406616211%2C%200.7539911714464974%5D%2C%20%5B-6.232860088348389%2C%20106.89689636230469%2C%200.7539911714464974%5D%2C%20%5B-6.272322654724121%2C%20106.76475524902344%2C%200.4523947028678984%5D%2C%20%5B-6.189084529876709%2C%20106.75566864013672%2C%201.5079823428929948%5D%2C%20%5B-6.2327728271484375%2C%20106.9888916015625%2C%200.7539911714464974%5D%2C%20%5B-6.214032173156738%2C%20106.80902862548828%2C%200.4523947028678984%5D%2C%20%5B-6.318978786468506%2C%20106.86481475830078%2C%200.5006501277736061%5D%2C%20%5B-6.396806716918945%2C%20106.77175903320312%2C%201.5079823428929948%5D%2C%20%5B-6.409195899963379%2C%20106.86187744140625%2C%200.5881131281095082%5D%2C%20%5B-6.435140609741211%2C%20106.95831298828125%2C%200.7539911714464974%5D%2C%20%5B-6.221668243408203%2C%20106.63809204101562%2C%201.2063858743143958%5D%2C%20%5B-6.4431376457214355%2C%20106.81927490234375%2C%200.6862827820833399%5D%2C%20%5B-6.149980545043945%2C%20106.85767364501953%2C%201.5079823428929948%5D%2C%20%5B-6.231236934661865%2C%20106.79869079589844%2C%201.5079823428929948%5D%2C%20%5B-6.217889785766602%2C%20106.99618530273438%2C%200.7539911714464974%5D%2C%20%5B-6.2621636390686035%2C%20106.75292205810547%2C%200.9047894057357968%5D%2C%20%5B-6.1446614265441895%2C%20106.91474151611328%2C%200.5881131281095082%5D%2C%20%5B-6.199615955352783%2C%20106.85420989990234%2C%201.5079823428929948%5D%2C%20%5B-6.308936595916748%2C%20106.94512939453125%2C%200.5881131281095082%5D%2C%20%5B-6.207346439361572%2C%20106.60680389404297%2C%202.2876092256736653%5D%2C%20%5B-6.349920749664307%2C%20106.94111633300781%2C%201.4549013287576853%5D%2C%20%5B-6.272116184234619%2C%20106.80876922607422%2C%201.2063858743143958%5D%2C%20%5B-6.306643486022949%2C%20106.83939361572266%2C%200.5881131281095082%5D%2C%20%5B-6.247256278991699%2C%20106.5527572631836%2C%200.7539911714464974%5D%2C%20%5B-6.161837577819824%2C%20106.6814193725586%2C%200.5881131281095082%5D%2C%20%5B-6.31120491027832%2C%20106.65860748291016%2C%200.7539911714464974%5D%2C%20%5B-6.120264530181885%2C%20106.88203430175781%2C%200.9170040402784952%5D%2C%20%5B-6.30461311340332%2C%20106.92025756835938%2C%200.6899018931110645%5D%2C%20%5B-6.165264129638672%2C%20106.81565856933594%2C%200.5881131281095082%5D%2C%20%5B-6.298244476318359%2C%20106.76439666748047%2C%200.8562323702678951%5D%2C%20%5B-6.4481401443481445%2C%20106.91051483154297%2C%200.7539911714464974%5D%2C%20%5B-6.152698993682861%2C%20106.85038757324219%2C%201.5079823428929948%5D%2C%20%5B-6.232363700866699%2C%20106.79293823242188%2C%201.5079823428929948%5D%2C%20%5B-6.296169757843018%2C%20106.71168518066406%2C%200.8082785559243816%5D%2C%20%5B-6.189879417419434%2C%20106.79313659667969%2C%201.5079823428929948%5D%2C%20%5B-6.144409656524658%2C%20106.77850341796875%2C%200.6466228447395053%5D%2C%20%5B-6.230165481567383%2C%20106.52186584472656%2C%200.5881131281095082%5D%2C%20%5B-6.289633274078369%2C%20106.89584350585938%2C%200.5881131281095082%5D%2C%20%5B-6.292306423187256%2C%20106.80485534667969%2C%202.4127717486287916%5D%2C%20%5B-6.2749810218811035%2C%20107.0558090209961%2C%200.502158108678375%5D%2C%20%5B-6.236525535583496%2C%20106.82727813720703%2C%201.5079823428929948%5D%2C%20%5B-6.135778427124023%2C%20106.82848358154297%2C%200.5881131281095082%5D%2C%20%5B-6.584552764892578%2C%20106.86945343017578%2C%200.6031929371571979%5D%2C%20%5B-6.219041347503662%2C%20106.90055084228516%2C%201.5079823428929948%5D%2C%20%5B-6.193511009216309%2C%20106.70133972167969%2C%201.5079823428929948%5D%2C%20%5B-6.296041488647461%2C%20106.8823013305664%2C%200.5086424301641916%5D%2C%20%5B-6.259461879730225%2C%20106.74480438232422%2C%200.5881131281095082%5D%2C%20%5B-6.207668304443359%2C%20106.8294906616211%2C%200.6862827820833399%5D%2C%20%5B-6.183261871337891%2C%20106.66114044189453%2C%200.5881131281095082%5D%2C%20%5B-6.275869369506836%2C%20106.7232666015625%2C%200.7539911714464974%5D%2C%20%5B-6.300595283508301%2C%20106.84099578857422%2C%200.5881131281095082%5D%2C%20%5B-6.320887088775635%2C%20106.76822662353516%2C%201.0756437896538336%5D%2C%20%5B-6.288602828979492%2C%20106.759521484375%2C%201.5079823428929948%5D%2C%20%5B-6.345554828643799%2C%20106.68755340576172%2C%200.5881131281095082%5D%2C%20%5B-6.2498650550842285%2C%20106.96858215332031%2C%200.5881131281095082%5D%2C%20%5B-6.163078308105469%2C%20106.66344451904297%2C%202.261973514339492%5D%2C%20%5B-6.308896064758301%2C%20106.83810424804688%2C%200.5881131281095082%5D%2C%20%5B-6.197896957397461%2C%20106.85563659667969%2C%200.6862827820833399%5D%2C%20%5B-6.379377365112305%2C%20106.74595642089844%2C%200.498388174393003%5D%2C%20%5B-6.446911811828613%2C%20106.93787384033203%2C%200.7539911714464974%5D%2C%20%5B-6.221380233764648%2C%20106.97749328613281%2C%200.7539911714464974%5D%2C%20%5B-6.258367538452148%2C%20106.82848358154297%2C%200.6031929371571979%5D%2C%20%5B-6.244585037231445%2C%20106.82596588134766%2C%201.2063858743143958%5D%2C%20%5B-6.284220218658447%2C%20106.79583740234375%2C%200.5881131281095082%5D%2C%20%5B-6.211606979370117%2C%20106.97750854492188%2C%201.5079823428929948%5D%2C%20%5B-6.255549430847168%2C%20106.90681457519531%2C%200.6862827820833399%5D%2C%20%5B-6.189820766448975%2C%20106.76561737060547%2C%201.5079823428929948%5D%2C%20%5B-6.574224472045898%2C%20106.78794860839844%2C%201.5079823428929948%5D%2C%20%5B-6.170051097869873%2C%20106.78826904296875%2C%200.5881131281095082%5D%2C%20%5B-6.256556034088135%2C%20106.78988647460938%2C%201.3571841086036953%5D%2C%20%5B-6.175693511962891%2C%20106.64461517333984%2C%200.5881131281095082%5D%2C%20%5B-6.302456855773926%2C%20106.85726165771484%2C%200.6108836649386902%5D%2C%20%5B-6.20349645614624%2C%20106.60041809082031%2C%200.518595111326287%5D%2C%20%5B-6.264674186706543%2C%20106.83311462402344%2C%200.7539911714464974%5D%2C%20%5B-6.138086318969727%2C%20106.6917724609375%2C%200.6031929371571979%5D%2C%20%5B-6.302677631378174%2C%20106.9166488647461%2C%200.5881131281095082%5D%2C%20%5B-6.169837951660156%2C%20107.02660369873047%2C%200.6031929371571979%5D%2C%20%5B-6.198746681213379%2C%20106.57713317871094%2C%201.5079823428929948%5D%2C%20%5B-6.19693660736084%2C%20106.85701751708984%2C%200.6466228447395053%5D%2C%20%5B-6.309521675109863%2C%20106.9473648071289%2C%200.5881131281095082%5D%2C%20%5B-6.202802658081055%2C%20106.82787322998047%2C%200.5881131281095082%5D%2C%20%5B-6.242517471313477%2C%20106.70854949951172%2C%200.5765016427849965%5D%2C%20%5B-6.3082966804504395%2C%20106.93569946289062%2C%200.5881131281095082%5D%2C%20%5B-6.193373203277588%2C%20106.89099884033203%2C%200.5881131281095082%5D%2C%20%5B-6.158384799957275%2C%20106.76187133789062%2C%200.7539911714464974%5D%2C%20%5B-6.1898064613342285%2C%20106.791015625%2C%200.7539911714464974%5D%2C%20%5B-6.163356781005859%2C%20106.66627502441406%2C%200.5881131281095082%5D%2C%20%5B-6.1979193687438965%2C%20106.80350494384766%2C%202.586491378958021%5D%2C%20%5B-6.303640365600586%2C%20106.99105834960938%2C%200.5881131281095082%5D%2C%20%5B-6.252305030822754%2C%20106.6107177734375%2C%200.5881131281095082%5D%2C%20%5B-6.5558624267578125%2C%20106.81166076660156%2C%200.9310282662881567%5D%2C%20%5B-6.1661601066589355%2C%20106.800537109375%2C%201.5079823428929948%5D%2C%20%5B-6.226622581481934%2C%20106.60941314697266%2C%200.9047894057357968%5D%2C%20%5B-6.252525329589844%2C%20107.15325164794922%2C%200.543476850184626%5D%2C%20%5B-6.311765670776367%2C%20106.93745422363281%2C%200.7539911714464974%5D%2C%20%5B-6.275938510894775%2C%20106.82057189941406%2C%201.7794191933762145%5D%2C%20%5B-6.221250534057617%2C%20106.8099365234375%2C%201.5079823428929948%5D%2C%20%5B-6.292600154876709%2C%20106.80270385742188%2C%200.5881131281095082%5D%2C%20%5B-6.1469502449035645%2C%20106.6325454711914%2C%201.4549013287576853%5D%2C%20%5B-6.291927337646484%2C%20106.81109619140625%2C%200.6862827820833399%5D%2C%20%5B-6.1390380859375%2C%20106.69165802001953%2C%200.6031929371571979%5D%2C%20%5B-6.27281379699707%2C%20106.80950164794922%2C%200.5881131281095082%5D%2C%20%5B-6.269894123077393%2C%20106.78365325927734%2C%200.7539911714464974%5D%2C%20%5B-6.158848285675049%2C%20106.83741760253906%2C%200.4523947028678984%5D%2C%20%5B-6.1934380531311035%2C%20106.89543914794922%2C%200.5881131281095082%5D%2C%20%5B-6.249808311462402%2C%20106.96337890625%2C%200.4523947028678984%5D%2C%20%5B-6.209136486053467%2C%20106.82185363769531%2C%201.5079823428929948%5D%2C%20%5B-6.278934478759766%2C%20106.99446868896484%2C%200.5495087738037019%5D%2C%20%5B-6.209240436553955%2C%20106.97772216796875%2C%201.5079823428929948%5D%2C%20%5B-6.228765964508057%2C%20106.84746551513672%2C%200.5771048279562839%5D%2C%20%5B-6.121554851531982%2C%20106.76876831054688%2C%201.3380327547084394%5D%2C%20%5B-6.229766845703125%2C%20106.52230834960938%2C%200.5881131281095082%5D%2C%20%5B-6.225146770477295%2C%20106.83975982666016%2C%200.4523947028678984%5D%2C%20%5B-6.163516044616699%2C%20106.65946197509766%2C%200.4523947028678984%5D%2C%20%5B-6.172715187072754%2C%20106.83033752441406%2C%200.7539911714464974%5D%2C%20%5B-6.189537525177002%2C%20106.84696960449219%2C%202.261973514339492%5D%2C%20%5B-6.21194314956665%2C%20106.75935363769531%2C%200.5881131281095082%5D%2C%20%5B-6.459109306335449%2C%20106.89635467529297%2C%200.7539911714464974%5D%2C%20%5B-6.220972061157227%2C%20106.81240844726562%2C%200.9047894057357968%5D%2C%20%5B-6.228935241699219%2C%20106.94389343261719%2C%200.7539911714464974%5D%2C%20%5B-6.236452102661133%2C%20106.99840545654297%2C%201.5079823428929948%5D%2C%20%5B-6.2655415534973145%2C%20106.91117858886719%2C%201.5079823428929948%5D%2C%20%5B-6.258726119995117%2C%20106.9937515258789%2C%201.0946443562445427%5D%2C%20%5B-6.395401477813721%2C%20106.78308868408203%2C%201.0555876400250963%5D%2C%20%5B-6.2915425300598145%2C%20106.78304290771484%2C%204.825543497257583%5D%2C%20%5B-6.240174293518066%2C%20106.82360076904297%2C%200.7539911714464974%5D%2C%20%5B-6.310484886169434%2C%20106.83747100830078%2C%201.0620719974640136%5D%2C%20%5B-6.320606708526611%2C%20107.0340347290039%2C%200.5881131281095082%5D%2C%20%5B-6.225317001342773%2C%20106.9433364868164%2C%201.2063858743143958%5D%2C%20%5B-6.2134199142456055%2C%20106.90078735351562%2C%200.5881131281095082%5D%2C%20%5B-6.26532506942749%2C%20107.0303726196289%2C%200.4523947028678984%5D%2C%20%5B-6.251889228820801%2C%20106.6680679321289%2C%204.071552325811086%5D%2C%20%5B-6.1596527099609375%2C%20106.69010925292969%2C%200.5881131281095082%5D%2C%20%5B-6.275156021118164%2C%20107.05625915527344%2C%200.518896721888481%5D%2C%20%5B-6.239227771759033%2C%20106.82584381103516%2C%201.5079823428929948%5D%2C%20%5B-6.157971382141113%2C%20106.66194915771484%2C%200.5164839452502306%5D%2C%20%5B-6.212330341339111%2C%20106.8609619140625%2C%201.5079823428929948%5D%2C%20%5B-6.232260227203369%2C%20106.78864288330078%2C%204.523947028678984%5D%2C%20%5B-6.1729655265808105%2C%20106.81120300292969%2C%200.5881131281095082%5D%2C%20%5B-6.2252516746521%2C%20106.71141815185547%2C%200.5881131281095082%5D%2C%20%5B-6.291011810302734%2C%20106.88471221923828%2C%201.0507620867485954%5D%2C%20%5B-6.352845668792725%2C%20106.9368896484375%2C%201.6165571118487632%5D%2C%20%5B-6.255215644836426%2C%20106.95148468017578%2C%202.058848274343818%5D%2C%20%5B-6.399826526641846%2C%20106.85124969482422%2C%200.7539911714464974%5D%2C%20%5B-6.223865032196045%2C%20106.85026550292969%2C%200.9047894057357968%5D%2C%20%5B-6.191837310791016%2C%20106.97044372558594%2C%201.5079823428929948%5D%2C%20%5B-6.281473159790039%2C%20106.69217681884766%2C%201.3571841086036953%5D%2C%20%5B-6.343006134033203%2C%20106.6871566772461%2C%200.5608186485660195%5D%2C%20%5B-6.209719657897949%2C%20106.60846710205078%2C%202.2876092256736653%5D%2C%20%5B-6.307518005371094%2C%20106.79900360107422%2C%201.2063858743143958%5D%2C%20%5B-6.225103378295898%2C%20106.82952117919922%2C%201.5079823428929948%5D%2C%20%5B-6.128164291381836%2C%20106.843994140625%2C%200.5881131281095082%5D%2C%20%5B-6.303797721862793%2C%20106.9438247680664%2C%200.5881131281095082%5D%2C%20%5B-6.227074146270752%2C%20106.93788146972656%2C%201.2063858743143958%5D%2C%20%5B-6.311763286590576%2C%20106.93700408935547%2C%200.4523947028678984%5D%2C%20%5B-6.215231895446777%2C%20106.80946350097656%2C%204.523947028678984%5D%2C%20%5B-6.127832889556885%2C%20106.9596939086914%2C%200.7539911714464974%5D%2C%20%5B-6.143961429595947%2C%20106.81543731689453%2C%201.5079823428929948%5D%2C%20%5B-6.21999454498291%2C%20106.78030395507812%2C%201.4549013287576853%5D%2C%20%5B-6.275726795196533%2C%20106.8207015991211%2C%200.5881131281095082%5D%2C%20%5B-6.326178073883057%2C%20106.83394622802734%2C%200.5881131281095082%5D%2C%20%5B-6.282965183258057%2C%20106.7912368774414%2C%201.5079823428929948%5D%2C%20%5B-6.189650535583496%2C%20106.79545593261719%2C%200.7539911714464974%5D%2C%20%5B-6.166795253753662%2C%20106.78826141357422%2C%200.8860904137541811%5D%2C%20%5B-6.147061347961426%2C%20106.79410552978516%2C%201.5079823428929948%5D%2C%20%5B-6.28951358795166%2C%20106.98512268066406%2C%201.5079823428929948%5D%2C%20%5B-6.22969388961792%2C%20106.7026596069336%2C%200.9699342671092579%5D%2C%20%5B-6.2724809646606445%2C%20106.7265396118164%2C%200.7539911714464974%5D%2C%20%5B-6.462244987487793%2C%20106.89298248291016%2C%200.7539911714464974%5D%2C%20%5B-6.215047359466553%2C%20106.82830810546875%2C%204.117696548687636%5D%2C%20%5B-6.292270660400391%2C%20106.95748901367188%2C%200.4523947028678984%5D%2C%20%5B-6.231459140777588%2C%20106.78923034667969%2C%201.5079823428929948%5D%2C%20%5B-6.107665538787842%2C%20106.89706420898438%2C%201.5079823428929948%5D%2C%20%5B-6.182406425476074%2C%20106.81324768066406%2C%202.586491378958021%5D%2C%20%5B-6.214431285858154%2C%20106.86416625976562%2C%200.5706205064704674%5D%2C%20%5B-6.178797721862793%2C%20106.96167755126953%2C%200.7539911714464974%5D%2C%20%5B-6.149195194244385%2C%20106.79214477539062%2C%200.5881131281095082%5D%2C%20%5B-6.400814056396484%2C%20106.77131652832031%2C%201.052722465520105%5D%2C%20%5B-6.283024311065674%2C%20106.8605728149414%2C%200.7539911714464974%5D%2C%20%5B-6.2585248947143555%2C%20106.86388397216797%2C%200.4523947028678984%5D%2C%20%5B-6.243657112121582%2C%20106.78056335449219%2C%200.5881131281095082%5D%2C%20%5B-6.202398777008057%2C%20106.84661102294922%2C%200.8082785559243816%5D%2C%20%5B-6.2974700927734375%2C%20106.84062957763672%2C%200.5881131281095082%5D%2C%20%5B-6.230193614959717%2C%20106.87602233886719%2C%200.7539911714464974%5D%2C%20%5B-6.274425983428955%2C%20106.77555847167969%2C%200.4523947028678984%5D%2C%20%5B-6.604200839996338%2C%20106.79663848876953%2C%200.46717293730649473%5D%2C%20%5B-6.264408588409424%2C%20106.96144104003906%2C%200.5881131281095082%5D%2C%20%5B-6.346925258636475%2C%20106.83282470703125%2C%201.5079823428929948%5D%2C%20%5B-6.233388900756836%2C%20106.99078369140625%2C%200.7539911714464974%5D%2C%20%5B-6.261295318603516%2C%20106.80828094482422%2C%201.5079823428929948%5D%2C%20%5B-6.388978481292725%2C%20106.94446563720703%2C%201.5079823428929948%5D%2C%20%5B-6.110551834106445%2C%20106.74073028564453%2C%201.4549013287576853%5D%2C%20%5B-6.1612982749938965%2C%20107.02132415771484%2C%200.7539911714464974%5D%2C%20%5B-6.164973258972168%2C%20106.78938293457031%2C%200.5881131281095082%5D%2C%20%5B-6.357319355010986%2C%20106.88089752197266%2C%200.6862827820833399%5D%2C%20%5B-6.321426868438721%2C%20106.90727233886719%2C%200.7539911714464974%5D%2C%20%5B-6.602513313293457%2C%20106.79552459716797%2C%200.5881131281095082%5D%2C%20%5B-6.312423229217529%2C%20107.02632904052734%2C%200.5881131281095082%5D%2C%20%5B-6.131780624389648%2C%20106.81029510498047%2C%201.0555876400250963%5D%2C%20%5B-6.230363368988037%2C%20106.98619842529297%2C%200.7539911714464974%5D%2C%20%5B-6.184795379638672%2C%20106.7778549194336%2C%201.5079823428929948%5D%2C%20%5B-6.1961565017700195%2C%20106.97395324707031%2C%201.5079823428929948%5D%2C%20%5B-6.178924083709717%2C%20106.84223937988281%2C%201.5079823428929948%5D%2C%20%5B-6.200376987457275%2C%20106.8528823852539%2C%201.5079823428929948%5D%2C%20%5B-6.2166314125061035%2C%20106.92953491210938%2C%201.428210034385484%5D%2C%20%5B-6.6036810874938965%2C%20106.80840301513672%2C%200.4523947028678984%5D%2C%20%5B-6.169383525848389%2C%20106.84004974365234%2C%200.5881131281095082%5D%2C%20%5B-6.17460298538208%2C%20106.87642669677734%2C%200.7539911714464974%5D%2C%20%5B-6.165486812591553%2C%20106.78337860107422%2C%200.5881131281095082%5D%2C%20%5B-6.2349162101745605%2C%20106.6238784790039%2C%200.5881131281095082%5D%2C%20%5B-6.170438289642334%2C%20106.81462860107422%2C%201.3571841086036953%5D%2C%20%5B-6.236495018005371%2C%20106.75672149658203%2C%200.5881131281095082%5D%2C%20%5B-6.262508392333984%2C%20106.86470794677734%2C%200.5881131281095082%5D%2C%20%5B-6.207249164581299%2C%20106.60663604736328%2C%202.2876092256736653%5D%2C%20%5B-6.299938678741455%2C%20106.97732543945312%2C%200.7539911714464974%5D%2C%20%5B-6.307549476623535%2C%20106.85922241210938%2C%200.6862827820833399%5D%2C%20%5B-6.194606304168701%2C%20106.84967803955078%2C%201.5079823428929948%5D%2C%20%5B-6.40731143951416%2C%20106.75605010986328%2C%201.5079823428929948%5D%2C%20%5B-6.258150100708008%2C%20106.85955810546875%2C%200.5881131281095082%5D%2C%20%5B-6.286721706390381%2C%20106.7799301147461%2C%200.7539911714464974%5D%2C%20%5B-6.200709819793701%2C%20106.81555938720703%2C%201.5079823428929948%5D%2C%20%5B-6.265556812286377%2C%20106.77852630615234%2C%200.7539911714464974%5D%2C%20%5B-6.253069877624512%2C%20107.153076171875%2C%200.5881131281095082%5D%2C%20%5B-6.5633368492126465%2C%20106.84371185302734%2C%200.7539911714464974%5D%2C%20%5B-6.163886547088623%2C%20106.8382339477539%2C%200.4523947028678984%5D%2C%20%5B-6.217902660369873%2C%20106.75053405761719%2C%200.6031929371571979%5D%2C%20%5B-6.192384719848633%2C%20106.86634826660156%2C%200.5881131281095082%5D%2C%20%5B-6.240176200866699%2C%20106.62744903564453%2C%200.48345915264986%5D%2C%20%5B-6.364589214324951%2C%20106.67936706542969%2C%200.7539911714464974%5D%2C%20%5B-6.249403476715088%2C%20106.94168090820312%2C%200.4643077628015035%5D%2C%20%5B-6.21873140335083%2C%20106.77842712402344%2C%200.4523947028678984%5D%2C%20%5B-6.263455867767334%2C%20106.86544036865234%2C%201.3571841086036953%5D%2C%20%5B-6.225164890289307%2C%20106.83911895751953%2C%200.6031929371571979%5D%2C%20%5B-6.256364822387695%2C%20106.88348388671875%2C%200.5881131281095082%5D%2C%20%5B-6.297626972198486%2C%20106.81151580810547%2C%200.48376072725895336%5D%2C%20%5B-6.2730584144592285%2C%20106.813720703125%2C%200.7539911714464974%5D%2C%20%5B-6.1882853507995605%2C%20106.82320404052734%2C%200.7539911714464974%5D%2C%20%5B-6.323275566101074%2C%20106.74533081054688%2C%201.5079823428929948%5D%2C%20%5B-6.255514621734619%2C%20106.61559295654297%2C%201.8095788114715936%5D%2C%20%5B-6.3043742179870605%2C%20106.84734344482422%2C%200.9150436615069855%5D%2C%20%5B-6.329463958740234%2C%20106.76661682128906%2C%201.2063858743143958%5D%2C%20%5B-6.228998184204102%2C%20106.91450500488281%2C%201.2063858743143958%5D%2C%20%5B-6.365561008453369%2C%20106.95684051513672%2C%201.5079823428929948%5D%2C%20%5B-6.244365692138672%2C%20107.00674438476562%2C%200.7539911714464974%5D%2C%20%5B-6.2186408042907715%2C%20106.59677124023438%2C%200.5353337245363929%5D%2C%20%5B-6.265752792358398%2C%20106.79741668701172%2C%201.5079823428929948%5D%2C%20%5B-6.170196533203125%2C%20106.85208892822266%2C%200.9047894057357968%5D%2C%20%5B-6.098365783691406%2C%20106.13447570800781%2C%200.5881131281095082%5D%2C%20%5B-6.239990234375%2C%20106.83263397216797%2C%200.7539911714464974%5D%2C%20%5B-6.163593292236328%2C%20106.67337799072266%2C%200.7539911714464974%5D%2C%20%5B-6.399089336395264%2C%20106.86766052246094%2C%200.5881131281095082%5D%2C%20%5B-6.248677730560303%2C%20106.96726989746094%2C%201.3372787462795046%5D%2C%20%5B-6.227782249450684%2C%20106.88310241699219%2C%200.5584058719277689%5D%2C%20%5B-6.219961166381836%2C%20106.70639038085938%2C%200.9699342671092579%5D%2C%20%5B-6.455803394317627%2C%20106.82486724853516%2C%200.6862827820833399%5D%2C%20%5B-6.194969654083252%2C%20106.61992645263672%2C%200.7539911714464974%5D%2C%20%5B-6.283516883850098%2C%20106.7801742553711%2C%204.825543497257583%5D%2C%20%5B-6.227601528167725%2C%20106.59564208984375%2C%200.7539911714464974%5D%2C%20%5B-6.228455066680908%2C%20106.88504028320312%2C%201.8095788114715936%5D%2C%20%5B-6.461848258972168%2C%20106.89429473876953%2C%200.7539911714464974%5D%2C%20%5B-6.145901679992676%2C%20106.87444305419922%2C%201.5079823428929948%5D%2C%20%5B-6.269176006317139%2C%20106.86680603027344%2C%201.3571841086036953%5D%2C%20%5B-6.304499626159668%2C%20106.84971618652344%2C%200.6862827820833399%5D%2C%20%5B-6.202885150909424%2C%20106.80007934570312%2C%201.5079823428929948%5D%2C%20%5B-6.2436394691467285%2C%20106.84356689453125%2C%201.1159069481220565%5D%2C%20%5B-6.1517815589904785%2C%20106.794921875%2C%201.5079823428929948%5D%2C%20%5B-6.327144622802734%2C%20106.81305694580078%2C%201.5079823428929948%5D%2C%20%5B-6.229142665863037%2C%20106.91397857666016%2C%201.2063858743143958%5D%2C%20%5B-6.185598373413086%2C%20106.80952453613281%2C%200.7539911714464974%5D%2C%20%5B-6.208968639373779%2C%20106.7137451171875%2C%200.5881131281095082%5D%2C%20%5B-6.254391193389893%2C%20106.8821029663086%2C%200.5881131281095082%5D%2C%20%5B-6.176784038543701%2C%20106.79341125488281%2C%200.7539911714464974%5D%2C%20%5B-6.255612850189209%2C%20106.90699005126953%2C%200.6862827820833399%5D%2C%20%5B-6.164416790008545%2C%20107.0273666381836%2C%200.7539911714464974%5D%2C%20%5B-6.193432807922363%2C%20106.90322875976562%2C%200.5881131281095082%5D%2C%20%5B-6.108872890472412%2C%20106.89302062988281%2C%201.3571841086036953%5D%2C%20%5B-6.119079113006592%2C%20106.95710754394531%2C%200.7539911714464974%5D%2C%20%5B-6.166893482208252%2C%20106.82054138183594%2C%200.7539911714464974%5D%2C%20%5B-6.189863681793213%2C%20106.76410675048828%2C%201.5079823428929948%5D%2C%20%5B-6.221051216125488%2C%20106.96742248535156%2C%202.4127717486287916%5D%2C%20%5B-6.30322790145874%2C%20106.72156524658203%2C%200.7539911714464974%5D%2C%20%5B-6.221096038818359%2C%20106.56212615966797%2C%200.5881131281095082%5D%2C%20%5B-6.265493392944336%2C%20106.7973861694336%2C%200.7539911714464974%5D%2C%20%5B-6.246592998504639%2C%20106.9178466796875%2C%200.8082785559243816%5D%2C%20%5B-6.226122856140137%2C%20106.86941528320312%2C%200.5146743897363683%5D%2C%20%5B-6.497188091278076%2C%20106.77022552490234%2C%200.5881131281095082%5D%2C%20%5B-6.256180763244629%2C%20106.9686279296875%2C%200.5881131281095082%5D%2C%20%5B-6.570335388183594%2C%20106.8619613647461%2C%200.9047894057357968%5D%2C%20%5B-6.144519805908203%2C%20106.8913803100586%2C%200.7539911714464974%5D%2C%20%5B-6.308268070220947%2C%20106.95467376708984%2C%200.5881131281095082%5D%2C%20%5B-6.18966817855835%2C%20106.81071472167969%2C%200.5881131281095082%5D%2C%20%5B-6.247819423675537%2C%20106.62596893310547%2C%200.9047894057357968%5D%2C%20%5B-6.26918888092041%2C%20106.73739624023438%2C%200.7539911714464974%5D%2C%20%5B-6.2898640632629395%2C%20106.88002014160156%2C%200.5881131281095082%5D%2C%20%5B-6.30720853805542%2C%20106.90876007080078%2C%201.5079823428929948%5D%2C%20%5B-6.129081726074219%2C%20106.8386001586914%2C%200.5881131281095082%5D%2C%20%5B-6.339951515197754%2C%20106.90171813964844%2C%200.7539911714464974%5D%2C%20%5B-6.204347610473633%2C%20106.82925415039062%2C%200.5881131281095082%5D%2C%20%5B-6.246231555938721%2C%20106.78154754638672%2C%200.7539911714464974%5D%2C%20%5B-6.229488372802734%2C%20106.90106201171875%2C%200.5881131281095082%5D%2C%20%5B-6.160981178283691%2C%20106.87274932861328%2C%201.5079823428929948%5D%2C%20%5B-6.299894332885742%2C%20106.9767837524414%2C%200.7539911714464974%5D%2C%20%5B-6.347951889038086%2C%20106.75814819335938%2C%201.2063858743143958%5D%2C%20%5B-6.24763822555542%2C%20106.82635498046875%2C%201.2063858743143958%5D%2C%20%5B-6.229731559753418%2C%20106.84979248046875%2C%200.4523947028678984%5D%2C%20%5B-6.292384624481201%2C%20106.80227661132812%2C%200.7539911714464974%5D%2C%20%5B-6.241787433624268%2C%20106.75643920898438%2C%200.5881131281095082%5D%2C%20%5B-6.3057780265808105%2C%20106.9608154296875%2C%200.4716968800208016%5D%2C%20%5B-6.228142261505127%2C%20106.76058197021484%2C%201.8095788114715936%5D%2C%20%5B-6.154706954956055%2C%20106.71556854248047%2C%200.5413656481554688%5D%2C%20%5B-6.25380802154541%2C%20106.62274169921875%2C%201.5079823428929948%5D%2C%20%5B-6.225090503692627%2C%20106.86283111572266%2C%200.7539911714464974%5D%2C%20%5B-6.195583343505859%2C%20106.8499526977539%2C%200.5642870082422982%5D%2C%20%5B-6.247381210327148%2C%20106.906982421875%2C%201.5079823428929948%5D%2C%20%5B-6.165687561035156%2C%20106.78875732421875%2C%200.7539911714464974%5D%2C%20%5B-6.5272722244262695%2C%20106.80109405517578%2C%200.45586306254417713%5D%2C%20%5B-6.18294620513916%2C%20106.93277740478516%2C%200.8399461908776306%5D%2C%20%5B-6.306845188140869%2C%20106.81294250488281%2C%201.2063858743143958%5D%2C%20%5B-6.266858100891113%2C%20106.9334945678711%2C%200.7539911714464974%5D%2C%20%5B-6.236162185668945%2C%20106.9934310913086%2C%201.5079823428929948%5D%2C%20%5B-6.161754131317139%2C%20106.68154907226562%2C%200.5881131281095082%5D%2C%20%5B-6.580972194671631%2C%20106.78785705566406%2C%201.5079823428929948%5D%2C%20%5B-6.2494916915893555%2C%20106.94230651855469%2C%200.5881131281095082%5D%2C%20%5B-6.280831813812256%2C%20106.8280029296875%2C%200.5881131281095082%5D%2C%20%5B-6.232595920562744%2C%20106.73192596435547%2C%201.1438046128368327%5D%2C%20%5B-6.323141574859619%2C%20106.81497955322266%2C%202.3373726314841416%5D%2C%20%5B-6.223977565765381%2C%20106.82502746582031%2C%201.2932456894790105%5D%2C%20%5B-6.304986476898193%2C%20106.75816345214844%2C%201.5079823428929948%5D%2C%20%5B-6.148800849914551%2C%20106.83712005615234%2C%201.5079823428929948%5D%2C%20%5B-6.145234107971191%2C%20106.70270538330078%2C%200.7539911714464974%5D%2C%20%5B-6.163099765777588%2C%20106.81997680664062%2C%200.5881131281095082%5D%2C%20%5B-6.26393985748291%2C%20106.76624298095703%2C%201.2641416544216595%5D%2C%20%5B-6.2682271003723145%2C%20106.9610366821289%2C%200.5881131281095082%5D%2C%20%5B-6.2177019119262695%2C%20106.8148193359375%2C%200.7539911714464974%5D%2C%20%5B-6.474480628967285%2C%20106.87809753417969%2C%200.7539911714464974%5D%2C%20%5B-6.227268218994141%2C%20106.93657684326172%2C%201.2063858743143958%5D%2C%20%5B-6.260324478149414%2C%20106.74942779541016%2C%200.5881131281095082%5D%2C%20%5B-6.222540378570557%2C%20106.87456512451172%2C%200.5881131281095082%5D%2C%20%5B-6.337109088897705%2C%20106.89778900146484%2C%200.7539911714464974%5D%2C%20%5B-6.241128921508789%2C%20106.75563049316406%2C%201.0148721196432335%5D%2C%20%5B-6.2145843505859375%2C%20106.90011596679688%2C%201.5079823428929948%5D%2C%20%5B-6.270843505859375%2C%20106.75789642333984%2C%200.4643077628015035%5D%2C%20%5B-6.422505855560303%2C%20106.73197174072266%2C%200.4523947028678984%5D%2C%20%5B-6.583271026611328%2C%20106.78770446777344%2C%200.48225274635418436%5D%2C%20%5B-6.147774696350098%2C%20106.70262908935547%2C%200.6031929371571979%5D%2C%20%5B-6.300239562988281%2C%20106.82678985595703%2C%201.3712084065195582%5D%2C%20%5B-6.33978796005249%2C%20106.87307739257812%2C%200.6862827820833399%5D%2C%20%5B-6.254312038421631%2C%20106.82843017578125%2C%200.6031929371571979%5D%2C%20%5B-6.143338203430176%2C%20106.69808197021484%2C%202.563569982918091%5D%2C%20%5B-6.218964576721191%2C%20106.63236999511719%2C%200.7539911714464974%5D%2C%20%5B-6.250069618225098%2C%20106.9571304321289%2C%202.058848274343818%5D%2C%20%5B-6.259819030761719%2C%20106.75702667236328%2C%200.9047894057357968%5D%2C%20%5B-6.416911602020264%2C%20106.7536849975586%2C%200.6313921764810675%5D%2C%20%5B-6.1278533935546875%2C%20106.8103256225586%2C%201.5079823428929948%5D%2C%20%5B-6.577835559844971%2C%20106.75821685791016%2C%201.5079823428929948%5D%2C%20%5B-6.5272650718688965%2C%20106.80110931396484%2C%200.8265251140861558%5D%2C%20%5B-6.329085350036621%2C%20107.00359344482422%2C%200.5881131281095082%5D%2C%20%5B-6.394448757171631%2C%20106.94448852539062%2C%201.5079823428929948%5D%2C%20%5B-6.305837631225586%2C%20106.93916320800781%2C%200.45812505187788094%5D%2C%20%5B-6.191174507141113%2C%20106.72181701660156%2C%200.7539911714464974%5D%2C%20%5B-6.5643696784973145%2C%20106.73533630371094%2C%201.5079823428929948%5D%2C%20%5B-6.521420478820801%2C%20106.80010986328125%2C%201.3571841086036953%5D%2C%20%5B-6.174275875091553%2C%20106.7483901977539%2C%200.5881131281095082%5D%2C%20%5B-6.300522327423096%2C%20106.84098052978516%2C%200.5881131281095082%5D%2C%20%5B-6.217561721801758%2C%20106.81443786621094%2C%201.5079823428929948%5D%2C%20%5B-6.416570663452148%2C%20106.75381469726562%2C%200.7539911714464974%5D%2C%20%5B-6.166944980621338%2C%20106.63685607910156%2C%200.5881131281095082%5D%2C%20%5B-6.226008415222168%2C%20106.71231079101562%2C%200.5881131281095082%5D%2C%20%5B-6.406154632568359%2C%20106.73902130126953%2C%202.4127717486287916%5D%2C%20%5B-6.307169437408447%2C%20106.8008804321289%2C%201.8095788114715936%5D%2C%20%5B-6.2329182624816895%2C%20106.82257843017578%2C%200.4523947028678984%5D%2C%20%5B-6.598781108856201%2C%20106.81520080566406%2C%200.7539911714464974%5D%2C%20%5B-6.191490650177002%2C%20106.7306900024414%2C%200.7539911714464974%5D%2C%20%5B-6.446614742279053%2C%20106.81932830810547%2C%200.6862827820833399%5D%2C%20%5B-6.312314033508301%2C%20106.83802032470703%2C%201.3571841086036953%5D%2C%20%5B-6.22543478012085%2C%20106.97921752929688%2C%200.7539911714464974%5D%2C%20%5B-6.189050197601318%2C%20106.84661865234375%2C%200.5881131281095082%5D%2C%20%5B-6.130429267883301%2C%20106.89767456054688%2C%200.7539911714464974%5D%2C%20%5B-6.182858467102051%2C%20106.9333267211914%2C%200.935250670346471%5D%2C%20%5B-6.219914436340332%2C%20106.78014373779297%2C%201.5079823428929948%5D%2C%20%5B-6.224953651428223%2C%20106.86451721191406%2C%200.7539911714464974%5D%2C%20%5B-6.167356491088867%2C%20106.78822326660156%2C%200.7539911714464974%5D%2C%20%5B-6.221529960632324%2C%20106.78386688232422%2C%200.6466228447395053%5D%2C%20%5B-6.224481105804443%2C%20106.85250854492188%2C%201.2063858743143958%5D%2C%20%5B-6.27968168258667%2C%20106.66190338134766%2C%200.7539911714464974%5D%2C%20%5B-6.195028305053711%2C%20106.7009048461914%2C%200.5881131281095082%5D%2C%20%5B-6.578363418579102%2C%20106.75411224365234%2C%201.5079823428929948%5D%2C%20%5B-6.266933917999268%2C%20106.8158187866211%2C%200.7539911714464974%5D%2C%20%5B-6.246246814727783%2C%20106.91790008544922%2C%200.46641892887755987%5D%2C%20%5B-6.306710720062256%2C%20106.80677032470703%2C%201.2063858743143958%5D%2C%20%5B-6.099757194519043%2C%20106.13520050048828%2C%200.5881131281095082%5D%2C%20%5B-6.2753801345825195%2C%20106.82077026367188%2C%200.5881131281095082%5D%2C%20%5B-6.200515270233154%2C%20106.81407165527344%2C%200.5881131281095082%5D%2C%20%5B-6.150259017944336%2C%20106.84086608886719%2C%201.5079823428929948%5D%2C%20%5B-6.244290351867676%2C%20106.89053344726562%2C%202.058848274343818%5D%2C%20%5B-6.254724025726318%2C%20106.79054260253906%2C%201.3571841086036953%5D%2C%20%5B-6.182466983795166%2C%20106.7813949584961%2C%201.5079823428929948%5D%2C%20%5B-6.117778301239014%2C%20106.87198638916016%2C%200.4828559315254718%5D%2C%20%5B-6.247932434082031%2C%20106.97634887695312%2C%201.4549013287576853%5D%2C%20%5B-6.158807277679443%2C%20106.79174041748047%2C%200.7539911714464974%5D%2C%20%5B-6.170586109161377%2C%20106.78868865966797%2C%200.7539911714464974%5D%2C%20%5B-6.224642276763916%2C%20106.55423736572266%2C%200.5881131281095082%5D%2C%20%5B-6.400986671447754%2C%20106.87784576416016%2C%200.5881131281095082%5D%2C%20%5B-6.22794771194458%2C%20106.790283203125%2C%201.4549013287576853%5D%2C%20%5B-6.22510290145874%2C%20106.87822723388672%2C%200.7539911714464974%5D%2C%20%5B-6.163595199584961%2C%20106.77584838867188%2C%200.7539911714464974%5D%2C%20%5B-6.240826606750488%2C%20106.7561264038086%2C%200.503666089583144%5D%2C%20%5B-6.215243339538574%2C%20106.8659439086914%2C%200.6656234113302144%5D%2C%20%5B-6.192967414855957%2C%20106.88130187988281%2C%200.5881131281095082%5D%2C%20%5B-6.255667686462402%2C%20106.85041046142578%2C%201.3571841086036953%5D%2C%20%5B-6.185565948486328%2C%20106.7969970703125%2C%200.5881131281095082%5D%2C%20%5B-6.309814453125%2C%20106.92747497558594%2C%200.6031929371571979%5D%2C%20%5B-6.242480278015137%2C%20106.70882415771484%2C%200.6862827820833399%5D%2C%20%5B-6.118398189544678%2C%20106.80343627929688%2C%200.7561023375225537%5D%2C%20%5B-6.108862400054932%2C%20106.9090805053711%2C%201.658780577182294%5D%2C%20%5B-6.409856796264648%2C%20106.8169174194336%2C%200.7539911714464974%5D%2C%20%5B-6.22638463973999%2C%20106.84742736816406%2C%201.5079823428929948%5D%2C%20%5B-6.301369667053223%2C%20106.71508026123047%2C%200.6466228447395053%5D%2C%20%5B-6.285763263702393%2C%20106.8188247680664%2C%201.5833814600376446%5D%2C%20%5B-6.330445289611816%2C%20107.3297348022461%2C%201.778212751127438%5D%2C%20%5B-6.2680888175964355%2C%20107.23006439208984%2C%200.5881131281095082%5D%2C%20%5B-6.214225769042969%2C%20106.9396743774414%2C%201.5079823428929948%5D%2C%20%5B-6.209407329559326%2C%20106.80458068847656%2C%201.5079823428929948%5D%2C%20%5B-6.305821418762207%2C%20106.88854217529297%2C%200.5881131281095082%5D%2C%20%5B-6.266672134399414%2C%20106.76611328125%2C%200.7539911714464974%5D%2C%20%5B-6.128860950469971%2C%20106.9649658203125%2C%200.7539911714464974%5D%2C%20%5B-6.314701557159424%2C%20107.06901550292969%2C%200.5881131281095082%5D%2C%20%5B-6.157407283782959%2C%20106.84361267089844%2C%201.8095788114715936%5D%2C%20%5B-6.169900417327881%2C%20106.74932861328125%2C%200.5881131281095082%5D%2C%20%5B-6.328810691833496%2C%20106.69782257080078%2C%200.5881131281095082%5D%2C%20%5B-6.331069469451904%2C%20106.82917785644531%2C%201.5079823428929948%5D%2C%20%5B-6.182346820831299%2C%20106.81334686279297%2C%200.5881131281095082%5D%2C%20%5B-6.378782272338867%2C%20106.83663177490234%2C%200.7539911714464974%5D%2C%20%5B-6.155505180358887%2C%20106.79315948486328%2C%200.7539911714464974%5D%2C%20%5B-6.2029595375061035%2C%20106.84937286376953%2C%200.47456205452579286%5D%2C%20%5B-6.2076544761657715%2C%20106.84272766113281%2C%200.6862827820833399%5D%2C%20%5B-6.589787483215332%2C%20106.77377319335938%2C%201.5079823428929948%5D%2C%20%5B-6.60597038269043%2C%20106.80614471435547%2C%201.5079823428929948%5D%2C%20%5B-6.2481160163879395%2C%20106.97895812988281%2C%201.4549013287576853%5D%2C%20%5B-6.137914657592773%2C%20106.87208557128906%2C%200.7539911714464974%5D%2C%20%5B-6.185918807983398%2C%20106.60873413085938%2C%200.7539911714464974%5D%2C%20%5B-6.207436561584473%2C%20106.62810516357422%2C%200.7539911714464974%5D%2C%20%5B-6.190083980560303%2C%20106.84479522705078%2C%200.5881131281095082%5D%2C%20%5B-6.203665256500244%2C%20106.62752532958984%2C%200.7539911714464974%5D%2C%20%5B-6.195243835449219%2C%20106.61668395996094%2C%200.7539911714464974%5D%2C%20%5B-6.2696027755737305%2C%20106.73795318603516%2C%200.7539911714464974%5D%2C%20%5B-6.190671443939209%2C%20106.75972747802734%2C%200.7539911714464974%5D%2C%20%5B-6.357873439788818%2C%20106.81119537353516%2C%200.5881131281095082%5D%2C%20%5B-6.602012634277344%2C%20106.80308532714844%2C%200.4839115505166008%5D%2C%20%5B-6.247241497039795%2C%20106.87635803222656%2C%202.2876092256736653%5D%2C%20%5B-6.239102363586426%2C%20106.80716705322266%2C%200.7812856869430869%5D%2C%20%5B-6.076578140258789%2C%20106.12533569335938%2C%200.5881131281095082%5D%2C%20%5B-6.202630519866943%2C%20106.71892547607422%2C%200.9699342671092579%5D%2C%20%5B-6.218106269836426%2C%20106.94296264648438%2C%201.5079823428929948%5D%2C%20%5B-6.21873140335083%2C%20106.77843475341797%2C%200.4523947028678984%5D%2C%20%5B-6.228438377380371%2C%20106.91641998291016%2C%200.4523947028678984%5D%2C%20%5B-6.281189441680908%2C%20106.74668884277344%2C%201.5079823428929948%5D%2C%20%5B-6.252100944519043%2C%20106.99913024902344%2C%201.5079823428929948%5D%2C%20%5B-6.195512294769287%2C%20106.62800598144531%2C%200.7539911714464974%5D%2C%20%5B-6.154774188995361%2C%20106.72972106933594%2C%200.4523947028678984%5D%2C%20%5B-6.209883213043213%2C%20106.61922454833984%2C%200.5881131281095082%5D%2C%20%5B-6.209842681884766%2C%20106.80558776855469%2C%201.5079823428929948%5D%2C%20%5B-6.297850131988525%2C%20106.8086929321289%2C%202.058848274343818%5D%2C%20%5B-6.3006672859191895%2C%20106.8289794921875%2C%201.2063858743143958%5D%2C%20%5B-6.26446533203125%2C%20106.64054107666016%2C%200.7539911714464974%5D%2C%20%5B-6.227291107177734%2C%20106.88175964355469%2C%200.4523947028678984%5D%2C%20%5B-6.220086097717285%2C%20106.53096771240234%2C%200.5881131281095082%5D%2C%20%5B-6.189797401428223%2C%20106.76641082763672%2C%200.7539911714464974%5D%2C%20%5B-6.270735263824463%2C%20106.75911712646484%2C%200.5115076046691829%5D%2C%20%5B-6.200896263122559%2C%20106.83684539794922%2C%201.4549013287576853%5D%2C%20%5B-6.216778755187988%2C%20106.93080139160156%2C%201.501196410844984%5D%2C%20%5B-6.2734551429748535%2C%20106.72340393066406%2C%200.7539911714464974%5D%2C%20%5B-6.258110523223877%2C%20106.86272430419922%2C%200.5624774167753351%5D%2C%20%5B-6.304059028625488%2C%20107.0266342163086%2C%200.5552390868605837%5D%2C%20%5B-6.224459648132324%2C%20106.86091613769531%2C%200.7539911714464974%5D%2C%20%5B-6.220600128173828%2C%20106.78148651123047%2C%200.5881131281095082%5D%2C%20%5B-6.565683364868164%2C%20106.84461212158203%2C%200.9047894057357968%5D%2C%20%5B-6.241106033325195%2C%20106.75565338134766%2C%200.4523947028678984%5D%2C%20%5B-6.285554885864258%2C%20106.63897705078125%2C%200.7539911714464974%5D%2C%20%5B-6.182048797607422%2C%20106.79691314697266%2C%201.5079823428929948%5D%2C%20%5B-6.266146183013916%2C%20106.76903533935547%2C%200.8082785559243816%5D%2C%20%5B-6.186788082122803%2C%20106.72478485107422%2C%200.4523947028678984%5D%2C%20%5B-6.334882736206055%2C%20106.82743072509766%2C%201.5079823428929948%5D%2C%20%5B-6.39546012878418%2C%20106.74319458007812%2C%204.825543497257583%5D%2C%20%5B-6.119312286376953%2C%20106.80355834960938%2C%200.9047894057357968%5D%2C%20%5B-6.206441879272461%2C%20106.83887481689453%2C%200.7539911714464974%5D%2C%20%5B-6.428538799285889%2C%20106.90617370605469%2C%200.7539911714464974%5D%2C%20%5B-6.25701904296875%2C%20106.66934967041016%2C%201.2063858743143958%5D%2C%20%5B-6.1821746826171875%2C%20106.8847427368164%2C%200.5881131281095082%5D%2C%20%5B-6.307072639465332%2C%20106.9383316040039%2C%200.46099019042977146%5D%2C%20%5B-6.33158016204834%2C%20106.83560943603516%2C%200.5881131281095082%5D%2C%20%5B-6.381455898284912%2C%20106.74655151367188%2C%202.4127717486287916%5D%2C%20%5B-6.219552993774414%2C%20106.95355224609375%2C%201.5079823428929948%5D%2C%20%5B-6.246915340423584%2C%20106.8064956665039%2C%200.7539911714464974%5D%2C%20%5B-6.236111164093018%2C%20106.756591796875%2C%200.7539911714464974%5D%2C%20%5B-6.5103912353515625%2C%20106.79498291015625%2C%200.899209844030361%5D%2C%20%5B-6.237839221954346%2C%20106.7627182006836%2C%201.5079823428929948%5D%2C%20%5B-6.237433910369873%2C%20106.62837219238281%2C%200.5881131281095082%5D%2C%20%5B-6.335579872131348%2C%20106.82842254638672%2C%201.5079823428929948%5D%2C%20%5B-6.193618297576904%2C%20106.89385223388672%2C%200.5881131281095082%5D%2C%20%5B-6.277021408081055%2C%20106.72347259521484%2C%201.5079823428929948%5D%2C%20%5B-6.183625221252441%2C%20106.92732238769531%2C%200.9397745771076771%5D%2C%20%5B-6.2218337059021%2C%20106.65567779541016%2C%202.1015243173095937%5D%2C%20%5B-6.280482292175293%2C%20106.69734191894531%2C%200.5881131281095082%5D%2C%20%5B-6.2043070793151855%2C%20106.8290023803711%2C%200.5881131281095082%5D%2C%20%5B-6.250628471374512%2C%20106.99964904785156%2C%200.4620457734677996%5D%2C%20%5B-6.191916465759277%2C%20106.97080993652344%2C%200.5881131281095082%5D%2C%20%5B-6.30498743057251%2C%20106.82443237304688%2C%200.9047894057357968%5D%2C%20%5B-6.25583553314209%2C%20106.84306335449219%2C%200.8743281411251227%5D%2C%20%5B-6.220767974853516%2C%20106.56818389892578%2C%200.5881131281095082%5D%2C%20%5B-6.191792011260986%2C%20106.80582427978516%2C%203.8797370684370316%5D%2C%20%5B-6.261838912963867%2C%20106.82588195800781%2C%200.5881131281095082%5D%2C%20%5B-6.242655277252197%2C%20106.71223449707031%2C%200.9150436615069855%5D%2C%20%5B-6.262417793273926%2C%20106.82365417480469%2C%200.4716968800208016%5D%2C%20%5B-6.181249141693115%2C%20106.71986389160156%2C%200.5881131281095082%5D%2C%20%5B-6.263483047485352%2C%20106.78388214111328%2C%200.7539911714464974%5D%2C%20%5B-6.320846080780029%2C%20106.7457275390625%2C%201.5079823428929948%5D%2C%20%5B-6.228875160217285%2C%20106.800048828125%2C%200.6031929371571979%5D%2C%20%5B-6.351515769958496%2C%20106.74964904785156%2C%200.4523947028678984%5D%2C%20%5B-6.5234832763671875%2C%20106.80016326904297%2C%201.3571841086036953%5D%2C%20%5B-6.237052917480469%2C%20106.78751373291016%2C%200.5881131281095082%5D%2C%20%5B-6.230723857879639%2C%20106.89789581298828%2C%200.7539911714464974%5D%2C%20%5B-6.161985397338867%2C%20106.84465789794922%2C%200.475316027001627%5D%2C%20%5B-6.306778907775879%2C%20106.87969970703125%2C%200.6466228447395053%5D%2C%20%5B-6.2590742111206055%2C%20106.8286361694336%2C%200.5881131281095082%5D%2C%20%5B-6.237795829772949%2C%20106.76447296142578%2C%200.6031929371571979%5D%2C%20%5B-6.191899299621582%2C%20106.842041015625%2C%200.7539911714464974%5D%2C%20%5B-6.27025032043457%2C%20106.73066711425781%2C%200.7539911714464974%5D%2C%20%5B-6.277410507202148%2C%20106.85511016845703%2C%200.5881131281095082%5D%2C%20%5B-6.169287204742432%2C%20106.78807067871094%2C%201.2063858743143958%5D%2C%20%5B-6.256129741668701%2C%20106.76074981689453%2C%200.7539911714464974%5D%2C%20%5B-6.314088821411133%2C%20106.90874481201172%2C%200.5881131281095082%5D%2C%20%5B-6.240388870239258%2C%20106.9930648803711%2C%201.5079823428929948%5D%2C%20%5B-6.138499736785889%2C%20106.81450653076172%2C%200.4523947028678984%5D%2C%20%5B-6.110463619232178%2C%20106.72795867919922%2C%201.5079823428929948%5D%2C%20%5B-6.051469326019287%2C%20106.10595703125%2C%200.5881131281095082%5D%2C%20%5B-6.243608474731445%2C%20106.84358215332031%2C%201.2590144546298636%5D%2C%20%5B-6.217818737030029%2C%20106.81468200683594%2C%200.6466228447395053%5D%2C%20%5B-6.3957319259643555%2C%20106.78117370605469%2C%200.9047894057357968%5D%2C%20%5B-6.174026012420654%2C%20106.85192108154297%2C%200.9047894057357968%5D%2C%20%5B-6.275249004364014%2C%20106.91273498535156%2C%201.5079823428929948%5D%2C%20%5B-6.196998119354248%2C%20106.87482452392578%2C%200.7539911714464974%5D%2C%20%5B-6.189761161804199%2C%20106.976806640625%2C%200.5881131281095082%5D%5D%2C%0A%20%20%20%20%20%20%20%20%20%20%20%20%20%20%20%20%7B%0A%20%20%20%20%20%20%20%20%20%20%20%20%20%20%20%20%20%20%20%20minOpacity%3A%200.5%2C%0A%20%20%20%20%20%20%20%20%20%20%20%20%20%20%20%20%20%20%20%20maxZoom%3A%2018%2C%0A%20%20%20%20%20%20%20%20%20%20%20%20%20%20%20%20%20%20%20%20max%3A%201.0%2C%0A%20%20%20%20%20%20%20%20%20%20%20%20%20%20%20%20%20%20%20%20radius%3A%2025%2C%0A%20%20%20%20%20%20%20%20%20%20%20%20%20%20%20%20%20%20%20%20blur%3A%2015%2C%0A%20%20%20%20%20%20%20%20%20%20%20%20%20%20%20%20%20%20%20%20gradient%3A%20%7B%220.5%22%3A%20%22Navy%22%2C%20%220.60%22%3A%20%22Blue%22%2C%20%220.85%22%3A%20%22Green%22%2C%20%220.95%22%3A%20%22Yellow%22%2C%20%220.99%22%3A%20%22Red%22%7D%0A%20%20%20%20%20%20%20%20%20%20%20%20%20%20%20%20%20%20%20%20%7D%29%0A%20%20%20%20%20%20%20%20%20%20%20%20%20%20%20%20.addTo%28map_bc568d7e38274d4e907d0a872d760d21%29%3B%0A%20%20%20%20%20%20%20%20%0A%20%20%20%20%0A%20%20%20%20%20%20%20%20%20%20%20%20%20%20%20%20var%20poly_line_3fa0efec9537423da2f3e7c42129ab79%20%3D%20L.polyline%28%0A%20%20%20%20%20%20%20%20%20%20%20%20%20%20%20%20%20%20%20%20%5B%5B-6.08838%2C%20106.72357%5D%2C%20%5B-6.09611%2C%20106.68944%5D%2C%20%5B-6.16894%2C%20106.68992%5D%2C%20%5B-6.19557%2C%20106.72288%5D%2C%20%5B-6.22219%2C%20106.72013%5D%2C%20%5B-6.23857%2C%20106.7476%5D%2C%20%5B-6.31543%2C%20106.77864%5D%2C%20%5B-6.31475%2C%20106.80885%5D%2C%20%5B-6.36184%2C%20106.79237%5D%2C%20%5B-6.33659%2C%20106.85005%5D%2C%20%5B-6.37003%2C%20106.89399%5D%2C%20%5B-6.35979%2C%20106.91871%5D%2C%20%5B-6.29905%2C%20106.91871%5D%2C%20%5B-6.26083%2C%20106.90223%5D%2C%20%5B-6.25196%2C%20106.94206%5D%2C%20%5B-6.211%2C%20106.96266%5D%2C%20%5B-6.09133%2C%20106.97097%5D%2C%20%5B-6.10021%2C%20106.88301%5D%2C%20%5B-6.12206%2C%20106.8116%5D%2C%20%5B-6.08838%2C%20106.72357%5D%5D%2C%0A%20%20%20%20%20%20%20%20%20%20%20%20%20%20%20%20%20%20%20%20%7B%0A%20%20%22bubblingMouseEvents%22%3A%20true%2C%0A%20%20%22color%22%3A%20%22%233388ff%22%2C%0A%20%20%22dashArray%22%3A%20null%2C%0A%20%20%22dashOffset%22%3A%20null%2C%0A%20%20%22fill%22%3A%20false%2C%0A%20%20%22fillColor%22%3A%20%22%233388ff%22%2C%0A%20%20%22fillOpacity%22%3A%200.2%2C%0A%20%20%22fillRule%22%3A%20%22evenodd%22%2C%0A%20%20%22lineCap%22%3A%20%22round%22%2C%0A%20%20%22lineJoin%22%3A%20%22round%22%2C%0A%20%20%22noClip%22%3A%20false%2C%0A%20%20%22opacity%22%3A%201.0%2C%0A%20%20%22smoothFactor%22%3A%201.0%2C%0A%20%20%22stroke%22%3A%20true%2C%0A%20%20%22weight%22%3A%205%0A%7D%0A%20%20%20%20%20%20%20%20%20%20%20%20%20%20%20%20%20%20%20%20%29%0A%20%20%20%20%20%20%20%20%20%20%20%20%20%20%20%20%20%20%20%20.addTo%28map_bc568d7e38274d4e907d0a872d760d21%29%3B%0A%20%20%20%20%20%20%20%20%20%20%20%20%0A%3C/script%3E onload=\"this.contentDocument.open();this.contentDocument.write(    decodeURIComponent(this.getAttribute('data-html')));this.contentDocument.close();\" allowfullscreen webkitallowfullscreen mozallowfullscreen></iframe></div></div>"
            ],
            "text/plain": [
              "<folium.folium.Map at 0x7fafaacb6bd0>"
            ]
          },
          "metadata": {},
          "execution_count": 117
        }
      ]
    },
    {
      "cell_type": "code",
      "source": [
        "\n",
        "incityacc = incity[incity.accuracy <= 20]\n",
        "outcityacc = outcity[outcity.accuracy <= 20]\n",
        "meanincityacc = incityacc['accuracy'].compute().mean()\n",
        "meanoutcityacc = outcityacc['accuracy'].compute().mean()\n",
        "\n",
        "print(f'Mean accuracy within city: {meanincityacc:.2f}')\n",
        "print(f'Mean accuracy outside city: {meanoutcityacc:.2f}')"
      ],
      "metadata": {
        "colab": {
          "base_uri": "https://localhost:8080/"
        },
        "id": "ZeWLH1HG3MWZ",
        "outputId": "aad8c44c-95ef-4e32-9fec-9a544f912118"
      },
      "execution_count": null,
      "outputs": [
        {
          "output_type": "stream",
          "name": "stdout",
          "text": [
            "Mean accuracy within city: 5.19\n",
            "Mean accuracy outside city: 5.67\n"
          ]
        }
      ]
    },
    {
      "cell_type": "code",
      "source": [
        "plt.xlim(0, 20)\n",
        "bins = [2,4,6,8,10,12,14,16,18,20]\n",
        "plt.ticklabel_format(style='plain')\n",
        "plt.hist(incity['accuracy'].compute(), rwidth = 0.75, bins = bins)\n",
        "\n",
        "plt.axvline(meanincityacc, color='k', linestyle='dashed', linewidth=1)\n",
        "min_ylim, max_ylim = plt.ylim()\n",
        "plt.title(\"Accuracy within Jakarta\")\n",
        "plt.xlabel(\"Accuracy\")\n",
        "plt.ylabel(\"Number of Pings\")\n",
        "\n",
        "plt.text(meanincityacc*1.1, max_ylim*0.9, 'Mean: {:.2f}'.format(meanincityacc))"
      ],
      "metadata": {
        "colab": {
          "base_uri": "https://localhost:8080/",
          "height": 312
        },
        "id": "coG_U3sJ5Q85",
        "outputId": "0fd73a0e-94c1-47c4-f7a6-2e3ac208eadf"
      },
      "execution_count": null,
      "outputs": [
        {
          "output_type": "execute_result",
          "data": {
            "text/plain": [
              "Text(5.714326572418213, 12398022.0, 'Mean: 5.19')"
            ]
          },
          "metadata": {},
          "execution_count": 112
        },
        {
          "output_type": "display_data",
          "data": {
            "image/png": "[encoded data removed]",
            "text/plain": [
              "<Figure size 432x288 with 1 Axes>"
            ]
          },
          "metadata": {
            "needs_background": "light"
          }
        }
      ]
    },
    {
      "cell_type": "code",
      "source": [
        "plt.xlim(0, 20)\n",
        "bins = [2,4,6,8,10,12,14,16,18,20]\n",
        "plt.ticklabel_format(style='plain')\n",
        "plt.hist(incity['accuracy'].compute(), rwidth = 0.75, bins = bins)\n",
        "\n",
        "plt.axvline(meanoutcityacc, color='k', linestyle='dashed', linewidth=1)\n",
        "min_ylim, max_ylim = plt.ylim()\n",
        "plt.title(\"Accuracy outside Jakarta\")\n",
        "plt.xlabel(\"Accuracy\")\n",
        "plt.ylabel(\"Number of Pings\")\n",
        "\n",
        "plt.text(meanoutcityacc*1.1, max_ylim*0.9, 'Mean: {:.2f}'.format(meanoutcityacc))"
      ],
      "metadata": {
        "id": "OFBe4rDF5TfN",
        "colab": {
          "base_uri": "https://localhost:8080/",
          "height": 312
        },
        "outputId": "45a78898-0e33-48be-c8ed-90a569ea4604"
      },
      "execution_count": null,
      "outputs": [
        {
          "output_type": "execute_result",
          "data": {
            "text/plain": [
              "Text(6.235246086120606, 12398022.0, 'Mean: 5.67')"
            ]
          },
          "metadata": {},
          "execution_count": 113
        },
        {
          "output_type": "display_data",
          "data": {
            "image/png": "[encoded data removed]",
            "text/plain": [
              "<Figure size 432x288 with 1 Axes>"
            ]
          },
          "metadata": {
            "needs_background": "light"
          }
        }
      ]
    },
    {
      "cell_type": "markdown",
      "source": [
        "The differences in accuracy within the cities and outside the city is significant at a 99% confidence level. "
      ],
      "metadata": {
        "id": "CAGBxqdQ14XH"
      }
    },
    {
      "cell_type": "code",
      "source": [
        "from researchpy import ttest\n",
        "ttest(group1 = incity[\"accuracy\"].compute(), group2 = outcity[\"accuracy\"].compute(), group1_name = \"Accuracy within Jakarta\", group2_name = \"Accuracy outside Jakarta\")"
      ],
      "metadata": {
        "colab": {
          "base_uri": "https://localhost:8080/"
        },
        "id": "fbfkeGHTvzQS",
        "outputId": "427e8725-e7c5-45b0-f914-06655ec8d650"
      },
      "execution_count": null,
      "outputs": [
        {
          "output_type": "execute_result",
          "data": {
            "text/plain": [
              "(                   Variable           N  ...  95% Conf.  Interval\n",
              " 0   Accuracy within Jakarta  36983349.0  ...   5.592593  5.608710\n",
              " 1  Accuracy outside Jakarta   8224410.0  ...   5.934703  5.940312\n",
              " 2                  combined  45207759.0  ...   5.239774  5.252999\n",
              " \n",
              " [3 rows x 7 columns],\n",
              "                                   Independent t-test       results\n",
              " 0  Difference (Accuracy within Jakarta - Accuracy... -3.369000e-01\n",
              " 1                              Degrees of freedom =   4.520776e+07\n",
              " 2                                               t =   7.215150e+01\n",
              " 3                           Two side test p value =   0.000000e+00\n",
              " 4                          Difference < 0 p value =   1.000000e+00\n",
              " 5                          Difference > 0 p value =   0.000000e+00\n",
              " 6                                       Cohen's d =  -1.490000e-02\n",
              " 7                                       Hedge's g =  -1.490000e-02\n",
              " 8                                   Glass's delta =  -1.350000e-02\n",
              " 9                                     Pearson's r =   1.070000e-02)"
            ]
          },
          "metadata": {},
          "execution_count": 114
        }
      ]
    },
    {
      "cell_type": "markdown",
      "source": [
        ""
      ],
      "metadata": {
        "id": "ljhRqv0M2JpT"
      }
    },
    {
      "cell_type": "markdown",
      "source": [
        "**Possible Impact on ETA:**\n",
        "\n",
        "Given that the  data points outside the city have a poorer GPS accuracy, the ETA estimations outside the city might have a larger margin for error, resulting in underestimations in arrival timings.\n",
        "\n",
        "**Solution:**\n",
        "\n",
        "Provide a disclaimer to the customer about the possible margin of error in timing, calculated based on the last ping and cumulative effect of this inaccuracy since the last ping. This is to help customers avoid disappointment by letting them known about the margin for error in the ETA. \n",
        "\n",
        "For easier comprehension of the disclaimer, the margin for error should be presented in maximum and minumum minutes deviation from the expected time of arrival. \n",
        "\n",
        "**Areas for further study:**\n",
        "\n",
        "The reason behind this drop in GPS accuracy outside the city has to be explored, as generally a drop is expected within cities. This is as cities are more likely to have obstructive buildings that block GPS signals. \n",
        "\n",
        "One possible reason could be natural formations like Mount Salak and Mount Pangrango, which might be blocking GPS signals near the outskirts of Bogor. Another possible reason might have to do with tree cover due to extensive plantations or cloud cover outside the city.\n",
        "\n",
        "By looking into this, Grab can explore possible options to resolve this issue by tackling its root cause. This is important as the current solution only works around the issue."
      ],
      "metadata": {
        "id": "2KukTShg2J94"
      }
    }
  ]
}
